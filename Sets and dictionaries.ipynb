{
 "cells": [
  {
   "cell_type": "markdown",
   "id": "4fd5a6e4",
   "metadata": {},
   "source": [
    "### Dictionaries\n"
   ]
  },
  {
   "cell_type": "code",
   "execution_count": 1,
   "id": "ca1dd6f8",
   "metadata": {
    "ExecuteTime": {
     "end_time": "2022-09-10T11:39:14.498107Z",
     "start_time": "2022-09-10T11:39:14.478244Z"
    }
   },
   "outputs": [
    {
     "name": "stdout",
     "output_type": "stream",
     "text": [
      "Ford Fiesta Ghia 1.4\n",
      "Yamaha XV250\n",
      "None\n"
     ]
    }
   ],
   "source": [
    "vehicles = {\n",
    "    'dream': 'Honda 250T',\n",
    "    'roadster': 'BMW R1100',\n",
    "    'er5': 'Kawasaki ER5',\n",
    "    'can-am': 'Bombardier Can-Am 250',\n",
    "    'virago': 'Yamaha XV250',\n",
    "    'tenere': 'Yamaha XT650',\n",
    "    'jimny': 'Suzuki Jimny 1.5',\n",
    "    'fiesta': 'Ford Fiesta Ghia 1.4',\n",
    "}\n",
    "\n",
    "my_car = vehicles['fiesta']\n",
    "print(my_car)\n",
    "\n",
    "commuter = vehicles['virago']\n",
    "print(commuter)\n",
    "\n",
    "learner = vehicles.get(\"ER5\")\n",
    "print(learner)\n"
   ]
  },
  {
   "cell_type": "code",
   "execution_count": 2,
   "id": "6cc0aaac",
   "metadata": {
    "ExecuteTime": {
     "end_time": "2022-09-10T11:39:16.851779Z",
     "start_time": "2022-09-10T11:39:16.845789Z"
    }
   },
   "outputs": [
    {
     "name": "stdout",
     "output_type": "stream",
     "text": [
      "dream, Honda 250T\n",
      "roadster, BMW R1100\n",
      "er5, Kawasaki ER5\n",
      "can-am, Bombardier Can-Am 250\n",
      "virago, Yamaha XV250\n",
      "tenere, Yamaha XT650\n",
      "jimny, Suzuki Jimny 1.5\n",
      "fiesta, Ford Fiesta Ghia 1.4\n"
     ]
    }
   ],
   "source": [
    "# iterating over a dictionaries\n",
    "vehicles = {\n",
    "    'dream': 'Honda 250T',\n",
    "    'roadster': 'BMW R1100',\n",
    "    'er5': 'Kawasaki ER5',\n",
    "    'can-am': 'Bombardier Can-Am 250',\n",
    "    'virago': 'Yamaha XV250',\n",
    "    'tenere': 'Yamaha XT650',\n",
    "    'jimny': 'Suzuki Jimny 1.5',\n",
    "    'fiesta': 'Ford Fiesta Ghia 1.4',\n",
    "}\n",
    "for key, value in vehicles.items():\n",
    "    print(key, value, sep=\", \")\n"
   ]
  },
  {
   "cell_type": "code",
   "execution_count": 3,
   "id": "462e0071",
   "metadata": {
    "ExecuteTime": {
     "end_time": "2022-09-10T11:39:23.639199Z",
     "start_time": "2022-09-10T11:39:23.635198Z"
    }
   },
   "outputs": [
    {
     "name": "stdout",
     "output_type": "stream",
     "text": [
      "dream, Honda 250T\n",
      "roadster, BMW R1100\n",
      "er5, Kawasaki ER5\n",
      "can-am, Bombardier Can-Am 250\n",
      "virago, Yamaha XV250\n",
      "tenere, Yamaha XT650\n",
      "jimny, Suzuki Jimny 1.5\n",
      "fiesta, Ford Fiesta Ghia 1.4\n",
      "starfighter, Lockheed F-104\n",
      "learjet, Bombardier Learjet 75\n",
      "toy, glider\n"
     ]
    }
   ],
   "source": [
    "# adding item to a dictionaries\n",
    "vehicles = {\n",
    "    'dream': 'Honda 250T',\n",
    "    'roadster': 'BMW R1100',\n",
    "    'er5': 'Kawasaki ER5',\n",
    "    'can-am': 'Bombardier Can-Am 250',\n",
    "    'virago': 'Yamaha XV250',\n",
    "    'tenere': 'Yamaha XT650',\n",
    "    'jimny': 'Suzuki Jimny 1.5',\n",
    "    'fiesta': 'Ford Fiesta Ghia 1.4',\n",
    "}\n",
    "\n",
    "vehicles[\"starfighter\"] = \"Lockheed F-104\"\n",
    "vehicles[\"learjet\"] = \"Bombardier Learjet 75\"\n",
    "vehicles[\"toy\"] = \"glider\"\n",
    "\n",
    "for key, value in vehicles.items():\n",
    "    print(key, value, sep=\", \")\n"
   ]
  },
  {
   "cell_type": "code",
   "execution_count": 4,
   "id": "46e6ed90",
   "metadata": {
    "ExecuteTime": {
     "end_time": "2022-09-10T11:39:25.334684Z",
     "start_time": "2022-09-10T11:39:25.322676Z"
    }
   },
   "outputs": [
    {
     "name": "stdout",
     "output_type": "stream",
     "text": [
      "dream, Honda 250T\n",
      "er5, Kawasaki ER5\n",
      "can-am, Bombardier Can-Am 250\n",
      "virago, Yamaha XV535\n",
      "tenere, Yamaha XT650\n",
      "jimny, Suzuki Jimny 1.5\n",
      "fiesta, Ford Fiesta Ghia 1.4\n",
      "roadster, Triumph Street Triple\n",
      "starfighter, Lockheed F-104\n",
      "learjet, Bombardier Learjet 75\n",
      "toy, glider\n"
     ]
    }
   ],
   "source": [
    "# changing values in dictionaries\n",
    "vehicles = {\n",
    "    'dream': 'Honda 250T',\n",
    "    'er5': 'Kawasaki ER5',\n",
    "    'can-am': 'Bombardier Can-Am 250',\n",
    "    'virago': 'Yamaha XV250',\n",
    "    'tenere': 'Yamaha XT650',\n",
    "    'jimny': 'Suzuki Jimny 1.5',\n",
    "    'fiesta': 'Ford Fiesta Ghia 1.4',\n",
    "    'roadster': 'Triumph Street Triple',\n",
    "}\n",
    "\n",
    "vehicles[\"starfighter\"] = \"Lockheed F-104\"\n",
    "vehicles[\"learjet\"] = \"Bombardier Learjet 75\"\n",
    "vehicles[\"toy\"] = \"glider\"\n",
    "\n",
    "# Upgrade the Virago\n",
    "vehicles[\"virago\"] = \"Yamaha XV535\"\n",
    "for key, value in vehicles.items():\n",
    "    print(key, value, sep=\", \")\n"
   ]
  },
  {
   "cell_type": "code",
   "execution_count": 5,
   "id": "5685294f",
   "metadata": {
    "ExecuteTime": {
     "end_time": "2022-09-10T11:39:26.390565Z",
     "start_time": "2022-09-10T11:39:26.380631Z"
    }
   },
   "outputs": [
    {
     "name": "stdout",
     "output_type": "stream",
     "text": [
      "You wish! Sell the Learjet and you might afford a racing car.\n",
      "Bombardier Learjet 75\n",
      "Yamaha XT650\n",
      "\n",
      "dream, Honda 250T\n",
      "er5, Kawasaki ER5\n",
      "can-am, Bombardier Can-Am 250\n",
      "virago, Yamaha XV535\n",
      "jimny, Suzuki Jimny 1.5\n",
      "fiesta, Ford Fiesta Ghia 1.4\n",
      "roadster, Triumph Street Triple\n",
      "toy, glider\n"
     ]
    }
   ],
   "source": [
    "# removing items\n",
    "vehicles = {\n",
    "    'dream': 'Honda 250T',\n",
    "    'er5': 'Kawasaki ER5',\n",
    "    'can-am': 'Bombardier Can-Am 250',\n",
    "    'virago': 'Yamaha XV250',\n",
    "    'tenere': 'Yamaha XT650',\n",
    "    'jimny': 'Suzuki Jimny 1.5',\n",
    "    'fiesta': 'Ford Fiesta Ghia 1.4',\n",
    "    'roadster': 'Triumph Street Triple',\n",
    "}\n",
    "\n",
    "vehicles[\"starfighter\"] = \"Lockheed F-104\"\n",
    "vehicles[\"learjet\"] = \"Bombardier Learjet 75\"\n",
    "vehicles[\"toy\"] = \"glider\"\n",
    "\n",
    "# Upgrade the Virago\n",
    "vehicles[\"virago\"] = \"Yamaha XV535\"\n",
    "\n",
    "del vehicles[\"starfighter\"]\n",
    "# del vehicles[\"f1\"]\n",
    "result = vehicles.pop(\"f1\", \"You wish! Sell the Learjet and you might afford a racing car.\")\n",
    "print(result)\n",
    "plane = vehicles.pop(\"learjet\")\n",
    "print(plane)\n",
    "\n",
    "bike = vehicles.pop(\"tenere\", \"not present\")\n",
    "print(bike)\n",
    "print()\n",
    "\n",
    "for key, value in vehicles.items():\n",
    "    print(key, value, sep=\", \")\n"
   ]
  },
  {
   "cell_type": "code",
   "execution_count": 6,
   "id": "a5a89b20",
   "metadata": {
    "ExecuteTime": {
     "end_time": "2022-09-10T11:39:44.741658Z",
     "start_time": "2022-09-10T11:39:28.480024Z"
    }
   },
   "outputs": [
    {
     "name": "stdout",
     "output_type": "stream",
     "text": [
      "> 2\n",
      "Adding monitor\n",
      "> 5\n",
      "Adding hdmi cable\n",
      "> 5\n",
      "Adding hdmi cable\n",
      "> 0\n"
     ]
    }
   ],
   "source": [
    "# using in function in dict\n",
    "available_parts = {\"1\": \"computer\",\n",
    "                   \"2\": \"monitor\",\n",
    "                   \"3\": \"keyboard\",\n",
    "                   \"4\": \"mouse\",\n",
    "                   \"5\": \"hdmi cable\",\n",
    "                   \"6\": \"dvd drive\",\n",
    "                   }\n",
    "\n",
    "current_choice = None\n",
    "while current_choice != \"0\":\n",
    "    if current_choice in available_parts:\n",
    "        chosen_part = available_parts[current_choice]\n",
    "        print(f\"Adding {chosen_part}\")\n",
    "\n",
    "    current_choice = input(\"> \")\n"
   ]
  },
  {
   "cell_type": "code",
   "execution_count": 7,
   "id": "358d52cd",
   "metadata": {
    "ExecuteTime": {
     "end_time": "2022-09-10T11:39:56.629920Z",
     "start_time": "2022-09-10T11:39:49.340905Z"
    }
   },
   "outputs": [
    {
     "name": "stdout",
     "output_type": "stream",
     "text": [
      "Please add options from the list\n",
      "1: computer\n",
      "2: monitor\n",
      "3: keyboard\n",
      "4: mouse\n",
      "5: hdmi cable\n",
      "6: dvd drive\n",
      "0: to finish\n",
      "> 0\n"
     ]
    }
   ],
   "source": [
    "available_parts = {\"1\": \"computer\",\n",
    "                   \"2\": \"monitor\",\n",
    "                   \"3\": \"keyboard\",\n",
    "                   \"4\": \"mouse\",\n",
    "                   \"5\": \"hdmi cable\",\n",
    "                   \"6\": \"dvd drive\",\n",
    "                   }\n",
    "\n",
    "current_choice = None\n",
    "while current_choice != \"0\":\n",
    "    if current_choice in available_parts:\n",
    "        chosen_part = available_parts[current_choice]\n",
    "        print(f\"Adding {chosen_part}\")\n",
    "    else:\n",
    "        print(\"Please add options from the list\")\n",
    "        for key, value in available_parts.items():\n",
    "            print(f\"{key}: {value}\")\n",
    "        print(\"0: to finish\")\n",
    "\n",
    "    current_choice = input(\"> \")\n",
    "\n",
    "    "
   ]
  },
  {
   "cell_type": "code",
   "execution_count": 8,
   "id": "152b4700",
   "metadata": {
    "ExecuteTime": {
     "end_time": "2022-09-10T11:40:20.584883Z",
     "start_time": "2022-09-10T11:40:12.487054Z"
    }
   },
   "outputs": [
    {
     "name": "stdout",
     "output_type": "stream",
     "text": [
      "['1', '2', '3', '4', '5', '6']\n",
      "Please add options from the list below:\n",
      "1: computer\n",
      "2: dvd drive\n",
      "3: hdmi cable\n",
      "4: keyboard\n",
      "5: monitor\n",
      "6: mouse\n",
      "0: to finish\n",
      "0\n",
      "[]\n"
     ]
    }
   ],
   "source": [
    "# list in dictionary\n",
    "available_parts = [\"computer\",\n",
    "                   \"monitor\",\n",
    "                   \"keyboard\",\n",
    "                   \"mouse\",\n",
    "                   \"hdmi cable\",\n",
    "                   \"dvd drive\",\n",
    "                   ]\n",
    "# valid_choices = [str(i) for i in range(1, len(available_parts) + 1)]\n",
    "valid_choices = []\n",
    "for i in range(1, len(available_parts) + 1):\n",
    "    valid_choices.append(str(i))\n",
    "print(valid_choices)\n",
    "current_choice = '-'\n",
    "computer_parts = []  # create an empty list\n",
    "\n",
    "available_parts.sort()\n",
    "\n",
    "while current_choice != '0':\n",
    "    if current_choice in valid_choices:\n",
    "        index = int(current_choice) - 1\n",
    "        chosen_part = available_parts[index]\n",
    "        if chosen_part in computer_parts:\n",
    "            # it's already in, so remove it\n",
    "            print(\"Removing {}\".format(current_choice))\n",
    "            computer_parts.remove(chosen_part)\n",
    "        else:\n",
    "            print(\"Adding {}\".format(current_choice))\n",
    "            computer_parts.append(chosen_part)\n",
    "        print(\"Your list now contains: {}\"\n",
    "              .format(computer_parts))\n",
    "    else:\n",
    "        print(\"Please add options from the list below:\")\n",
    "        for number, part in enumerate(available_parts):\n",
    "            print(\"{0}: {1}\".format(number + 1, part))\n",
    "        print(\"0: to finish\")\n",
    "\n",
    "    current_choice = input()\n",
    "\n",
    "print(computer_parts)"
   ]
  },
  {
   "cell_type": "code",
   "execution_count": 9,
   "id": "1293becc",
   "metadata": {
    "ExecuteTime": {
     "end_time": "2022-09-10T11:40:50.377223Z",
     "start_time": "2022-09-10T11:40:50.366709Z"
    }
   },
   "outputs": [],
   "source": [
    "# samrt fridge\n",
    "pantry = {\n",
    "    \"chicken\": 500,\n",
    "    \"lemon\": 2,\n",
    "    \"cumin\": 24,\n",
    "    \"paprika\": 18,\n",
    "    \"chilli powder\": 7,\n",
    "    \"yogurt\": 300,\n",
    "    \"oil\": 450,\n",
    "    \"onion\": 5,\n",
    "    \"garlic\": 9,\n",
    "    \"ginger\": 2,\n",
    "    \"tomato puree\": 125,\n",
    "    \"almonds\": 75,\n",
    "    \"rice\": 500,\n",
    "    \"coriander\": 20,\n",
    "    \"lime\": 3,\n",
    "    \"pepper\": 8,\n",
    "    \"egg\": 6,\n",
    "    \"pizza\": 2,\n",
    "    \"spam\": 1,\n",
    "}\n",
    "\n",
    "recipes = {\n",
    "    \"Butter chicken\": [\n",
    "        \"chicken\",\n",
    "        \"lemon\",\n",
    "        \"cumin\",\n",
    "        \"paprika\",\n",
    "        \"chilli powder\",\n",
    "        \"yogurt\",\n",
    "        \"oil\",\n",
    "        \"onion\",\n",
    "        \"garlic\",\n",
    "        \"ginger\",\n",
    "        \"tomato puree\",\n",
    "        \"almonds\",\n",
    "        \"rice\",\n",
    "        \"coriander\",\n",
    "        \"lime\",\n",
    "    ],\n",
    "    \"Chicken and chips\": [\n",
    "        \"chicken\",\n",
    "        \"potatoes\",\n",
    "        \"salt\",\n",
    "        \"malt vinegar\",\n",
    "    ],\n",
    "    \"Pizza\": [\n",
    "        \"pizza\",\n",
    "    ],\n",
    "    \"Egg sandwich\": [\n",
    "        \"egg\",\n",
    "        \"bread\",\n",
    "        \"butter\",\n",
    "    ],\n",
    "    \"Beans on toast\": [\n",
    "        \"beans\",\n",
    "        \"bread\",\n",
    "    ],\n",
    "    \"Spam a la tin\": [\n",
    "        \"spam\",\n",
    "        \"tin opener\",\n",
    "        \"spoon\",\n",
    "    ],\n",
    "}\n"
   ]
  },
  {
   "cell_type": "code",
   "execution_count": 10,
   "id": "23dd3f1b",
   "metadata": {
    "ExecuteTime": {
     "end_time": "2022-09-10T11:41:01.835801Z",
     "start_time": "2022-09-10T11:40:58.710012Z"
    }
   },
   "outputs": [
    {
     "name": "stdout",
     "output_type": "stream",
     "text": [
      "Please choose your recipe\n",
      "-------------------------\n",
      "1 - Butter chicken\n",
      "2 - Chicken and chips\n",
      "3 - Pizza\n",
      "4 - Egg sandwich\n",
      "5 - Beans on toast\n",
      "6 - Spam a la tin\n",
      ": 0\n"
     ]
    }
   ],
   "source": [
    "# using several dict\n",
    "#from contents import pantry, recipes\n",
    "\n",
    "# display_dict = {str(index + 1): meal for index, meal in enumerate(recipes)}\n",
    "display_dict = {}\n",
    "for index, key in enumerate(recipes):\n",
    "    display_dict[str(index + 1)] = key\n",
    "\n",
    "while True:\n",
    "    # Display a menu of the recipes we know how to cook\n",
    "    print(\"Please choose your recipe\")\n",
    "    print(\"-------------------------\")\n",
    "    for key, value in display_dict.items():\n",
    "        print(f\"{key} - {value}\")\n",
    "\n",
    "    choice = input(\": \")\n",
    "\n",
    "    if choice == \"0\":\n",
    "        break\n",
    "    elif choice in display_dict:\n",
    "        selected_item = display_dict[choice]\n",
    "        print(f\"You have selected {selected_item}\")\n",
    "        print(\"checking ingredients ...\")\n",
    "        ingredients = recipes[selected_item]\n",
    "        print(ingredients)\n"
   ]
  },
  {
   "cell_type": "code",
   "execution_count": null,
   "id": "e717390d",
   "metadata": {
    "ExecuteTime": {
     "start_time": "2022-08-24T11:06:37.225Z"
    }
   },
   "outputs": [],
   "source": [
    "#checking quantities\n",
    "recipes_tuple = {\n",
    "    \"Chicken and chips\": [\n",
    "        (\"chicken\", 100),\n",
    "        (\"potatoes\", 3),\n",
    "        (\"salt\", 1),\n",
    "        (\"malt vinegar\", 5),\n",
    "    ],\n",
    "}\n",
    "\n",
    "recipes_dict = {\n",
    "    \"Chicken and chips\": {\n",
    "        \"chicken\": 100,\n",
    "        \"potatoes\": 3,\n",
    "        \"salt\": 1,\n",
    "        \"malt vinegar\": 5,\n",
    "    },\n",
    "}\n",
    "\n",
    "# using tuples\n",
    "for recipe, ingredients in recipes_tuple.items():\n",
    "    print(f\"Ingredients for {recipe}\")\n",
    "    for ingredient, quantity in ingredients:  # ingredients is a tuple\n",
    "        print(ingredient, quantity, sep=', ')\n",
    "\n",
    "print()\n",
    "\n",
    "# using a dictionary\n",
    "for recipe, ingredients in recipes_dict.items():\n",
    "    print(f\"Ingredients for {recipe}\")\n",
    "    for ingredient, quantity in ingredients.items():  # ingredients is a dict\n",
    "        print(ingredient, quantity, sep=', ')\n"
   ]
  },
  {
   "cell_type": "code",
   "execution_count": null,
   "id": "606e43ad",
   "metadata": {
    "ExecuteTime": {
     "start_time": "2022-08-23T19:03:32.387Z"
    }
   },
   "outputs": [],
   "source": [
    "chicken_quantity = pantry.setdefault(\"chicken\", 0)\n",
    "print(f\"chicken: {chicken_quantity}\")\n",
    "\n",
    "beans_quantity = pantry.setdefault(\"beans\", 0)\n",
    "print(f\"beans: {beans_quantity}\")\n",
    "\n",
    "ketchup_quantity = pantry.get(\"ketchup\", 0)\n",
    "print(f\"ketchup: {ketchup_quantity}\")\n",
    "\n",
    "z_quantity = pantry.setdefault(\"zucchini\", \"eight\")\n",
    "print(f\"zucchini: {z_quantity}\")\n",
    "\n",
    "print()\n",
    "print(\"`pantry` now contains...\")\n",
    "\n",
    "for key, value in sorted(pantry.items()):\n",
    "    print(key, value)\n"
   ]
  },
  {
   "cell_type": "code",
   "execution_count": 11,
   "id": "0da82a87",
   "metadata": {
    "ExecuteTime": {
     "end_time": "2022-09-10T11:41:23.486562Z",
     "start_time": "2022-09-10T11:41:23.477430Z"
    }
   },
   "outputs": [
    {
     "name": "stdout",
     "output_type": "stream",
     "text": [
      "0 zero\n",
      "1 one\n",
      "2 two\n",
      "3 this is the new three\n",
      "4 four\n",
      "5 five\n",
      "6 six\n",
      "7 lucky seven\n",
      "8 eight\n",
      "9 nine\n",
      "10 ten\n",
      "\n",
      "0 chicken\n",
      "1 spam\n",
      "2 egg\n",
      "3 bread\n",
      "4 lemon\n",
      "5 five\n",
      "6 six\n",
      "7 lucky seven\n",
      "8 eight\n",
      "9 nine\n",
      "10 ten\n"
     ]
    }
   ],
   "source": [
    "# update\n",
    "d = {\n",
    "    0: \"zero\",\n",
    "    1: \"one\",\n",
    "    2: \"two\",\n",
    "    3: \"three\",\n",
    "    4: \"four\",\n",
    "    5: \"five\",\n",
    "    6: \"six\",\n",
    "    7: \"seven\",\n",
    "    8: \"eight\",\n",
    "    9: \"nine\",\n",
    "}\n",
    "\n",
    "pantry_items = ['chicken', 'spam', 'egg', 'bread', 'lemon']\n",
    "\n",
    "d2 = {\n",
    "    7:  \"lucky seven\",\n",
    "    10: \"ten\",\n",
    "    3:  \"this is the new three\",\n",
    "}\n",
    "\n",
    "d.update(d2)\n",
    "for key, value in d.items():\n",
    "    print(key, value)\n",
    "\n",
    "print()\n",
    "\n",
    "d.update(enumerate(pantry_items))\n",
    "for key, value in d.items():\n",
    "    print(key, value)\n",
    "\n",
    "# Code for \"The remaining `dict` methods\" lecture.\n",
    "# ************************************************\n",
    "# new_dict = dict.fromkeys(pantry_items, 0)\n",
    "# print(new_dict)\n",
    "#\n",
    "# keys = d.keys()\n",
    "# print(keys)\n",
    "#\n",
    "# for item in d.keys():\n",
    "#     print(item)\n"
   ]
  },
  {
   "cell_type": "code",
   "execution_count": null,
   "id": "4213f292",
   "metadata": {
    "ExecuteTime": {
     "start_time": "2022-08-23T19:07:00.048Z"
    }
   },
   "outputs": [],
   "source": [
    "# shallow copy\n",
    "animals = {\n",
    "    \"lion\": [\"scary\", \"big\", \"cat\"],\n",
    "    \"elephant\": [\"big\", \"grey\", \"wrinkled\"],\n",
    "    \"teddy\": [\"cuddly\", \"stuffed\"],\n",
    "}\n",
    "\n",
    "things = animals.copy()\n",
    "\n",
    "print(things[\"teddy\"])\n",
    "print(animals[\"teddy\"])\n",
    "\n",
    "print()\n",
    "\n",
    "things[\"teddy\"].append(\"toy\")\n",
    "print(things[\"teddy\"])\n",
    "print(animals[\"teddy\"])\n"
   ]
  },
  {
   "cell_type": "code",
   "execution_count": null,
   "id": "f294ba55",
   "metadata": {
    "ExecuteTime": {
     "start_time": "2022-08-24T11:06:57.254Z"
    }
   },
   "outputs": [],
   "source": [
    "#default in dict\n",
    "\n",
    "chicken_quantity = pantry.setdefault(\"chicken\", 0)\n",
    "print(f\"chicken: {chicken_quantity}\")\n",
    "\n",
    "beans_quantity = pantry.setdefault(\"beans\", 0)\n",
    "print(f\"beans: {beans_quantity}\")\n",
    "\n",
    "ketchup_quantity = pantry.get(\"ketchup\", 0)\n",
    "print(f\"ketchup: {ketchup_quantity}\")\n",
    "\n",
    "z_quantity = pantry.setdefault(\"zucchini\", \"eight\")\n",
    "print(f\"zucchini: {z_quantity}\")\n",
    "\n",
    "print()\n",
    "print(\"`pantry` now contains...\")\n",
    "\n",
    "for key, value in sorted(pantry.items()):\n",
    "    print(key, value)\n"
   ]
  },
  {
   "cell_type": "markdown",
   "id": "6b0c8303",
   "metadata": {},
   "source": [
    "### Sets"
   ]
  },
  {
   "cell_type": "code",
   "execution_count": null,
   "id": "f23106ab",
   "metadata": {
    "ExecuteTime": {
     "start_time": "2022-08-24T11:10:48.572Z"
    }
   },
   "outputs": [],
   "source": [
    "#creating set\n",
    "farm_animals = {'cow', 'sheep', 'hen', 'goat', 'horse'}\n",
    "print(farm_animals)\n",
    "\n",
    "# set is unordered\n",
    "for animal in farm_animals:\n",
    "    print(animal)\n"
   ]
  },
  {
   "cell_type": "code",
   "execution_count": null,
   "id": "85acfa43",
   "metadata": {
    "ExecuteTime": {
     "start_time": "2022-08-24T11:21:00.216Z"
    }
   },
   "outputs": [],
   "source": [
    "# indexing is not valid in sets\n",
    "farm_animal[3]"
   ]
  },
  {
   "cell_type": "code",
   "execution_count": null,
   "id": "4053e2d7",
   "metadata": {
    "ExecuteTime": {
     "start_time": "2022-08-24T11:28:01.877Z"
    }
   },
   "outputs": [],
   "source": [
    "# order of object is not matter\n",
    "farm_animals = {'cow', 'sheep', 'hen', 'goat', 'horse'}\n",
    "more_animals = {'sheep', 'goat', 'cow', 'horse', 'hen'}\n",
    "if more_animals == farm_animals:\n",
    "    print('The sets are equal')\n",
    "else:\n",
    "    print('The sets are different')\n"
   ]
  },
  {
   "cell_type": "code",
   "execution_count": null,
   "id": "24ba784c",
   "metadata": {
    "ExecuteTime": {
     "start_time": "2022-08-24T11:30:05.379Z"
    }
   },
   "outputs": [],
   "source": [
    "#summary challenge\n",
    "choice = \"-\"  # initialise choice to something invalid\n",
    "while choice != \"0\":\n",
    "    if choice in set(\"12345\"):\n",
    "        print(\"You chose {}\".format(choice))\n",
    "    else:\n",
    "        print(\"Please choose your option from the list below:\")\n",
    "        print(\"1:\\tLearn Python\")\n",
    "        print(\"2:\\tLearn Java\")\n",
    "        print(\"3:\\tGo swimming\")\n",
    "        print(\"4:\\tHave dinner\")\n",
    "        print(\"5:\\tGo to bed\")\n",
    "        print(\"0:\\tExit\")\n",
    "\n",
    "    choice = input()\n"
   ]
  },
  {
   "cell_type": "code",
   "execution_count": null,
   "id": "5c4d9aee",
   "metadata": {
    "ExecuteTime": {
     "start_time": "2022-08-24T12:00:39.512Z"
    }
   },
   "outputs": [],
   "source": [
    "# checking membership in set \n",
    "        choice = \"-\"  # initialise choice to something invalid\n",
    "while choice != \"0\":\n",
    "     if choice in {\"1\", \"2\", \"3\", \"4\", \"5\"}:\n",
    "        print(\"You chose {}\".format(choice))\n",
    "    else:\n",
    "        print(\"Please choose your option from the list below:\")\n",
    "        print(\"1:\\tLearn Python\")\n",
    "        print(\"2:\\tLearn Java\")\n",
    "        print(\"3:\\tGo swimming\")\n",
    "        print(\"4:\\tHave dinner\")\n",
    "        print(\"5:\\tGo to bed\")\n",
    "        print(\"0:\\tExit\")\n",
    "\n",
    "    choice = input()\n",
    "        "
   ]
  },
  {
   "cell_type": "code",
   "execution_count": null,
   "id": "ca2e4627",
   "metadata": {
    "ExecuteTime": {
     "start_time": "2022-08-24T12:01:46.255Z"
    }
   },
   "outputs": [],
   "source": [
    "# adding in set\n",
    "numbers = set()\n",
    "\n",
    "print(numbers, type(numbers))\n",
    "\n",
    "numbers.add(1)\n",
    "print(numbers)\n",
    "\n",
    "while len(numbers) < 4:\n",
    "    next_value = int(input(\"Please enter your next value: \"))\n",
    "    numbers.add(next_value)\n",
    "    print(numbers)\n",
    "\n",
    "data = [\"blue\", \"red\", \"blue\", \"green\", \"red\", \"blue\", \"white\"]\n",
    "\n",
    "# Create a set from the list, to remove duplicates.\n",
    "unique_data = sorted(set(data))\n",
    "print(unique_data)\n",
    "\n",
    "# Create a list of unique colours, keeping the order they appeared.\n",
    "unique_data = list(dict.fromkeys(data))\n",
    "print(unique_data)\n",
    "\n",
    "print()\n",
    "print(dict.fromkeys(data))\n"
   ]
  },
  {
   "cell_type": "code",
   "execution_count": null,
   "id": "e092982b",
   "metadata": {
    "ExecuteTime": {
     "start_time": "2022-08-24T12:22:01.634Z"
    }
   },
   "outputs": [],
   "source": [
    "# removing duplicate values using set\n",
    "data = [\"blue\", \"red\", \"blue\", \"green\", \"red\", \"blue\", \"white\"]\n",
    "\n",
    "# Create a set from the list, to remove duplicates.\n",
    "unique_data = sorted(set(data))\n",
    "print(unique_data)\n",
    "#or\n",
    "# Create a list of unique colours, keeping the order they appeared.\n",
    "unique_data = list(dict.fromkeys(data))\n",
    "print(unique_data)\n",
    "\n",
    "print()\n",
    "print(dict.fromkeys(data))"
   ]
  },
  {
   "cell_type": "code",
   "execution_count": 1,
   "id": "2ff0b036",
   "metadata": {
    "ExecuteTime": {
     "end_time": "2022-08-25T13:46:15.669504Z",
     "start_time": "2022-08-25T13:46:15.296027Z"
    }
   },
   "outputs": [
    {
     "name": "stdout",
     "output_type": "stream",
     "text": [
      "{0, 1, 2, 3, 4, 5, 6, 7, 8, 9, 10, 11, 12, 13, 14, 15, 16, 17, 18, 19, 20}\n",
      "set()\n",
      "{0, 1, 2, 3, 4, 5, 6, 7, 8, 9, 12, 13, 14, 15, 16, 17, 18, 19, 20}\n",
      "{0, 1, 2, 3, 4, 5, 6, 7, 8, 9, 12, 13, 14, 15, 16, 17, 18, 19, 20}\n"
     ]
    },
    {
     "ename": "KeyError",
     "evalue": "99",
     "output_type": "error",
     "traceback": [
      "\u001b[1;31m---------------------------------------------------------------------------\u001b[0m",
      "\u001b[1;31mKeyError\u001b[0m                                  Traceback (most recent call last)",
      "\u001b[1;32mC:\\Users\\LOKESH~1\\AppData\\Local\\Temp/ipykernel_10276/3928986822.py\u001b[0m in \u001b[0;36m<module>\u001b[1;34m\u001b[0m\n\u001b[0;32m     14\u001b[0m \u001b[0mprint\u001b[0m\u001b[1;33m(\u001b[0m\u001b[0msmall_ints\u001b[0m\u001b[1;33m)\u001b[0m\u001b[1;33m\u001b[0m\u001b[1;33m\u001b[0m\u001b[0m\n\u001b[0;32m     15\u001b[0m \u001b[1;33m\u001b[0m\u001b[0m\n\u001b[1;32m---> 16\u001b[1;33m \u001b[0msmall_ints\u001b[0m\u001b[1;33m.\u001b[0m\u001b[0mremove\u001b[0m\u001b[1;33m(\u001b[0m\u001b[1;36m99\u001b[0m\u001b[1;33m)\u001b[0m \u001b[1;31m# remove method\u001b[0m\u001b[1;33m\u001b[0m\u001b[1;33m\u001b[0m\u001b[0m\n\u001b[0m\u001b[0;32m     17\u001b[0m \u001b[0mprint\u001b[0m\u001b[1;33m(\u001b[0m\u001b[0msmall_ints\u001b[0m\u001b[1;33m)\u001b[0m\u001b[1;33m\u001b[0m\u001b[1;33m\u001b[0m\u001b[0m\n",
      "\u001b[1;31mKeyError\u001b[0m: 99"
     ]
    }
   ],
   "source": [
    "# delete in set\n",
    "small_ints = set(range(21))\n",
    "print(small_ints)\n",
    "\n",
    "small_ints.clear() # which clears all entries in the set\n",
    "print(small_ints)\n",
    "\n",
    "small_ints = set(range(21))\n",
    "small_ints.discard(10) #which removes value 10\n",
    "small_ints.remove(11) # which removes value 11 if its not exist it will give suggetion\n",
    "print(small_ints)\n",
    "\n",
    "small_ints.discard(99)\n",
    "print(small_ints)\n",
    "\n",
    "small_ints.remove(99) # remove method\n",
    "print(small_ints)\n"
   ]
  },
  {
   "cell_type": "code",
   "execution_count": 3,
   "id": "9c056660",
   "metadata": {
    "ExecuteTime": {
     "end_time": "2022-08-25T13:47:37.091748Z",
     "start_time": "2022-08-25T13:47:37.074099Z"
    }
   },
   "outputs": [],
   "source": [
    "# drugs\n",
    "amlodipine = (\"amlodipine\", \"Blood pressure\")\n",
    "buspirone = (\"buspirone\", \"Anxiety disorders\")\n",
    "carbimazole = (\"carbimazole\", \"Antithyroid agent\")\n",
    "citalopram = (\"citalopram\", \"Antidepressant\")\n",
    "edoxaban = (\"edoxaban\", \"anti-coagulant\")\n",
    "erythromycin = (\"erythromycin\", \"Antibiotic\")\n",
    "lusinopril = (\"lusinopril\", \"High blood pressure\")\n",
    "metformin = (\"metformin\", \"Type 2 diabetes\")\n",
    "methotrexate = (\"methotrexate\", \"Rheumatoid arthritis\")\n",
    "paracetamol = (\"paracetamol\", \"Painkiller\")\n",
    "propranol = (\"propranol\", \"Beta blocker\")\n",
    "simvastatin = (\"simvastatin\", \"High cholesterol\")\n",
    "warfarin = (\"warfarin\", \"anti-coagulant\")\n",
    "\n",
    "# Drugs that shouldn't be taken together\n",
    "adverse_interactions = [\n",
    "    {metformin, amlodipine},\n",
    "    {simvastatin, erythromycin},\n",
    "    {citalopram, buspirone},\n",
    "    {warfarin, citalopram},\n",
    "    {warfarin, edoxaban},\n",
    "    {warfarin, erythromycin},\n",
    "    {warfarin, amlodipine},\n",
    "]\n",
    "\n",
    "# Patient prescriptions\n",
    "patients = {\n",
    "    \"Anne\": {methotrexate, paracetamol},\n",
    "    \"Bob\": {carbimazole, erythromycin, methotrexate, paracetamol},\n",
    "    \"Charley\": {buspirone, lusinopril, metformin},\n",
    "    \"Denise\": {amlodipine, lusinopril, metformin, warfarin},\n",
    "    \"Eddie\": {amlodipine, propranol, simvastatin, warfarin},\n",
    "    \"Frank\": {buspirone, citalopram, propranol, warfarin},\n",
    "    \"Georgia\": {carbimazole, edoxaban, warfarin},\n",
    "    \"Helmut\": {erythromycin, paracetamol, propranol, simvastatin},\n",
    "    \"Izabella\": {amlodipine, citalopram, simvastatin, warfarin},\n",
    "    \"John\": {simvastatin},\n",
    "    \"Kenny\": {amlodipine, citalopram, metformin},\n",
    "}"
   ]
  },
  {
   "cell_type": "code",
   "execution_count": 6,
   "id": "66c1f48a",
   "metadata": {
    "ExecuteTime": {
     "end_time": "2022-08-25T13:50:00.904482Z",
     "start_time": "2022-08-25T13:50:00.884247Z"
    }
   },
   "outputs": [
    {
     "ename": "KeyError",
     "evalue": "('warfarin', 'anti-coagulant')",
     "output_type": "error",
     "traceback": [
      "\u001b[1;31m---------------------------------------------------------------------------\u001b[0m",
      "\u001b[1;31mKeyError\u001b[0m                                  Traceback (most recent call last)",
      "\u001b[1;32mC:\\Users\\LOKESH~1\\AppData\\Local\\Temp/ipykernel_10276/3600720307.py\u001b[0m in \u001b[0;36m<module>\u001b[1;34m\u001b[0m\n\u001b[0;32m      4\u001b[0m \u001b[1;32mfor\u001b[0m \u001b[0mpatient\u001b[0m \u001b[1;32min\u001b[0m \u001b[0mtrial_patients\u001b[0m\u001b[1;33m:\u001b[0m\u001b[1;33m\u001b[0m\u001b[1;33m\u001b[0m\u001b[0m\n\u001b[0;32m      5\u001b[0m     \u001b[0mprescription\u001b[0m \u001b[1;33m=\u001b[0m \u001b[0mpatients\u001b[0m\u001b[1;33m[\u001b[0m\u001b[0mpatient\u001b[0m\u001b[1;33m]\u001b[0m\u001b[1;33m\u001b[0m\u001b[1;33m\u001b[0m\u001b[0m\n\u001b[1;32m----> 6\u001b[1;33m     \u001b[0mprescription\u001b[0m\u001b[1;33m.\u001b[0m\u001b[0mremove\u001b[0m\u001b[1;33m(\u001b[0m\u001b[0mwarfarin\u001b[0m\u001b[1;33m)\u001b[0m\u001b[1;33m\u001b[0m\u001b[1;33m\u001b[0m\u001b[0m\n\u001b[0m\u001b[0;32m      7\u001b[0m     \u001b[0mprescription\u001b[0m\u001b[1;33m.\u001b[0m\u001b[0madd\u001b[0m\u001b[1;33m(\u001b[0m\u001b[0medoxaban\u001b[0m\u001b[1;33m)\u001b[0m\u001b[1;33m\u001b[0m\u001b[1;33m\u001b[0m\u001b[0m\n\u001b[0;32m      8\u001b[0m     \u001b[0mprint\u001b[0m\u001b[1;33m(\u001b[0m\u001b[0mpatient\u001b[0m\u001b[1;33m,\u001b[0m \u001b[0mprescription\u001b[0m\u001b[1;33m)\u001b[0m\u001b[1;33m\u001b[0m\u001b[1;33m\u001b[0m\u001b[0m\n",
      "\u001b[1;31mKeyError\u001b[0m: ('warfarin', 'anti-coagulant')"
     ]
    }
   ],
   "source": [
    "trial_patients = [\"Denise\", \"Eddie\", \"Frank\", \"Georgia\", \"Kenny\"]\n",
    "\n",
    "# Remove Warfarin and add Edoxaban\n",
    "for patient in trial_patients:\n",
    "    prescription = patients[patient]\n",
    "    prescription.remove(warfarin) # use discard instead remove\n",
    "    prescription.add(edoxaban)\n",
    "    print(patient, prescription)\n"
   ]
  },
  {
   "cell_type": "code",
   "execution_count": 7,
   "id": "21616953",
   "metadata": {
    "ExecuteTime": {
     "end_time": "2022-08-25T13:53:03.512395Z",
     "start_time": "2022-08-25T13:53:03.485483Z"
    }
   },
   "outputs": [
    {
     "ename": "NameError",
     "evalue": "name 'warfarinin' is not defined",
     "output_type": "error",
     "traceback": [
      "\u001b[1;31m---------------------------------------------------------------------------\u001b[0m",
      "\u001b[1;31mNameError\u001b[0m                                 Traceback (most recent call last)",
      "\u001b[1;32mC:\\Users\\LOKESH~1\\AppData\\Local\\Temp/ipykernel_10276/223428690.py\u001b[0m in \u001b[0;36m<module>\u001b[1;34m\u001b[0m\n\u001b[0;32m      4\u001b[0m \u001b[1;32mfor\u001b[0m \u001b[0mpatient\u001b[0m \u001b[1;32min\u001b[0m \u001b[0mtrial_patients\u001b[0m\u001b[1;33m:\u001b[0m\u001b[1;33m\u001b[0m\u001b[1;33m\u001b[0m\u001b[0m\n\u001b[0;32m      5\u001b[0m     \u001b[0mprescription\u001b[0m \u001b[1;33m=\u001b[0m \u001b[0mpatients\u001b[0m\u001b[1;33m[\u001b[0m\u001b[0mpatient\u001b[0m\u001b[1;33m]\u001b[0m\u001b[1;33m\u001b[0m\u001b[1;33m\u001b[0m\u001b[0m\n\u001b[1;32m----> 6\u001b[1;33m     \u001b[1;32mif\u001b[0m \u001b[0mwarfarinin\u001b[0m \u001b[1;32min\u001b[0m \u001b[0mprescription\u001b[0m\u001b[1;33m:\u001b[0m\u001b[1;33m\u001b[0m\u001b[1;33m\u001b[0m\u001b[0m\n\u001b[0m\u001b[0;32m      7\u001b[0m         \u001b[0mprescription\u001b[0m\u001b[1;33m.\u001b[0m\u001b[0mremove\u001b[0m\u001b[1;33m(\u001b[0m\u001b[0mwarfarin\u001b[0m\u001b[1;33m)\u001b[0m\u001b[1;33m\u001b[0m\u001b[1;33m\u001b[0m\u001b[0m\n\u001b[0;32m      8\u001b[0m         \u001b[0mprescription\u001b[0m\u001b[1;33m.\u001b[0m\u001b[0madd\u001b[0m\u001b[1;33m(\u001b[0m\u001b[0medoxaban\u001b[0m\u001b[1;33m)\u001b[0m\u001b[1;33m\u001b[0m\u001b[1;33m\u001b[0m\u001b[0m\n",
      "\u001b[1;31mNameError\u001b[0m: name 'warfarinin' is not defined"
     ]
    }
   ],
   "source": [
    "trial_patients = [\"Denise\", \"Eddie\", \"Frank\", \"Georgia\", \"Kenny\"]\n",
    "\n",
    "# Remove Warfarin and add Edoxaban\n",
    "for patient in trial_patients:\n",
    "    prescription = patients[patient]\n",
    "    if warfarinin in prescription:\n",
    "        prescription.remove(warfarin)\n",
    "        prescription.add(edoxaban)\n",
    "    else:\n",
    "        print(f\"Patient {patient} is not taking Warfarin.\"\n",
    "              f\" Please remove {patient} from the trial\")\n",
    "    print(patient, prescription)\n"
   ]
  },
  {
   "cell_type": "code",
   "execution_count": 8,
   "id": "66a9e0bf",
   "metadata": {
    "ExecuteTime": {
     "end_time": "2022-08-25T14:57:37.599412Z",
     "start_time": "2022-08-25T14:57:37.589944Z"
    }
   },
   "outputs": [
    {
     "name": "stdout",
     "output_type": "stream",
     "text": [
      "Patient Denise is not taking Warfarin. Please remove Denise from the trial\n",
      "Denise {('edoxaban', 'anti-coagulant'), ('metformin', 'Type 2 diabetes'), ('amlodipine', 'Blood pressure'), ('lusinopril', 'High blood pressure')}\n",
      "Patient Eddie is not taking Warfarin. Please remove Eddie from the trial\n",
      "Eddie {('edoxaban', 'anti-coagulant'), ('simvastatin', 'High cholesterol'), ('amlodipine', 'Blood pressure'), ('propranol', 'Beta blocker')}\n",
      "Patient Frank is not taking Warfarin. Please remove Frank from the trial\n",
      "Frank {('edoxaban', 'anti-coagulant'), ('propranol', 'Beta blocker'), ('buspirone', 'Anxiety disorders'), ('citalopram', 'Antidepressant')}\n",
      "Patient Georgia is not taking Warfarin. Please remove Georgia from the trial\n",
      "Georgia {('edoxaban', 'anti-coagulant'), ('carbimazole', 'Antithyroid agent')}\n",
      "Patient Kenny is not taking Warfarin. Please remove Kenny from the trial\n",
      "Kenny {('citalopram', 'Antidepressant'), ('metformin', 'Type 2 diabetes'), ('amlodipine', 'Blood pressure')}\n"
     ]
    }
   ],
   "source": [
    "\n",
    "\n",
    "trial_patients = [\"Denise\", \"Eddie\", \"Frank\", \"Georgia\", \"Kenny\"]\n",
    "\n",
    "# Remove Warfarin and add Edoxaban\n",
    "for patient in trial_patients:\n",
    "    prescription = patients[patient]\n",
    "    try:\n",
    "        prescription.remove(warfarin)\n",
    "        prescription.add(edoxaban)\n",
    "    except KeyError:\n",
    "        print(f\"Patient {patient} is not taking Warfarin.\"\n",
    "              f\" Please remove {patient} from the trial\")\n",
    "    print(patient, prescription)\n"
   ]
  },
  {
   "cell_type": "code",
   "execution_count": 10,
   "id": "a52a215e",
   "metadata": {
    "ExecuteTime": {
     "end_time": "2022-08-25T15:06:33.764467Z",
     "start_time": "2022-08-25T15:06:33.755464Z"
    }
   },
   "outputs": [
    {
     "name": "stdout",
     "output_type": "stream",
     "text": [
      "Eddie : {('edoxaban', 'anti-coagulant'), ('simvastatin', 'High cholesterol'), ('amlodipine', 'Blood pressure'), ('propranol', 'Beta blocker')}\n",
      "Kenny : {('citalopram', 'Antidepressant'), ('metformin', 'Type 2 diabetes'), ('amlodipine', 'Blood pressure')}\n",
      "Denise : {('edoxaban', 'anti-coagulant'), ('metformin', 'Type 2 diabetes'), ('amlodipine', 'Blood pressure'), ('lusinopril', 'High blood pressure')}\n",
      "Frank : {('edoxaban', 'anti-coagulant'), ('propranol', 'Beta blocker'), ('buspirone', 'Anxiety disorders'), ('citalopram', 'Antidepressant')}\n",
      "Georgia : {('edoxaban', 'anti-coagulant'), ('carbimazole', 'Antithyroid agent')}\n"
     ]
    }
   ],
   "source": [
    "# delete using pop function in set\n",
    "\n",
    "\n",
    "trial_patients = {\"Denise\", \"Eddie\", \"Frank\", \"Georgia\", \"Kenny\"}\n",
    "\n",
    "while trial_patients:\n",
    "    patient = trial_patients.pop()\n",
    "    print(patient, end=\" : \")\n",
    "    prescription = patients[patient]\n",
    "    print(prescription)\n"
   ]
  },
  {
   "cell_type": "code",
   "execution_count": 12,
   "id": "199ae837",
   "metadata": {
    "ExecuteTime": {
     "end_time": "2022-08-25T15:06:48.871953Z",
     "start_time": "2022-08-25T15:06:48.864875Z"
    }
   },
   "outputs": [
    {
     "name": "stdout",
     "output_type": "stream",
     "text": [
      "{'tiger', 'hen', 'lion', 'panther', 'sheep', 'horse', 'goat', 'elephant', 'cow'}\n",
      "{'tiger', 'hen', 'lion', 'panther', 'horse', 'sheep', 'goat', 'elephant', 'cow'}\n",
      "{'tiger', 'hen', 'lion', 'panther', 'horse', 'sheep', 'goat', 'elephant', 'cow'}\n"
     ]
    }
   ],
   "source": [
    "# union in sets\n",
    "farm_animals = {\"sheep\", \"hen\", \"cow\", \"horse\", \"goat\"}\n",
    "wild_animals = {\"lion\", \"elephant\", \"tiger\", \"goat\", \"panther\", \"horse\"}\n",
    "\n",
    "all_animals_1 = farm_animals.union(wild_animals)\n",
    "print(all_animals_1)\n",
    "\n",
    "all_animals_2 = wild_animals.union(farm_animals)\n",
    "print(all_animals_2)\n",
    "\n",
    "all_animals_3 = wild_animals | farm_animals\n",
    "print(all_animals_3)\n"
   ]
  },
  {
   "cell_type": "code",
   "execution_count": 13,
   "id": "7d8272f5",
   "metadata": {
    "ExecuteTime": {
     "end_time": "2022-08-25T16:24:23.824646Z",
     "start_time": "2022-08-25T16:24:23.817719Z"
    }
   },
   "outputs": [
    {
     "name": "stdout",
     "output_type": "stream",
     "text": [
      "[('amlodipine', 'Blood pressure'), ('buspirone', 'Anxiety disorders'), ('citalopram', 'Antidepressant'), ('edoxaban', 'anti-coagulant'), ('erythromycin', 'Antibiotic'), ('metformin', 'Type 2 diabetes'), ('simvastatin', 'High cholesterol'), ('warfarin', 'anti-coagulant')]\n",
      "('amlodipine', 'Blood pressure')\n",
      "('buspirone', 'Anxiety disorders')\n",
      "('citalopram', 'Antidepressant')\n",
      "('edoxaban', 'anti-coagulant')\n",
      "('erythromycin', 'Antibiotic')\n",
      "('metformin', 'Type 2 diabetes')\n",
      "('simvastatin', 'High cholesterol')\n",
      "('warfarin', 'anti-coagulant')\n"
     ]
    }
   ],
   "source": [
    "#advantages of sets over operations\n",
    "meds_to_watch = set()\n",
    "\n",
    "# for interaction in adverse_interactions:\n",
    "#     # meds_to_watch = meds_to_watch.union(interaction)\n",
    "#     # meds_to_watch = meds_to_watch | interaction\n",
    "#     # meds_to_watch.update(interaction)\n",
    "#     meds_to_watch |= interaction\n",
    "\n",
    "meds_to_watch.update(*adverse_interactions) # instead of using adverse_intercation[0]....\n",
    "\n",
    "print(sorted(meds_to_watch))\n",
    "print(*sorted(meds_to_watch), sep='\\n')\n"
   ]
  },
  {
   "cell_type": "code",
   "execution_count": 16,
   "id": "7df24677",
   "metadata": {
    "ExecuteTime": {
     "end_time": "2022-08-25T16:35:12.331451Z",
     "start_time": "2022-08-25T16:35:12.319870Z"
    }
   },
   "outputs": [
    {
     "name": "stdout",
     "output_type": "stream",
     "text": [
      "{'Charley', 'Georgia'}\n"
     ]
    }
   ],
   "source": [
    "# intersection\n",
    "trial_1 = {\"Bob\", \"Charley\", \"Georgia\", \"John\"}\n",
    "trial_2 = {\"Anne\", \"Charley\", \"Eddie\", \"Georgia\"}\n",
    "\n",
    "check_set = trial_1.intersection(trial_2)\n",
    "print(check_set)\n",
    "\n",
    "\n"
   ]
  },
  {
   "cell_type": "code",
   "execution_count": 18,
   "id": "1580de15",
   "metadata": {
    "ExecuteTime": {
     "end_time": "2022-08-25T16:49:11.392748Z",
     "start_time": "2022-08-25T16:49:11.386683Z"
    }
   },
   "outputs": [
    {
     "name": "stdout",
     "output_type": "stream",
     "text": [
      "{'horse'}\n",
      "{'horse'}\n"
     ]
    }
   ],
   "source": [
    "farm_animals = {\"sheep\", \"hen\", \"cow\", \"horse\", \"goat\"}\n",
    "wild_animals = {\"lion\", \"elephant\", \"tiger\", \"goat\", \"panther\", \"horse\"}\n",
    "potential_rides = {\"donkey\", \"horse\", \"camel\"}\n",
    "\n",
    "intersection = farm_animals & wild_animals & potential_rides\n",
    "print(intersection)\n",
    "\n",
    "mounts = farm_animals.intersection(wild_animals, potential_rides)\n",
    "print(mounts)"
   ]
  },
  {
   "cell_type": "code",
   "execution_count": 24,
   "id": "a3ccc429",
   "metadata": {
    "ExecuteTime": {
     "end_time": "2022-08-25T16:50:19.372191Z",
     "start_time": "2022-08-25T16:50:19.363473Z"
    }
   },
   "outputs": [
    {
     "name": "stdout",
     "output_type": "stream",
     "text": [
      "{0, 2, 4, 6, 8, 10, 12, 14, 16, 18, 20, 22, 24, 26, 28, 30, 32, 34, 36, 38, 40, 42, 44, 46, 48}\n",
      "{1, 3, 5, 7, 9, 11, 13, 15, 17, 19, 21, 23, 25, 27, 29, 31, 33, 35, 37, 39, 41, 43, 45, 47, 49}\n",
      "{1, 3, 5, 7, 9, 11, 13, 15, 17, 19, 21, 23, 25, 27, 29, 31, 33, 35, 37, 39, 41, 43, 45, 47, 49}\n",
      "{1, 3, 5, 7, 9, 11, 13, 15, 17, 19, 21, 23, 25, 27, 29, 31, 33, 35, 37, 39, 41, 43, 45, 47, 49}\n",
      "{0, 2, 4, 6, 8, 10, 12, 14, 16, 18, 20, 22, 24, 26, 28, 30, 32, 34, 36, 38, 40, 42, 44, 46, 48}\n"
     ]
    }
   ],
   "source": [
    "# set difference\n",
    "\n",
    "evens = set(range(0, 50, 2))\n",
    "odds = set(range(1, 50, 2))\n",
    "\n",
    "print(evens)\n",
    "print(odds)\n",
    "\n",
    "print(odds.difference(evens))\n",
    "\n",
    "print(odds - evens)\n",
    "\n",
    "print(evens - odds)\n"
   ]
  },
  {
   "cell_type": "code",
   "execution_count": 29,
   "id": "6bbdb348",
   "metadata": {
    "ExecuteTime": {
     "end_time": "2022-08-25T17:03:34.553984Z",
     "start_time": "2022-08-25T17:03:34.548983Z"
    }
   },
   "outputs": [
    {
     "name": "stdout",
     "output_type": "stream",
     "text": [
      "{'Lisp', 'Python'}\n",
      "{'Lisp', 'Python'}\n"
     ]
    }
   ],
   "source": [
    "# symmetric difference\n",
    "morning = ['Java', 'C', 'Ruby', 'Lisp', 'C#']\n",
    "afternoon = ['Python', 'C#', 'Java', 'C', 'Ruby']\n",
    "\n",
    "possible_courses = set(morning).symmetric_difference(afternoon)\n",
    "print(possible_courses)\n",
    "\n",
    "possible_courses = set(afternoon).symmetric_difference(set(morning))\n",
    "print(possible_courses)\n"
   ]
  },
  {
   "cell_type": "code",
   "execution_count": 30,
   "id": "4d7dad9d",
   "metadata": {
    "ExecuteTime": {
     "end_time": "2022-08-25T17:03:46.619681Z",
     "start_time": "2022-08-25T17:03:46.609117Z"
    }
   },
   "outputs": [
    {
     "name": "stdout",
     "output_type": "stream",
     "text": [
      "birds is a subset of animals: True\n",
      "animals is a superset of birds: True\n",
      "birds is a superset of animals: False\n",
      "True\n",
      "True\n",
      "********************************************************************************\n",
      "True\n",
      "True\n",
      "False\n",
      "********************************************************************************\n",
      "False\n"
     ]
    }
   ],
   "source": [
    "# subset and superset\n",
    "animals = {'Turtle',\n",
    "           'Horse',\n",
    "           'Robin',\n",
    "           'Python',\n",
    "           'Swallow',\n",
    "           'Hedgehog',\n",
    "           'Wren',\n",
    "           'Aardvark',\n",
    "           'Cat',\n",
    "           }\n",
    "birds = {'Robin', 'Swallow', 'Wren'}\n",
    "\n",
    "print(f'birds is a subset of animals: {birds.issubset(animals)}')\n",
    "print(f'animals is a superset of birds: {animals.issuperset(birds)}')\n",
    "\n",
    "print(f'birds is a superset of animals: {birds.issuperset(animals)}')\n",
    "\n",
    "print(birds <= animals)\n",
    "print(birds < animals)\n",
    "\n",
    "print('*' * 80)\n",
    "\n",
    "garden_birds = {'Swallow', 'Wren', 'Robin'}\n",
    "print(garden_birds == birds)\n",
    "print(garden_birds <= birds)\n",
    "print(garden_birds < birds)\n",
    "\n",
    "print('*' * 80)\n",
    "\n",
    "more_birds = {'Wren', 'Budgie', 'Swallow'}\n",
    "print(garden_birds >= more_birds)\n"
   ]
  }
 ],
 "metadata": {
  "kernelspec": {
   "display_name": "Python 3 (ipykernel)",
   "language": "python",
   "name": "python3"
  },
  "language_info": {
   "codemirror_mode": {
    "name": "ipython",
    "version": 3
   },
   "file_extension": ".py",
   "mimetype": "text/x-python",
   "name": "python",
   "nbconvert_exporter": "python",
   "pygments_lexer": "ipython3",
   "version": "3.9.7"
  }
 },
 "nbformat": 4,
 "nbformat_minor": 5
}
