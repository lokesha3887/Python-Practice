{
  "nbformat": 4,
  "nbformat_minor": 0,
  "metadata": {
    "colab": {
      "name": "Data types in python.ipynb",
      "provenance": [],
      "collapsed_sections": []
    },
    "kernelspec": {
      "name": "python3",
      "display_name": "Python 3"
    },
    "language_info": {
      "name": "python"
    }
  },
  "cells": [
    {
      "cell_type": "code",
      "execution_count": null,
      "metadata": {
        "colab": {
          "base_uri": "https://localhost:8080/"
        },
        "id": "EKw1NrZd6a6c",
        "outputId": "62567f57-591b-4332-f7fe-d1dde0bc5a48"
      },
      "outputs": [
        {
          "output_type": "stream",
          "name": "stdout",
          "text": [
            "1\n"
          ]
        },
        {
          "output_type": "execute_result",
          "data": {
            "text/plain": [
              "int"
            ]
          },
          "metadata": {},
          "execution_count": 2
        }
      ],
      "source": [
        "#data types in python\n",
        "#1 integer (immutable-->non chnagable in nature data type,base-0,1,,,,9)\n",
        "#base represents that we should input the values which present in the base range\n",
        "x=1\n",
        "print(x)\n",
        "type(x)"
      ]
    },
    {
      "cell_type": "code",
      "source": [
        "x,y,z=1,2,3\n",
        "print(x,y,z)\n"
      ],
      "metadata": {
        "id": "zW7xNjLX7AK9",
        "colab": {
          "base_uri": "https://localhost:8080/"
        },
        "outputId": "f90d6c4f-546e-48b4-aa69-fd2cbf7519cb"
      },
      "execution_count": null,
      "outputs": [
        {
          "output_type": "stream",
          "name": "stdout",
          "text": [
            "1 2 3\n"
          ]
        }
      ]
    },
    {
      "cell_type": "code",
      "source": [
        "#2 Float data type (immutable) under this we have 4 types\n",
        "#Decimal  (base-0,1,2,,,9)\n",
        "d=4.542\n",
        "print(d)\n",
        "type(d)\n",
        "\n"
      ],
      "metadata": {
        "colab": {
          "base_uri": "https://localhost:8080/"
        },
        "id": "yNjzGpgcL45z",
        "outputId": "902e06ca-96b4-494d-d720-2d6ea93a9311"
      },
      "execution_count": null,
      "outputs": [
        {
          "output_type": "stream",
          "name": "stdout",
          "text": [
            "4.542\n"
          ]
        },
        {
          "output_type": "execute_result",
          "data": {
            "text/plain": [
              "float"
            ]
          },
          "metadata": {},
          "execution_count": 7
        }
      ]
    },
    {
      "cell_type": "code",
      "source": [
        "#Binary (base-0,1)\n",
        "b=0B0110\n",
        "print(b);\n",
        "\n",
        "\n"
      ],
      "metadata": {
        "colab": {
          "base_uri": "https://localhost:8080/"
        },
        "id": "gc87oTe9MkXs",
        "outputId": "accefdf7-802d-4d69-9e38-4ec204fc8875"
      },
      "execution_count": null,
      "outputs": [
        {
          "output_type": "stream",
          "name": "stdout",
          "text": [
            "6\n"
          ]
        }
      ]
    },
    {
      "cell_type": "code",
      "source": [
        "#octal (base-0,1,2,,7)\n",
        "o=0O125\n",
        "print(o);\n",
        "o=0O1101\n",
        "print(o)"
      ],
      "metadata": {
        "colab": {
          "base_uri": "https://localhost:8080/"
        },
        "id": "dLZSWbPkPEAM",
        "outputId": "407ef5a5-a738-4075-d729-e579b511329c"
      },
      "execution_count": null,
      "outputs": [
        {
          "output_type": "stream",
          "name": "stdout",
          "text": [
            "85\n",
            "577\n"
          ]
        }
      ]
    },
    {
      "cell_type": "code",
      "source": [
        "#hexa (base-0,1,2,,,9 and a,b,c,,,,f)\n",
        "h=0xabf\n",
        "print(h)\n",
        "h1=0x123\n",
        "print(h1)\n"
      ],
      "metadata": {
        "colab": {
          "base_uri": "https://localhost:8080/"
        },
        "id": "IKNafHfqPsuP",
        "outputId": "c35ebac3-ef94-4b44-99de-6d9f8da0c44b"
      },
      "execution_count": null,
      "outputs": [
        {
          "output_type": "stream",
          "name": "stdout",
          "text": [
            "2751\n",
            "291\n"
          ]
        }
      ]
    },
    {
      "cell_type": "code",
      "source": [
        "#3 Boolean data  ; it takes values True and False only and it's immutable\n",
        "x=True   # if give x='True' like this ,python will consider this as string.\n",
        "print(x)\n",
        "type(x);\n",
        "y=False\n",
        "print(y)\n",
        "type(y)\n",
        "\n"
      ],
      "metadata": {
        "colab": {
          "base_uri": "https://localhost:8080/"
        },
        "id": "ifQ8dMcGQ3V4",
        "outputId": "87ddcd07-8115-419d-89fd-707e1f1e78d2"
      },
      "execution_count": null,
      "outputs": [
        {
          "output_type": "stream",
          "name": "stdout",
          "text": [
            "True\n",
            "False\n"
          ]
        },
        {
          "output_type": "execute_result",
          "data": {
            "text/plain": [
              "bool"
            ]
          },
          "metadata": {},
          "execution_count": 36
        }
      ]
    },
    {
      "cell_type": "code",
      "source": [
        "#4complex data ,  takes values like a+bj and its immutable\n",
        "x=10+20j\n",
        "y=5+10j\n",
        "print(x)\n",
        "print(y)\n",
        "print(x+y)\n",
        "type(x)"
      ],
      "metadata": {
        "colab": {
          "base_uri": "https://localhost:8080/"
        },
        "id": "WLYKJKOzSFTB",
        "outputId": "9be4ada5-2099-4091-9d02-c155e51608e1"
      },
      "execution_count": null,
      "outputs": [
        {
          "output_type": "stream",
          "name": "stdout",
          "text": [
            "(10+20j)\n",
            "(5+10j)\n",
            "(15+30j)\n"
          ]
        },
        {
          "output_type": "execute_result",
          "data": {
            "text/plain": [
              "complex"
            ]
          },
          "metadata": {},
          "execution_count": 39
        }
      ]
    },
    {
      "cell_type": "code",
      "source": [
        "#5 String data  , any characters which should be given by using codes i.e.., '' and it's immutable\n",
        "x='Lokesha p'\n",
        "print(x)\n",
        "type(x)\n"
      ],
      "metadata": {
        "colab": {
          "base_uri": "https://localhost:8080/"
        },
        "id": "kFtW-mk2TIGW",
        "outputId": "27c7dd23-ce86-4a19-ba42-5f484f621e13"
      },
      "execution_count": null,
      "outputs": [
        {
          "output_type": "stream",
          "name": "stdout",
          "text": [
            "Lokesha p\n"
          ]
        },
        {
          "output_type": "execute_result",
          "data": {
            "text/plain": [
              "str"
            ]
          },
          "metadata": {},
          "execution_count": 41
        }
      ]
    },
    {
      "cell_type": "code",
      "source": [
        "#6 Bytes data , bytes must be in the range of 0 and 256 and it's immutable\n",
        "b=20\n",
        "bytes(b)\n",
        "bytes(10)\n",
        "\n"
      ],
      "metadata": {
        "colab": {
          "base_uri": "https://localhost:8080/"
        },
        "id": "EJpLDWb8T6w6",
        "outputId": "3fc07a8d-c09e-46d9-bbd2-867dc9c03403"
      },
      "execution_count": null,
      "outputs": [
        {
          "output_type": "execute_result",
          "data": {
            "text/plain": [
              "b'\\x00\\x00\\x00\\x00\\x00\\x00\\x00\\x00\\x00\\x00'"
            ]
          },
          "metadata": {},
          "execution_count": 61
        }
      ]
    },
    {
      "cell_type": "code",
      "source": [
        "x=[10,20,30]\n",
        "y=bytes(x)\n",
        "for i in y:print(i)\n",
        "print(y)\n",
        "type(y)"
      ],
      "metadata": {
        "colab": {
          "base_uri": "https://localhost:8080/"
        },
        "id": "NIz70ebtVLY_",
        "outputId": "dd579a1d-25dc-423e-c5a4-71234b590217"
      },
      "execution_count": null,
      "outputs": [
        {
          "output_type": "stream",
          "name": "stdout",
          "text": [
            "10\n",
            "20\n",
            "30\n",
            "b'\\n\\x14\\x1e'\n"
          ]
        },
        {
          "output_type": "execute_result",
          "data": {
            "text/plain": [
              "bytes"
            ]
          },
          "metadata": {},
          "execution_count": 60
        }
      ]
    },
    {
      "cell_type": "code",
      "source": [
        "#7 Bytearray data ,  it'a mutable\n",
        "bytearray(124)"
      ],
      "metadata": {
        "colab": {
          "base_uri": "https://localhost:8080/"
        },
        "id": "7MZ42UpfVkjt",
        "outputId": "1379e5db-5024-438f-c40b-9e13daca8bc6"
      },
      "execution_count": null,
      "outputs": [
        {
          "output_type": "execute_result",
          "data": {
            "text/plain": [
              "bytearray(b'\\x00\\x00\\x00\\x00\\x00\\x00\\x00\\x00\\x00\\x00\\x00\\x00\\x00\\x00\\x00\\x00\\x00\\x00\\x00\\x00\\x00\\x00\\x00\\x00\\x00\\x00\\x00\\x00\\x00\\x00\\x00\\x00\\x00\\x00\\x00\\x00\\x00\\x00\\x00\\x00\\x00\\x00\\x00\\x00\\x00\\x00\\x00\\x00\\x00\\x00\\x00\\x00\\x00\\x00\\x00\\x00\\x00\\x00\\x00\\x00\\x00\\x00\\x00\\x00\\x00\\x00\\x00\\x00\\x00\\x00\\x00\\x00\\x00\\x00\\x00\\x00\\x00\\x00\\x00\\x00\\x00\\x00\\x00\\x00\\x00\\x00\\x00\\x00\\x00\\x00\\x00\\x00\\x00\\x00\\x00\\x00\\x00\\x00\\x00\\x00\\x00\\x00\\x00\\x00\\x00\\x00\\x00\\x00\\x00\\x00\\x00\\x00\\x00\\x00\\x00\\x00\\x00\\x00\\x00\\x00\\x00\\x00\\x00\\x00')"
            ]
          },
          "metadata": {},
          "execution_count": 49
        }
      ]
    },
    {
      "cell_type": "code",
      "source": [
        "x=[5,10,15,20]\n",
        "y=bytearray(y)\n",
        "for i in y:print(i)\n",
        "type(y)"
      ],
      "metadata": {
        "colab": {
          "base_uri": "https://localhost:8080/"
        },
        "id": "W2WKYn3xVzT2",
        "outputId": "d5eb511b-2a0f-4fa3-ceca-331c1f60f07e"
      },
      "execution_count": null,
      "outputs": [
        {
          "output_type": "stream",
          "name": "stdout",
          "text": [
            "10\n",
            "20\n",
            "30\n"
          ]
        },
        {
          "output_type": "execute_result",
          "data": {
            "text/plain": [
              "bytearray"
            ]
          },
          "metadata": {},
          "execution_count": 62
        }
      ]
    },
    {
      "cell_type": "code",
      "source": [
        "x=[5,10,15,20]\n",
        "y=bytearray(y)\n",
        "y[0]=100   #we can assign new value in the place of existing one (since data is mutable)\n",
        "y[2]=125\n",
        "for i in y:print(i)"
      ],
      "metadata": {
        "colab": {
          "base_uri": "https://localhost:8080/"
        },
        "id": "9eG5SLWdWDTx",
        "outputId": "9c2c46ac-70c1-4cf2-c399-de69ef223d38"
      },
      "execution_count": null,
      "outputs": [
        {
          "output_type": "stream",
          "name": "stdout",
          "text": [
            "100\n",
            "20\n",
            "125\n"
          ]
        }
      ]
    },
    {
      "cell_type": "code",
      "source": [
        "#8 List data , we use [] to input the values and its mutable \n",
        "x=['lokesha',100,200,10,100,'suray prakash']#does not allows duplicate values\n",
        "print(x)\n",
        "type(x);\n"
      ],
      "metadata": {
        "colab": {
          "base_uri": "https://localhost:8080/"
        },
        "id": "wtnqvFQDW732",
        "outputId": "67ec41e9-f8b0-43d3-a264-9257eb518798"
      },
      "execution_count": null,
      "outputs": [
        {
          "output_type": "stream",
          "name": "stdout",
          "text": [
            "['lokesha', 100, 200, 10, 100, 'suray prakash']\n",
            "[3, 2, 1]\n"
          ]
        }
      ]
    },
    {
      "cell_type": "code",
      "source": [
        "x=['lokesha',100,200,10,100,'suray prakash']\n",
        "x[2]='jashmitha'  #which changes the existing record  \n",
        "x.append(356) #to add new value in the existing list\n",
        "print(x)"
      ],
      "metadata": {
        "colab": {
          "base_uri": "https://localhost:8080/"
        },
        "id": "_gCIQT42YN5B",
        "outputId": "8299cb43-b012-41a6-a3a2-0fc0e141bf8e"
      },
      "execution_count": null,
      "outputs": [
        {
          "output_type": "stream",
          "name": "stdout",
          "text": [
            "['lokesha', 100, 'jashmitha', 10, 100, 'suray prakash', 356]\n"
          ]
        }
      ]
    },
    {
      "cell_type": "code",
      "source": [
        "#9 Tuple data ,we use () to input the values and its immutable\n",
        "x=('loki',10,'praju',5,'nithi',5)\n",
        "print(x)\n",
        "type(x)"
      ],
      "metadata": {
        "colab": {
          "base_uri": "https://localhost:8080/"
        },
        "id": "QmYMNZNRZZIj",
        "outputId": "2cd662f8-8eff-4883-d10e-4d185edd6ee5"
      },
      "execution_count": null,
      "outputs": [
        {
          "output_type": "stream",
          "name": "stdout",
          "text": [
            "('loki', 10, 'praju', 5, 'nithi', 5)\n"
          ]
        },
        {
          "output_type": "execute_result",
          "data": {
            "text/plain": [
              "tuple"
            ]
          },
          "metadata": {},
          "execution_count": 86
        }
      ]
    },
    {
      "cell_type": "code",
      "source": [
        "x=('loki',10,'praju',5,'nithi')\n",
        "x[0]='loka'\n",
        "x.appent(125)  #will shows error because its immutable data type\n",
        "print(x)"
      ],
      "metadata": {
        "colab": {
          "base_uri": "https://localhost:8080/",
          "height": 217
        },
        "id": "LdsRi58tZ_wN",
        "outputId": "98394755-fcc9-45ab-ec60-ca1d2334aba1"
      },
      "execution_count": null,
      "outputs": [
        {
          "output_type": "error",
          "ename": "TypeError",
          "evalue": "ignored",
          "traceback": [
            "\u001b[0;31m---------------------------------------------------------------------------\u001b[0m",
            "\u001b[0;31mTypeError\u001b[0m                                 Traceback (most recent call last)",
            "\u001b[0;32m<ipython-input-72-ccbf949a9212>\u001b[0m in \u001b[0;36m<module>\u001b[0;34m()\u001b[0m\n\u001b[1;32m      1\u001b[0m \u001b[0mx\u001b[0m\u001b[0;34m=\u001b[0m\u001b[0;34m(\u001b[0m\u001b[0;34m'loki'\u001b[0m\u001b[0;34m,\u001b[0m\u001b[0;36m10\u001b[0m\u001b[0;34m,\u001b[0m\u001b[0;34m'praju'\u001b[0m\u001b[0;34m,\u001b[0m\u001b[0;36m5\u001b[0m\u001b[0;34m,\u001b[0m\u001b[0;34m'nithi'\u001b[0m\u001b[0;34m)\u001b[0m\u001b[0;34m\u001b[0m\u001b[0;34m\u001b[0m\u001b[0m\n\u001b[0;32m----> 2\u001b[0;31m \u001b[0mx\u001b[0m\u001b[0;34m[\u001b[0m\u001b[0;36m0\u001b[0m\u001b[0;34m]\u001b[0m\u001b[0;34m=\u001b[0m\u001b[0;34m'loka'\u001b[0m\u001b[0;34m\u001b[0m\u001b[0;34m\u001b[0m\u001b[0m\n\u001b[0m\u001b[1;32m      3\u001b[0m \u001b[0mx\u001b[0m\u001b[0;34m.\u001b[0m\u001b[0mappent\u001b[0m\u001b[0;34m(\u001b[0m\u001b[0;36m125\u001b[0m\u001b[0;34m)\u001b[0m  \u001b[0;31m#will shows error because its immutable data type\u001b[0m\u001b[0;34m\u001b[0m\u001b[0;34m\u001b[0m\u001b[0m\n\u001b[1;32m      4\u001b[0m \u001b[0mprint\u001b[0m\u001b[0;34m(\u001b[0m\u001b[0mx\u001b[0m\u001b[0;34m)\u001b[0m\u001b[0;34m\u001b[0m\u001b[0;34m\u001b[0m\u001b[0m\n",
            "\u001b[0;31mTypeError\u001b[0m: 'tuple' object does not support item assignment"
          ]
        }
      ]
    },
    {
      "cell_type": "code",
      "source": [
        "#10 Range data ,represents sequence of values and it's immutable\n",
        "x=range(10)\n",
        "print(x)\n",
        "\n"
      ],
      "metadata": {
        "colab": {
          "base_uri": "https://localhost:8080/"
        },
        "id": "z0lW9IVzakWG",
        "outputId": "568eca0f-573d-4ee6-aefb-374a46a6ca17"
      },
      "execution_count": null,
      "outputs": [
        {
          "output_type": "stream",
          "name": "stdout",
          "text": [
            "range(0, 10)\n"
          ]
        }
      ]
    },
    {
      "cell_type": "code",
      "source": [
        "z=range(0,50,5)\n",
        "for i in z:print(i)"
      ],
      "metadata": {
        "colab": {
          "base_uri": "https://localhost:8080/"
        },
        "id": "ykDL0sZeeNTu",
        "outputId": "933d72b5-0584-4607-fa29-664db758962a"
      },
      "execution_count": null,
      "outputs": [
        {
          "output_type": "stream",
          "name": "stdout",
          "text": [
            "0\n",
            "5\n",
            "10\n",
            "15\n",
            "20\n",
            "25\n",
            "30\n",
            "35\n",
            "40\n",
            "45\n"
          ]
        }
      ]
    },
    {
      "cell_type": "code",
      "source": [
        "#11 Set data , used for inputting duplicates values  and we use {} \n",
        "x={1,2,3,4,5}\n",
        "print(x)\n",
        "type(x);"
      ],
      "metadata": {
        "colab": {
          "base_uri": "https://localhost:8080/"
        },
        "id": "rTu2Nw08eRUx",
        "outputId": "63a22829-586e-4fc5-b8fc-bef3dc44a3d1"
      },
      "execution_count": null,
      "outputs": [
        {
          "output_type": "stream",
          "name": "stdout",
          "text": [
            "{1, 2, 3, 4, 5}\n"
          ]
        }
      ]
    },
    {
      "cell_type": "code",
      "source": [
        "#12 Frozen data type ,immutable\n",
        "x={1,2,3}\n",
        "fx=frozenset(x)\n",
        "print(fx)\n",
        "type(fx)"
      ],
      "metadata": {
        "colab": {
          "base_uri": "https://localhost:8080/"
        },
        "id": "wCCG7EN7gSKL",
        "outputId": "cff4fe22-f46d-4d13-d3b5-e071adf3582a"
      },
      "execution_count": null,
      "outputs": [
        {
          "output_type": "stream",
          "name": "stdout",
          "text": [
            "frozenset({1, 2, 3})\n"
          ]
        },
        {
          "output_type": "execute_result",
          "data": {
            "text/plain": [
              "frozenset"
            ]
          },
          "metadata": {},
          "execution_count": 110
        }
      ]
    },
    {
      "cell_type": "code",
      "source": [
        "#13 Decimals data type ,its a mutable data type #we use this where want to input key words\n",
        "d={100:'loka',200:'sunil'}\n",
        "print(d)\n",
        "type(d)"
      ],
      "metadata": {
        "colab": {
          "base_uri": "https://localhost:8080/"
        },
        "id": "cli43Qqghru4",
        "outputId": "60536339-d3d5-4034-9026-43030ea1a2d9"
      },
      "execution_count": null,
      "outputs": [
        {
          "output_type": "stream",
          "name": "stdout",
          "text": [
            "{100: 'loka', 200: 'sunil'}\n"
          ]
        },
        {
          "output_type": "execute_result",
          "data": {
            "text/plain": [
              "dict"
            ]
          },
          "metadata": {},
          "execution_count": 118
        }
      ]
    },
    {
      "cell_type": "code",
      "source": [
        "\n"
      ],
      "metadata": {
        "id": "jGV7G3t_iv0k"
      },
      "execution_count": null,
      "outputs": []
    }
  ]
}