{
 "cells": [
  {
   "cell_type": "markdown",
   "id": "a0159e63",
   "metadata": {},
   "source": [
    "### Functions\n",
    "\n"
   ]
  },
  {
   "cell_type": "code",
   "execution_count": 1,
   "id": "5edce0f6",
   "metadata": {
    "ExecuteTime": {
     "end_time": "2022-08-23T18:12:49.689610Z",
     "start_time": "2022-08-23T18:12:49.669327Z"
    }
   },
   "outputs": [
    {
     "name": "stdout",
     "output_type": "stream",
     "text": [
      "42.0\n"
     ]
    }
   ],
   "source": [
    "# defining functions\n",
    "def multiply():\n",
    "    result = 10.5 * 4\n",
    "    return result\n",
    "answer = multiply()\n",
    "print(answer)\n"
   ]
  },
  {
   "cell_type": "code",
   "execution_count": 3,
   "id": "eec7f051",
   "metadata": {
    "ExecuteTime": {
     "end_time": "2022-08-23T18:13:57.127955Z",
     "start_time": "2022-08-23T18:13:57.109504Z"
    }
   },
   "outputs": [
    {
     "name": "stdout",
     "output_type": "stream",
     "text": [
      "42.0\n",
      "42\n",
      "\n",
      "2\n",
      "4\n",
      "6\n",
      "8\n"
     ]
    }
   ],
   "source": [
    "# parameters and arguments in functions\n",
    "def multiply(x, y):  # x and y are parameters\n",
    "    result = x * y\n",
    "    return result\n",
    "answer = multiply(10.5, 4)\n",
    "print(answer)\n",
    "\n",
    "forty_two = multiply(6, 7)\n",
    "print(forty_two)\n",
    "\n",
    "print()\n",
    "\n",
    "for val in range(1, 5):\n",
    "    two_times = multiply(2, val)\n",
    "    print(two_times)\n"
   ]
  },
  {
   "cell_type": "code",
   "execution_count": 6,
   "id": "e284e02f",
   "metadata": {
    "ExecuteTime": {
     "end_time": "2022-08-23T18:17:56.197551Z",
     "start_time": "2022-08-23T18:17:51.145901Z"
    }
   },
   "outputs": [
    {
     "name": "stdout",
     "output_type": "stream",
     "text": [
      "Please enter a word to check: anaa\n",
      "'anaa' is not a palindrome\n"
     ]
    }
   ],
   "source": [
    "# palindrome example is ana\n",
    "def is_palindrome(string):\n",
    "    # backwards = string[::-1]\n",
    "    # return backwards == string\n",
    "    return string[::-1] == string\n",
    "\n",
    "\n",
    "word = input(\"Please enter a word to check: \")\n",
    "if is_palindrome(word):\n",
    "    print(\"'{}' is a palindrome\".format(word))\n",
    "else:\n",
    "    print(\"'{}' is not a palindrome\".format(word))\n"
   ]
  },
  {
   "cell_type": "code",
   "execution_count": null,
   "id": "cd969d68",
   "metadata": {
    "ExecuteTime": {
     "start_time": "2022-08-29T09:25:07.784Z"
    }
   },
   "outputs": [],
   "source": [
    "# palindrome using casefold\n",
    "def is_palindrome(string):\n",
    "    # backwards = string[::-1]\n",
    "    # return backwards == string\n",
    "    return string[::-1].casefold() == string.casefold()\n",
    "\n",
    "\n",
    "word = input(\"Please enter a word to check: \")\n",
    "if is_palindrome(word):\n",
    "    print(\"'{}' is a palindrome\".format(word))\n",
    "else:\n",
    "    print(\"'{}' is not a palindrome\".format(word))\n"
   ]
  },
  {
   "cell_type": "code",
   "execution_count": 8,
   "id": "8553e148",
   "metadata": {
    "ExecuteTime": {
     "end_time": "2022-08-23T18:21:27.691979Z",
     "start_time": "2022-08-23T18:21:16.305458Z"
    }
   },
   "outputs": [
    {
     "name": "stdout",
     "output_type": "stream",
     "text": [
      "Please enter a word to check: i am learning python\n",
      "iamlearningpython\n",
      "'i am learning python' is not a palindrome\n"
     ]
    }
   ],
   "source": [
    "# palindrome for sentence\n",
    "def palindrome_sentence(sentence):\n",
    "    string = \"\"\n",
    "    for char in sentence:\n",
    "        if char.isalnum(): # ALPHANUMERIC \n",
    "            string += char\n",
    "    print(string)\n",
    "    return string[::-1].casefold() == string.casefold()\n",
    "\n",
    "\n",
    "word = input(\"Please enter a word to check: \")\n",
    "if palindrome_sentence(word):\n",
    "    print(\"'{}' is a palindrome\".format(word))\n",
    "else:\n",
    "    print(\"'{}' is not a palindrome\".format(word))\n"
   ]
  },
  {
   "cell_type": "code",
   "execution_count": 9,
   "id": "4ea2d414",
   "metadata": {
    "ExecuteTime": {
     "end_time": "2022-08-23T18:23:18.601747Z",
     "start_time": "2022-08-23T18:22:34.645891Z"
    }
   },
   "outputs": [
    {
     "name": "stdout",
     "output_type": "stream",
     "text": [
      "Please enter a word to check: madam\n",
      "madam\n",
      "'madam' is a palindrome\n"
     ]
    }
   ],
   "source": [
    "#function calling function\n",
    "def palindrome_sentence(sentence):\n",
    "    string = \"\"\n",
    "    for char in sentence:\n",
    "        if char.isalnum():\n",
    "            string += char\n",
    "    print(string)\n",
    "    # return string[::-1].casefold() == string.casefold()\n",
    "    return is_palindrome(string) # calling function\n",
    "\n",
    "word = input(\"Please enter a word to check: \")\n",
    "if palindrome_sentence(word):\n",
    "    print(\"'{}' is a palindrome\".format(word))\n",
    "else:\n",
    "    print(\"'{}' is not a palindrome\".format(word))\n"
   ]
  },
  {
   "cell_type": "code",
   "execution_count": 1,
   "id": "df81d3c0",
   "metadata": {
    "ExecuteTime": {
     "end_time": "2022-08-29T07:57:48.062196Z",
     "start_time": "2022-08-29T07:57:48.030657Z"
    }
   },
   "outputs": [
    {
     "name": "stdout",
     "output_type": "stream",
     "text": [
      "********************************************************************************\n",
      "**                 Always look on the bright side of life...                  **\n",
      "**                        If life seems jolly rotten,                         **\n",
      "**                    There's something you've forgotten!                     **\n",
      "**             And that's to laugh and smile and dance and sing,              **\n",
      "**                                                                            **\n",
      "**                     When you're feeling in the dumps,                      **\n",
      "**                           Don't be silly chumps,                           **\n",
      "**            Just purse your lips and whistle - that's the thing!            **\n",
      "**              And... always look on the bright side of life...              **\n",
      "********************************************************************************\n",
      "**                            Nothing is returned                             **\n",
      "None\n",
      "None\n"
     ]
    }
   ],
   "source": [
    "#actions by using functions\n",
    "def banner_text(text):\n",
    "    screen_width = 80\n",
    "    if len(text) > screen_width - 4:\n",
    "        print(\"EEK!!\")\n",
    "        print(\"THE TEXT IS TOO LONG TO FIT IN THE SPECIFIED WIDTH\")\n",
    "\n",
    "    if text == \"*\":\n",
    "        print(\"*\" * screen_width)\n",
    "    else:\n",
    "        centred_text = text.center(screen_width - 4)\n",
    "        output_string = \"**{0}**\".format(centred_text)\n",
    "        print(output_string)\n",
    "\n",
    "\n",
    "banner_text(\"*\")\n",
    "banner_text(\"Always look on the bright side of life...\")\n",
    "banner_text(\"If life seems jolly rotten,\")\n",
    "banner_text(\"There's something you've forgotten!\")\n",
    "banner_text(\"And that's to laugh and smile and dance and sing,\")\n",
    "banner_text(\" \")\n",
    "banner_text(\"When you're feeling in the dumps,\")\n",
    "banner_text(\"Don't be silly chumps,\")\n",
    "banner_text(\"Just purse your lips and whistle - that's the thing!\")\n",
    "banner_text(\"And... always look on the bright side of life...\")\n",
    "banner_text(\"*\")\n",
    "\n",
    "result = banner_text(\"Nothing is returned\")\n",
    "print(result)\n",
    "\n",
    "numbers = [4, 2, 7, 5, 8, 3, 9, 6, 1]\n",
    "print(numbers.sort())\n"
   ]
  },
  {
   "cell_type": "code",
   "execution_count": null,
   "id": "cb52f591",
   "metadata": {
    "ExecuteTime": {
     "start_time": "2022-08-23T18:37:34.517Z"
    }
   },
   "outputs": [],
   "source": [
    "#fibonacci series\n",
    "def fibonacci(n):\n",
    "    \"\"\"Return the `n` th Fibonacci number, for positive `n`.\"\"\"\n",
    "    if 0 <= n <= 1:\n",
    "        return n\n",
    "\n",
    "    n_minus1, n_minus2 = 1, 0\n",
    "\n",
    "    result = None\n",
    "    for f in range(n - 1):\n",
    "        result = n_minus2 + n_minus1\n",
    "        n_minus2 = n_minus1\n",
    "        n_minus1 = result\n",
    "\n",
    "    return result\n",
    "\n",
    "\n",
    "for i in range(36):\n",
    "    print(i, fibonacci(i))\n"
   ]
  },
  {
   "cell_type": "code",
   "execution_count": null,
   "id": "7b49b047",
   "metadata": {
    "ExecuteTime": {
     "start_time": "2022-08-29T07:59:09.390Z"
    }
   },
   "outputs": [
    {
     "name": "stdout",
     "output_type": "stream",
     "text": [
      "584\n",
      "Please guess number between 1 and 1000: \n"
     ]
    }
   ],
   "source": [
    "#returning values (guessing numbers)\n",
    "import random\n",
    "def get_integer(prompt):\n",
    "    while True:\n",
    "        temp = input(prompt)\n",
    "        if temp.isnumeric():\n",
    "            return int(temp)\n",
    "\n",
    "highest = 1000\n",
    "answer = random.randint(1, highest)\n",
    "print(answer)   # TODO: Remove after testing\n",
    "guess = 0 # initialise to any number that doesn't equal the answer\n",
    "print(\"Please guess number between 1 and {}: \".format(highest))\n",
    "\n",
    "while guess != answer:\n",
    "    guess = get_integer(\": \")\n",
    "\n",
    "    if guess == 0:\n",
    "        break\n",
    "    if guess == answer:\n",
    "        print(\"Well done, you guessed it\")\n",
    "        break\n",
    "    else:\n",
    "        if guess < answer:\n",
    "            print(\"Please guess higher\")\n",
    "        else:   # guess must be greater than answer\n",
    "            print(\"Please guess lower\")\n",
    "            guess = int(input())\n",
    "            if guess == answer:\n",
    "                print(\"Well done, you guessed it\")\n",
    "            else:\n",
    "                print(\"Sorry, you have not guessed correctly\")"
   ]
  },
  {
   "cell_type": "code",
   "execution_count": null,
   "id": "e7e222a6",
   "metadata": {
    "ExecuteTime": {
     "start_time": "2022-08-29T08:00:30.043Z"
    }
   },
   "outputs": [],
   "source": [
    "#guessing game\n",
    "import random\n",
    "\n",
    "\n",
    "def get_integer(prompt):\n",
    "    while True:\n",
    "        temp = input(prompt)\n",
    "        if temp.isnumeric():\n",
    "            return int(temp)\n",
    "        else:\n",
    "            print(\"{0} is not a valid number\".format(temp))\n",
    "\n",
    "\n",
    "highest = 1000\n",
    "answer = random.randint(1, highest)\n",
    "print(answer)   # TODO: Remove after testing\n",
    "guess = 0 # initialise to any number that doesn't equal the answer\n",
    "print(\"Please guess number between 1 and {}: \".format(highest))\n",
    "\n",
    "while guess != answer:\n",
    "    guess = get_integer(\": \")\n",
    "\n",
    "    if guess == 0:\n",
    "        break\n",
    "    if guess == answer:\n",
    "        print(\"Well done, you guessed it\")\n",
    "        break\n",
    "    else:\n",
    "        if guess < answer:\n",
    "            print(\"Please guess higher\")\n",
    "        else:   # guess must be greater than answer\n",
    "            print(\"Please guess lower\")\n",
    "        # guess = int(input())\n",
    "        # if guess == answer:\n",
    "        #     print(\"Well done, you guessed it\")\n",
    "        # else:\n",
    "        #     print(\"Sorry, you have not guessed correctly\")"
   ]
  }
 ],
 "metadata": {
  "kernelspec": {
   "display_name": "Python 3 (ipykernel)",
   "language": "python",
   "name": "python3"
  },
  "language_info": {
   "codemirror_mode": {
    "name": "ipython",
    "version": 3
   },
   "file_extension": ".py",
   "mimetype": "text/x-python",
   "name": "python",
   "nbconvert_exporter": "python",
   "pygments_lexer": "ipython3",
   "version": "3.9.7"
  }
 },
 "nbformat": 4,
 "nbformat_minor": 5
}
