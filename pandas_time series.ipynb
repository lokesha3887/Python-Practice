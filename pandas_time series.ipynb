{
 "cells": [
  {
   "cell_type": "code",
   "execution_count": 60,
   "id": "354ea97f",
   "metadata": {
    "ExecuteTime": {
     "end_time": "2022-05-25T09:39:17.156428Z",
     "start_time": "2022-05-25T09:39:17.133857Z"
    }
   },
   "outputs": [
    {
     "data": {
      "text/html": [
       "<div>\n",
       "<style scoped>\n",
       "    .dataframe tbody tr th:only-of-type {\n",
       "        vertical-align: middle;\n",
       "    }\n",
       "\n",
       "    .dataframe tbody tr th {\n",
       "        vertical-align: top;\n",
       "    }\n",
       "\n",
       "    .dataframe thead th {\n",
       "        text-align: right;\n",
       "    }\n",
       "</style>\n",
       "<table border=\"1\" class=\"dataframe\">\n",
       "  <thead>\n",
       "    <tr style=\"text-align: right;\">\n",
       "      <th></th>\n",
       "      <th>Close/Last</th>\n",
       "      <th>Volume</th>\n",
       "      <th>Open</th>\n",
       "      <th>High</th>\n",
       "      <th>Low</th>\n",
       "    </tr>\n",
       "    <tr>\n",
       "      <th>Date</th>\n",
       "      <th></th>\n",
       "      <th></th>\n",
       "      <th></th>\n",
       "      <th></th>\n",
       "      <th></th>\n",
       "    </tr>\n",
       "  </thead>\n",
       "  <tbody>\n",
       "    <tr>\n",
       "      <th>2022-05-24</th>\n",
       "      <td>$140.36</td>\n",
       "      <td>104132700</td>\n",
       "      <td>$140.805</td>\n",
       "      <td>$141.97</td>\n",
       "      <td>$137.33</td>\n",
       "    </tr>\n",
       "    <tr>\n",
       "      <th>2022-05-23</th>\n",
       "      <td>$143.11</td>\n",
       "      <td>117726300</td>\n",
       "      <td>$137.79</td>\n",
       "      <td>$143.26</td>\n",
       "      <td>$137.65</td>\n",
       "    </tr>\n",
       "    <tr>\n",
       "      <th>2022-05-20</th>\n",
       "      <td>$137.59</td>\n",
       "      <td>137426100</td>\n",
       "      <td>$139.09</td>\n",
       "      <td>$140.7</td>\n",
       "      <td>$132.61</td>\n",
       "    </tr>\n",
       "    <tr>\n",
       "      <th>2022-05-19</th>\n",
       "      <td>$137.35</td>\n",
       "      <td>136095600</td>\n",
       "      <td>$139.88</td>\n",
       "      <td>$141.66</td>\n",
       "      <td>$136.6</td>\n",
       "    </tr>\n",
       "    <tr>\n",
       "      <th>2022-05-18</th>\n",
       "      <td>$140.82</td>\n",
       "      <td>109742900</td>\n",
       "      <td>$146.85</td>\n",
       "      <td>$147.3601</td>\n",
       "      <td>$139.9</td>\n",
       "    </tr>\n",
       "    <tr>\n",
       "      <th>...</th>\n",
       "      <td>...</td>\n",
       "      <td>...</td>\n",
       "      <td>...</td>\n",
       "      <td>...</td>\n",
       "      <td>...</td>\n",
       "    </tr>\n",
       "    <tr>\n",
       "      <th>2021-06-01</th>\n",
       "      <td>$124.28</td>\n",
       "      <td>67637120</td>\n",
       "      <td>$125.08</td>\n",
       "      <td>$125.35</td>\n",
       "      <td>$123.94</td>\n",
       "    </tr>\n",
       "    <tr>\n",
       "      <th>2021-05-28</th>\n",
       "      <td>$124.61</td>\n",
       "      <td>71311110</td>\n",
       "      <td>$125.57</td>\n",
       "      <td>$125.8</td>\n",
       "      <td>$124.55</td>\n",
       "    </tr>\n",
       "    <tr>\n",
       "      <th>2021-05-27</th>\n",
       "      <td>$125.28</td>\n",
       "      <td>94625600</td>\n",
       "      <td>$126.44</td>\n",
       "      <td>$127.64</td>\n",
       "      <td>$125.08</td>\n",
       "    </tr>\n",
       "    <tr>\n",
       "      <th>2021-05-26</th>\n",
       "      <td>$126.85</td>\n",
       "      <td>56575920</td>\n",
       "      <td>$126.955</td>\n",
       "      <td>$127.39</td>\n",
       "      <td>$126.42</td>\n",
       "    </tr>\n",
       "    <tr>\n",
       "      <th>2021-05-25</th>\n",
       "      <td>$126.9</td>\n",
       "      <td>72009480</td>\n",
       "      <td>$127.82</td>\n",
       "      <td>$128.32</td>\n",
       "      <td>$126.32</td>\n",
       "    </tr>\n",
       "  </tbody>\n",
       "</table>\n",
       "<p>253 rows × 5 columns</p>\n",
       "</div>"
      ],
      "text/plain": [
       "           Close/Last     Volume      Open       High      Low\n",
       "Date                                                          \n",
       "2022-05-24    $140.36  104132700  $140.805    $141.97  $137.33\n",
       "2022-05-23    $143.11  117726300   $137.79    $143.26  $137.65\n",
       "2022-05-20    $137.59  137426100   $139.09     $140.7  $132.61\n",
       "2022-05-19    $137.35  136095600   $139.88    $141.66   $136.6\n",
       "2022-05-18    $140.82  109742900   $146.85  $147.3601   $139.9\n",
       "...               ...        ...       ...        ...      ...\n",
       "2021-06-01    $124.28   67637120   $125.08    $125.35  $123.94\n",
       "2021-05-28    $124.61   71311110   $125.57     $125.8  $124.55\n",
       "2021-05-27    $125.28   94625600   $126.44    $127.64  $125.08\n",
       "2021-05-26    $126.85   56575920  $126.955    $127.39  $126.42\n",
       "2021-05-25     $126.9   72009480   $127.82    $128.32  $126.32\n",
       "\n",
       "[253 rows x 5 columns]"
      ]
     },
     "execution_count": 60,
     "metadata": {},
     "output_type": "execute_result"
    }
   ],
   "source": [
    "import pandas as pd \n",
    "import numpy as np\n",
    "data=pd.read_csv(\"HistoricalData_1653460938969.csv\",parse_dates=[\"Date\"],index_col=\"Date\")#to convert series to time stamp\n",
    "data"
   ]
  },
  {
   "cell_type": "code",
   "execution_count": 61,
   "id": "4ce195b7",
   "metadata": {
    "ExecuteTime": {
     "end_time": "2022-05-25T07:04:55.378036Z",
     "start_time": "2022-05-25T07:04:55.363380Z"
    }
   },
   "outputs": [],
   "source": [
    "data.replace('[$]',' ',regex=True,inplace=True)\n"
   ]
  },
  {
   "cell_type": "code",
   "execution_count": 62,
   "id": "e9985302",
   "metadata": {
    "ExecuteTime": {
     "end_time": "2022-05-25T07:04:56.466804Z",
     "start_time": "2022-05-25T07:04:56.450804Z"
    }
   },
   "outputs": [
    {
     "data": {
      "text/plain": [
       "DatetimeIndex(['2022-05-24', '2022-05-23', '2022-05-20', '2022-05-19',\n",
       "               '2022-05-18', '2022-05-17', '2022-05-16', '2022-05-13',\n",
       "               '2022-05-12', '2022-05-11',\n",
       "               ...\n",
       "               '2021-06-08', '2021-06-07', '2021-06-04', '2021-06-03',\n",
       "               '2021-06-02', '2021-06-01', '2021-05-28', '2021-05-27',\n",
       "               '2021-05-26', '2021-05-25'],\n",
       "              dtype='datetime64[ns]', name='Date', length=253, freq=None)"
      ]
     },
     "execution_count": 62,
     "metadata": {},
     "output_type": "execute_result"
    }
   ],
   "source": [
    "data.index"
   ]
  },
  {
   "cell_type": "code",
   "execution_count": 63,
   "id": "fbe9def2",
   "metadata": {
    "ExecuteTime": {
     "end_time": "2022-05-25T07:04:57.386736Z",
     "start_time": "2022-05-25T07:04:57.362609Z"
    }
   },
   "outputs": [
    {
     "name": "stderr",
     "output_type": "stream",
     "text": [
      "C:\\Users\\LOKESH~1\\AppData\\Local\\Temp/ipykernel_2380/2058965853.py:1: FutureWarning: Indexing a DataFrame with a datetimelike index using a single string to slice the rows, like `frame[string]`, is deprecated and will be removed in a future version. Use `frame.loc[string]` instead.\n",
      "  data[\"2022-04\"]\n"
     ]
    },
    {
     "data": {
      "text/html": [
       "<div>\n",
       "<style scoped>\n",
       "    .dataframe tbody tr th:only-of-type {\n",
       "        vertical-align: middle;\n",
       "    }\n",
       "\n",
       "    .dataframe tbody tr th {\n",
       "        vertical-align: top;\n",
       "    }\n",
       "\n",
       "    .dataframe thead th {\n",
       "        text-align: right;\n",
       "    }\n",
       "</style>\n",
       "<table border=\"1\" class=\"dataframe\">\n",
       "  <thead>\n",
       "    <tr style=\"text-align: right;\">\n",
       "      <th></th>\n",
       "      <th>Close/Last</th>\n",
       "      <th>Volume</th>\n",
       "      <th>Open</th>\n",
       "      <th>High</th>\n",
       "      <th>Low</th>\n",
       "    </tr>\n",
       "    <tr>\n",
       "      <th>Date</th>\n",
       "      <th></th>\n",
       "      <th></th>\n",
       "      <th></th>\n",
       "      <th></th>\n",
       "      <th></th>\n",
       "    </tr>\n",
       "  </thead>\n",
       "  <tbody>\n",
       "    <tr>\n",
       "      <th>2022-04-29</th>\n",
       "      <td>157.65</td>\n",
       "      <td>131747600</td>\n",
       "      <td>161.84</td>\n",
       "      <td>166.2</td>\n",
       "      <td>157.25</td>\n",
       "    </tr>\n",
       "    <tr>\n",
       "      <th>2022-04-28</th>\n",
       "      <td>163.64</td>\n",
       "      <td>130216800</td>\n",
       "      <td>159.25</td>\n",
       "      <td>164.515</td>\n",
       "      <td>158.93</td>\n",
       "    </tr>\n",
       "    <tr>\n",
       "      <th>2022-04-27</th>\n",
       "      <td>156.57</td>\n",
       "      <td>88063190</td>\n",
       "      <td>155.91</td>\n",
       "      <td>159.79</td>\n",
       "      <td>155.38</td>\n",
       "    </tr>\n",
       "    <tr>\n",
       "      <th>2022-04-26</th>\n",
       "      <td>156.8</td>\n",
       "      <td>95623240</td>\n",
       "      <td>162.25</td>\n",
       "      <td>162.34</td>\n",
       "      <td>156.72</td>\n",
       "    </tr>\n",
       "    <tr>\n",
       "      <th>2022-04-25</th>\n",
       "      <td>162.88</td>\n",
       "      <td>96046380</td>\n",
       "      <td>161.12</td>\n",
       "      <td>163.17</td>\n",
       "      <td>158.46</td>\n",
       "    </tr>\n",
       "    <tr>\n",
       "      <th>2022-04-22</th>\n",
       "      <td>161.79</td>\n",
       "      <td>84882420</td>\n",
       "      <td>166.46</td>\n",
       "      <td>167.8699</td>\n",
       "      <td>161.5</td>\n",
       "    </tr>\n",
       "    <tr>\n",
       "      <th>2022-04-21</th>\n",
       "      <td>166.42</td>\n",
       "      <td>87227770</td>\n",
       "      <td>168.91</td>\n",
       "      <td>171.53</td>\n",
       "      <td>165.91</td>\n",
       "    </tr>\n",
       "    <tr>\n",
       "      <th>2022-04-20</th>\n",
       "      <td>167.23</td>\n",
       "      <td>67929810</td>\n",
       "      <td>168.76</td>\n",
       "      <td>168.88</td>\n",
       "      <td>166.1</td>\n",
       "    </tr>\n",
       "    <tr>\n",
       "      <th>2022-04-19</th>\n",
       "      <td>167.4</td>\n",
       "      <td>67723830</td>\n",
       "      <td>165.02</td>\n",
       "      <td>167.82</td>\n",
       "      <td>163.91</td>\n",
       "    </tr>\n",
       "    <tr>\n",
       "      <th>2022-04-18</th>\n",
       "      <td>165.07</td>\n",
       "      <td>69023940</td>\n",
       "      <td>163.92</td>\n",
       "      <td>166.5984</td>\n",
       "      <td>163.57</td>\n",
       "    </tr>\n",
       "    <tr>\n",
       "      <th>2022-04-14</th>\n",
       "      <td>165.29</td>\n",
       "      <td>75329380</td>\n",
       "      <td>170.62</td>\n",
       "      <td>171.27</td>\n",
       "      <td>165.04</td>\n",
       "    </tr>\n",
       "    <tr>\n",
       "      <th>2022-04-13</th>\n",
       "      <td>170.4</td>\n",
       "      <td>70618930</td>\n",
       "      <td>167.39</td>\n",
       "      <td>171.04</td>\n",
       "      <td>166.77</td>\n",
       "    </tr>\n",
       "    <tr>\n",
       "      <th>2022-04-12</th>\n",
       "      <td>167.66</td>\n",
       "      <td>79265180</td>\n",
       "      <td>168.02</td>\n",
       "      <td>169.87</td>\n",
       "      <td>166.64</td>\n",
       "    </tr>\n",
       "    <tr>\n",
       "      <th>2022-04-11</th>\n",
       "      <td>165.75</td>\n",
       "      <td>72246710</td>\n",
       "      <td>168.71</td>\n",
       "      <td>169.03</td>\n",
       "      <td>165.5</td>\n",
       "    </tr>\n",
       "    <tr>\n",
       "      <th>2022-04-08</th>\n",
       "      <td>170.09</td>\n",
       "      <td>76575510</td>\n",
       "      <td>171.78</td>\n",
       "      <td>171.78</td>\n",
       "      <td>169.2</td>\n",
       "    </tr>\n",
       "    <tr>\n",
       "      <th>2022-04-07</th>\n",
       "      <td>172.14</td>\n",
       "      <td>77594650</td>\n",
       "      <td>171.16</td>\n",
       "      <td>173.36</td>\n",
       "      <td>169.85</td>\n",
       "    </tr>\n",
       "    <tr>\n",
       "      <th>2022-04-06</th>\n",
       "      <td>171.83</td>\n",
       "      <td>89058780</td>\n",
       "      <td>172.36</td>\n",
       "      <td>173.63</td>\n",
       "      <td>170.13</td>\n",
       "    </tr>\n",
       "    <tr>\n",
       "      <th>2022-04-05</th>\n",
       "      <td>175.06</td>\n",
       "      <td>73401790</td>\n",
       "      <td>177.5</td>\n",
       "      <td>178.3</td>\n",
       "      <td>174.415</td>\n",
       "    </tr>\n",
       "    <tr>\n",
       "      <th>2022-04-04</th>\n",
       "      <td>178.44</td>\n",
       "      <td>76545980</td>\n",
       "      <td>174.57</td>\n",
       "      <td>178.49</td>\n",
       "      <td>174.44</td>\n",
       "    </tr>\n",
       "    <tr>\n",
       "      <th>2022-04-01</th>\n",
       "      <td>174.31</td>\n",
       "      <td>78751330</td>\n",
       "      <td>174.03</td>\n",
       "      <td>174.88</td>\n",
       "      <td>171.94</td>\n",
       "    </tr>\n",
       "  </tbody>\n",
       "</table>\n",
       "</div>"
      ],
      "text/plain": [
       "           Close/Last     Volume     Open       High       Low\n",
       "Date                                                          \n",
       "2022-04-29     157.65  131747600   161.84      166.2    157.25\n",
       "2022-04-28     163.64  130216800   159.25    164.515    158.93\n",
       "2022-04-27     156.57   88063190   155.91     159.79    155.38\n",
       "2022-04-26      156.8   95623240   162.25     162.34    156.72\n",
       "2022-04-25     162.88   96046380   161.12     163.17    158.46\n",
       "2022-04-22     161.79   84882420   166.46   167.8699     161.5\n",
       "2022-04-21     166.42   87227770   168.91     171.53    165.91\n",
       "2022-04-20     167.23   67929810   168.76     168.88     166.1\n",
       "2022-04-19      167.4   67723830   165.02     167.82    163.91\n",
       "2022-04-18     165.07   69023940   163.92   166.5984    163.57\n",
       "2022-04-14     165.29   75329380   170.62     171.27    165.04\n",
       "2022-04-13      170.4   70618930   167.39     171.04    166.77\n",
       "2022-04-12     167.66   79265180   168.02     169.87    166.64\n",
       "2022-04-11     165.75   72246710   168.71     169.03     165.5\n",
       "2022-04-08     170.09   76575510   171.78     171.78     169.2\n",
       "2022-04-07     172.14   77594650   171.16     173.36    169.85\n",
       "2022-04-06     171.83   89058780   172.36     173.63    170.13\n",
       "2022-04-05     175.06   73401790    177.5      178.3   174.415\n",
       "2022-04-04     178.44   76545980   174.57     178.49    174.44\n",
       "2022-04-01     174.31   78751330   174.03     174.88    171.94"
      ]
     },
     "execution_count": 63,
     "metadata": {},
     "output_type": "execute_result"
    }
   ],
   "source": [
    "data[\"2022-04\"]"
   ]
  },
  {
   "cell_type": "code",
   "execution_count": 64,
   "id": "15853017",
   "metadata": {
    "ExecuteTime": {
     "end_time": "2022-05-25T07:04:58.180553Z",
     "start_time": "2022-05-25T07:04:58.164205Z"
    }
   },
   "outputs": [
    {
     "name": "stdout",
     "output_type": "stream",
     "text": [
      "<class 'pandas.core.frame.DataFrame'>\n",
      "DatetimeIndex: 253 entries, 2022-05-24 to 2021-05-25\n",
      "Data columns (total 5 columns):\n",
      " #   Column      Non-Null Count  Dtype \n",
      "---  ------      --------------  ----- \n",
      " 0   Close/Last  253 non-null    object\n",
      " 1   Volume      253 non-null    int64 \n",
      " 2   Open        253 non-null    object\n",
      " 3   High        253 non-null    object\n",
      " 4   Low         253 non-null    object\n",
      "dtypes: int64(1), object(4)\n",
      "memory usage: 11.9+ KB\n"
     ]
    }
   ],
   "source": [
    "data.info()"
   ]
  },
  {
   "cell_type": "code",
   "execution_count": 65,
   "id": "eb4996fe",
   "metadata": {
    "ExecuteTime": {
     "end_time": "2022-05-25T07:04:59.229806Z",
     "start_time": "2022-05-25T07:04:59.213800Z"
    }
   },
   "outputs": [
    {
     "name": "stderr",
     "output_type": "stream",
     "text": [
      "C:\\Users\\LOKESH~1\\AppData\\Local\\Temp/ipykernel_2380/4180636208.py:1: FutureWarning: Indexing a DataFrame with a datetimelike index using a single string to slice the rows, like `frame[string]`, is deprecated and will be removed in a future version. Use `frame.loc[string]` instead.\n",
      "  data['2022-04'].mean()\n",
      "C:\\Users\\LOKESH~1\\AppData\\Local\\Temp/ipykernel_2380/4180636208.py:1: FutureWarning: Dropping of nuisance columns in DataFrame reductions (with 'numeric_only=None') is deprecated; in a future version this will raise TypeError.  Select only valid columns before calling the reduction.\n",
      "  data['2022-04'].mean()\n"
     ]
    },
    {
     "data": {
      "text/plain": [
       "Volume    84393661.0\n",
       "dtype: float64"
      ]
     },
     "execution_count": 65,
     "metadata": {},
     "output_type": "execute_result"
    }
   ],
   "source": [
    "data['2022-04'].mean()"
   ]
  },
  {
   "cell_type": "code",
   "execution_count": 66,
   "id": "f62a68af",
   "metadata": {
    "ExecuteTime": {
     "end_time": "2022-05-25T07:05:05.719268Z",
     "start_time": "2022-05-25T07:05:05.595781Z"
    }
   },
   "outputs": [
    {
     "name": "stderr",
     "output_type": "stream",
     "text": [
      "C:\\Users\\LOKESH~1\\AppData\\Local\\Temp/ipykernel_2380/3175389548.py:2: FutureWarning: Indexing a DataFrame with a datetimelike index using a single string to slice the rows, like `frame[string]`, is deprecated and will be removed in a future version. Use `frame.loc[string]` instead.\n",
      "  data['2022-05'].resample('W').mean().plot()\n"
     ]
    },
    {
     "data": {
      "text/plain": [
       "<AxesSubplot:xlabel='Date'>"
      ]
     },
     "execution_count": 66,
     "metadata": {},
     "output_type": "execute_result"
    },
    {
     "data": {
      "image/png": "[encoded data removed]",
      "text/plain": [
       "<Figure size 432x288 with 1 Axes>"
      ]
     },
     "metadata": {
      "needs_background": "light"
     },
     "output_type": "display_data"
    }
   ],
   "source": [
    "%matplotlib inline\n",
    "data['2022-05'].resample('W').mean().plot()"
   ]
  },
  {
   "cell_type": "code",
   "execution_count": null,
   "id": "4efa5584",
   "metadata": {
    "ExecuteTime": {
     "end_time": "2022-05-25T07:01:42.502210Z",
     "start_time": "2022-05-25T07:01:42.490567Z"
    }
   },
   "outputs": [],
   "source": []
  },
  {
   "cell_type": "code",
   "execution_count": 67,
   "id": "a4ac679a",
   "metadata": {
    "ExecuteTime": {
     "end_time": "2022-05-25T07:05:10.077150Z",
     "start_time": "2022-05-25T07:05:10.029342Z"
    }
   },
   "outputs": [
    {
     "data": {
      "text/plain": [
       "DatetimeIndex(['2016-05-23', '2016-05-24', '2016-05-25', '2016-05-26',\n",
       "               '2016-05-27', '2016-05-30', '2016-05-31', '2016-06-01',\n",
       "               '2016-06-02', '2016-06-03',\n",
       "               ...\n",
       "               '2029-04-09', '2029-04-10', '2029-04-11', '2029-04-12',\n",
       "               '2029-04-13', '2029-04-16', '2029-04-17', '2029-04-18',\n",
       "               '2029-04-19', '2029-04-20'],\n",
       "              dtype='datetime64[ns]', length=3370, freq='B')"
      ]
     },
     "execution_count": 67,
     "metadata": {},
     "output_type": "execute_result"
    }
   ],
   "source": [
    "rang_e=pd.date_range(start='22-05-16',end='22-04-29',freq='B')#gives business days only\n",
    "rang_e"
   ]
  },
  {
   "cell_type": "code",
   "execution_count": 68,
   "id": "1cbf7be5",
   "metadata": {
    "ExecuteTime": {
     "end_time": "2022-05-25T07:05:10.778314Z",
     "start_time": "2022-05-25T07:05:10.768054Z"
    }
   },
   "outputs": [
    {
     "data": {
      "text/plain": [
       "DatetimeIndex(['2016-05-23', '2016-05-24', '2016-05-25', '2016-05-26',\n",
       "               '2016-05-27', '2016-05-30', '2016-05-31', '2016-06-01',\n",
       "               '2016-06-02', '2016-06-03', '2016-06-06', '2016-06-07'],\n",
       "              dtype='datetime64[ns]', freq='B')"
      ]
     },
     "execution_count": 68,
     "metadata": {},
     "output_type": "execute_result"
    }
   ],
   "source": [
    "rang=pd.date_range(start='22-05-16',periods=12,freq='B')#when we dont know the end date \n",
    "rang"
   ]
  },
  {
   "cell_type": "code",
   "execution_count": 69,
   "id": "4e2f2252",
   "metadata": {
    "ExecuteTime": {
     "end_time": "2022-05-25T07:05:11.747096Z",
     "start_time": "2022-05-25T07:05:11.715084Z"
    }
   },
   "outputs": [
    {
     "data": {
      "text/html": [
       "<div>\n",
       "<style scoped>\n",
       "    .dataframe tbody tr th:only-of-type {\n",
       "        vertical-align: middle;\n",
       "    }\n",
       "\n",
       "    .dataframe tbody tr th {\n",
       "        vertical-align: top;\n",
       "    }\n",
       "\n",
       "    .dataframe thead th {\n",
       "        text-align: right;\n",
       "    }\n",
       "</style>\n",
       "<table border=\"1\" class=\"dataframe\">\n",
       "  <thead>\n",
       "    <tr style=\"text-align: right;\">\n",
       "      <th></th>\n",
       "      <th>Close/Last</th>\n",
       "      <th>Volume</th>\n",
       "      <th>Open</th>\n",
       "      <th>High</th>\n",
       "      <th>Low</th>\n",
       "    </tr>\n",
       "    <tr>\n",
       "      <th>Date</th>\n",
       "      <th></th>\n",
       "      <th></th>\n",
       "      <th></th>\n",
       "      <th></th>\n",
       "      <th></th>\n",
       "    </tr>\n",
       "  </thead>\n",
       "  <tbody>\n",
       "    <tr>\n",
       "      <th>2021-05-25</th>\n",
       "      <td>126.9</td>\n",
       "      <td>72009480</td>\n",
       "      <td>127.82</td>\n",
       "      <td>128.32</td>\n",
       "      <td>126.32</td>\n",
       "    </tr>\n",
       "    <tr>\n",
       "      <th>2021-05-26</th>\n",
       "      <td>126.85</td>\n",
       "      <td>56575920</td>\n",
       "      <td>126.955</td>\n",
       "      <td>127.39</td>\n",
       "      <td>126.42</td>\n",
       "    </tr>\n",
       "    <tr>\n",
       "      <th>2021-05-27</th>\n",
       "      <td>125.28</td>\n",
       "      <td>94625600</td>\n",
       "      <td>126.44</td>\n",
       "      <td>127.64</td>\n",
       "      <td>125.08</td>\n",
       "    </tr>\n",
       "    <tr>\n",
       "      <th>2021-05-28</th>\n",
       "      <td>124.61</td>\n",
       "      <td>71311110</td>\n",
       "      <td>125.57</td>\n",
       "      <td>125.8</td>\n",
       "      <td>124.55</td>\n",
       "    </tr>\n",
       "    <tr>\n",
       "      <th>2021-05-29</th>\n",
       "      <td>124.28</td>\n",
       "      <td>67637120</td>\n",
       "      <td>125.08</td>\n",
       "      <td>125.35</td>\n",
       "      <td>123.94</td>\n",
       "    </tr>\n",
       "    <tr>\n",
       "      <th>...</th>\n",
       "      <td>...</td>\n",
       "      <td>...</td>\n",
       "      <td>...</td>\n",
       "      <td>...</td>\n",
       "      <td>...</td>\n",
       "    </tr>\n",
       "    <tr>\n",
       "      <th>2022-05-20</th>\n",
       "      <td>137.59</td>\n",
       "      <td>137426100</td>\n",
       "      <td>139.09</td>\n",
       "      <td>140.7</td>\n",
       "      <td>132.61</td>\n",
       "    </tr>\n",
       "    <tr>\n",
       "      <th>2022-05-21</th>\n",
       "      <td>143.11</td>\n",
       "      <td>117726300</td>\n",
       "      <td>137.79</td>\n",
       "      <td>143.26</td>\n",
       "      <td>137.65</td>\n",
       "    </tr>\n",
       "    <tr>\n",
       "      <th>2022-05-22</th>\n",
       "      <td>143.11</td>\n",
       "      <td>117726300</td>\n",
       "      <td>137.79</td>\n",
       "      <td>143.26</td>\n",
       "      <td>137.65</td>\n",
       "    </tr>\n",
       "    <tr>\n",
       "      <th>2022-05-23</th>\n",
       "      <td>143.11</td>\n",
       "      <td>117726300</td>\n",
       "      <td>137.79</td>\n",
       "      <td>143.26</td>\n",
       "      <td>137.65</td>\n",
       "    </tr>\n",
       "    <tr>\n",
       "      <th>2022-05-24</th>\n",
       "      <td>140.36</td>\n",
       "      <td>104132700</td>\n",
       "      <td>140.805</td>\n",
       "      <td>141.97</td>\n",
       "      <td>137.33</td>\n",
       "    </tr>\n",
       "  </tbody>\n",
       "</table>\n",
       "<p>365 rows × 5 columns</p>\n",
       "</div>"
      ],
      "text/plain": [
       "           Close/Last     Volume      Open     High      Low\n",
       "Date                                                        \n",
       "2021-05-25      126.9   72009480    127.82   128.32   126.32\n",
       "2021-05-26     126.85   56575920   126.955   127.39   126.42\n",
       "2021-05-27     125.28   94625600    126.44   127.64   125.08\n",
       "2021-05-28     124.61   71311110    125.57    125.8   124.55\n",
       "2021-05-29     124.28   67637120    125.08   125.35   123.94\n",
       "...               ...        ...       ...      ...      ...\n",
       "2022-05-20     137.59  137426100    139.09    140.7   132.61\n",
       "2022-05-21     143.11  117726300    137.79   143.26   137.65\n",
       "2022-05-22     143.11  117726300    137.79   143.26   137.65\n",
       "2022-05-23     143.11  117726300    137.79   143.26   137.65\n",
       "2022-05-24     140.36  104132700   140.805   141.97   137.33\n",
       "\n",
       "[365 rows x 5 columns]"
      ]
     },
     "execution_count": 69,
     "metadata": {},
     "output_type": "execute_result"
    }
   ],
   "source": [
    "data.asfreq('D',method='pad')#re generates the data based on their frequencies"
   ]
  },
  {
   "cell_type": "code",
   "execution_count": 70,
   "id": "aa4ba4d3",
   "metadata": {
    "ExecuteTime": {
     "end_time": "2022-05-25T07:05:12.692955Z",
     "start_time": "2022-05-25T07:05:12.660756Z"
    }
   },
   "outputs": [
    {
     "data": {
      "text/html": [
       "<div>\n",
       "<style scoped>\n",
       "    .dataframe tbody tr th:only-of-type {\n",
       "        vertical-align: middle;\n",
       "    }\n",
       "\n",
       "    .dataframe tbody tr th {\n",
       "        vertical-align: top;\n",
       "    }\n",
       "\n",
       "    .dataframe thead th {\n",
       "        text-align: right;\n",
       "    }\n",
       "</style>\n",
       "<table border=\"1\" class=\"dataframe\">\n",
       "  <thead>\n",
       "    <tr style=\"text-align: right;\">\n",
       "      <th></th>\n",
       "      <th>Close/Last</th>\n",
       "      <th>Volume</th>\n",
       "      <th>Open</th>\n",
       "      <th>High</th>\n",
       "      <th>Low</th>\n",
       "    </tr>\n",
       "    <tr>\n",
       "      <th>Date</th>\n",
       "      <th></th>\n",
       "      <th></th>\n",
       "      <th></th>\n",
       "      <th></th>\n",
       "      <th></th>\n",
       "    </tr>\n",
       "  </thead>\n",
       "  <tbody>\n",
       "    <tr>\n",
       "      <th>2021-05-30</th>\n",
       "      <td>124.28</td>\n",
       "      <td>67637120</td>\n",
       "      <td>125.08</td>\n",
       "      <td>125.35</td>\n",
       "      <td>123.94</td>\n",
       "    </tr>\n",
       "    <tr>\n",
       "      <th>2021-06-06</th>\n",
       "      <td>125.9</td>\n",
       "      <td>71057550</td>\n",
       "      <td>126.17</td>\n",
       "      <td>126.32</td>\n",
       "      <td>124.8321</td>\n",
       "    </tr>\n",
       "    <tr>\n",
       "      <th>2021-06-13</th>\n",
       "      <td>130.48</td>\n",
       "      <td>96906490</td>\n",
       "      <td>127.82</td>\n",
       "      <td>130.54</td>\n",
       "      <td>127.07</td>\n",
       "    </tr>\n",
       "    <tr>\n",
       "      <th>2021-06-20</th>\n",
       "      <td>132.3</td>\n",
       "      <td>79663320</td>\n",
       "      <td>130.3</td>\n",
       "      <td>132.41</td>\n",
       "      <td>129.21</td>\n",
       "    </tr>\n",
       "    <tr>\n",
       "      <th>2021-06-27</th>\n",
       "      <td>134.78</td>\n",
       "      <td>62111300</td>\n",
       "      <td>133.41</td>\n",
       "      <td>135.245</td>\n",
       "      <td>133.35</td>\n",
       "    </tr>\n",
       "    <tr>\n",
       "      <th>2021-07-04</th>\n",
       "      <td>142.02</td>\n",
       "      <td>108181800</td>\n",
       "      <td>140.07</td>\n",
       "      <td>143.15</td>\n",
       "      <td>140.07</td>\n",
       "    </tr>\n",
       "    <tr>\n",
       "      <th>2021-07-11</th>\n",
       "      <td>144.5</td>\n",
       "      <td>76299720</td>\n",
       "      <td>146.21</td>\n",
       "      <td>146.32</td>\n",
       "      <td>144</td>\n",
       "    </tr>\n",
       "    <tr>\n",
       "      <th>2021-07-18</th>\n",
       "      <td>142.45</td>\n",
       "      <td>121434600</td>\n",
       "      <td>143.75</td>\n",
       "      <td>144.07</td>\n",
       "      <td>141.67</td>\n",
       "    </tr>\n",
       "    <tr>\n",
       "      <th>2021-07-25</th>\n",
       "      <td>148.99</td>\n",
       "      <td>72434090</td>\n",
       "      <td>148.27</td>\n",
       "      <td>149.83</td>\n",
       "      <td>147.7</td>\n",
       "    </tr>\n",
       "    <tr>\n",
       "      <th>2021-08-01</th>\n",
       "      <td>145.52</td>\n",
       "      <td>62879960</td>\n",
       "      <td>146.36</td>\n",
       "      <td>146.95</td>\n",
       "      <td>145.25</td>\n",
       "    </tr>\n",
       "    <tr>\n",
       "      <th>2021-08-08</th>\n",
       "      <td>146.09</td>\n",
       "      <td>48908690</td>\n",
       "      <td>146.2</td>\n",
       "      <td>146.7</td>\n",
       "      <td>145.52</td>\n",
       "    </tr>\n",
       "    <tr>\n",
       "      <th>2021-08-15</th>\n",
       "      <td>151.12</td>\n",
       "      <td>103558800</td>\n",
       "      <td>148.535</td>\n",
       "      <td>151.19</td>\n",
       "      <td>146.47</td>\n",
       "    </tr>\n",
       "    <tr>\n",
       "      <th>2021-08-22</th>\n",
       "      <td>149.71</td>\n",
       "      <td>60131810</td>\n",
       "      <td>148.31</td>\n",
       "      <td>150.19</td>\n",
       "      <td>147.89</td>\n",
       "    </tr>\n",
       "    <tr>\n",
       "      <th>2021-08-29</th>\n",
       "      <td>153.12</td>\n",
       "      <td>90956720</td>\n",
       "      <td>149</td>\n",
       "      <td>153.49</td>\n",
       "      <td>148.61</td>\n",
       "    </tr>\n",
       "    <tr>\n",
       "      <th>2021-09-05</th>\n",
       "      <td>156.69</td>\n",
       "      <td>82278260</td>\n",
       "      <td>154.97</td>\n",
       "      <td>157.26</td>\n",
       "      <td>154.39</td>\n",
       "    </tr>\n",
       "    <tr>\n",
       "      <th>2021-09-12</th>\n",
       "      <td>149.55</td>\n",
       "      <td>102404300</td>\n",
       "      <td>150.63</td>\n",
       "      <td>151.42</td>\n",
       "      <td>148.75</td>\n",
       "    </tr>\n",
       "    <tr>\n",
       "      <th>2021-09-19</th>\n",
       "      <td>142.94</td>\n",
       "      <td>123478900</td>\n",
       "      <td>143.8</td>\n",
       "      <td>144.84</td>\n",
       "      <td>141.27</td>\n",
       "    </tr>\n",
       "    <tr>\n",
       "      <th>2021-09-26</th>\n",
       "      <td>145.37</td>\n",
       "      <td>74150730</td>\n",
       "      <td>145.47</td>\n",
       "      <td>145.96</td>\n",
       "      <td>143.82</td>\n",
       "    </tr>\n",
       "    <tr>\n",
       "      <th>2021-10-03</th>\n",
       "      <td>139.14</td>\n",
       "      <td>98322010</td>\n",
       "      <td>141.76</td>\n",
       "      <td>142.21</td>\n",
       "      <td>138.27</td>\n",
       "    </tr>\n",
       "    <tr>\n",
       "      <th>2021-10-10</th>\n",
       "      <td>142.81</td>\n",
       "      <td>64452220</td>\n",
       "      <td>142.27</td>\n",
       "      <td>144.81</td>\n",
       "      <td>141.81</td>\n",
       "    </tr>\n",
       "    <tr>\n",
       "      <th>2021-10-17</th>\n",
       "      <td>146.55</td>\n",
       "      <td>85589180</td>\n",
       "      <td>143.445</td>\n",
       "      <td>146.84</td>\n",
       "      <td>143.16</td>\n",
       "    </tr>\n",
       "    <tr>\n",
       "      <th>2021-10-24</th>\n",
       "      <td>148.64</td>\n",
       "      <td>50720560</td>\n",
       "      <td>148.68</td>\n",
       "      <td>149.37</td>\n",
       "      <td>147.6211</td>\n",
       "    </tr>\n",
       "    <tr>\n",
       "      <th>2021-10-31</th>\n",
       "      <td>148.96</td>\n",
       "      <td>74588260</td>\n",
       "      <td>148.985</td>\n",
       "      <td>149.7</td>\n",
       "      <td>147.8</td>\n",
       "    </tr>\n",
       "    <tr>\n",
       "      <th>2021-11-07</th>\n",
       "      <td>150.44</td>\n",
       "      <td>55020870</td>\n",
       "      <td>151.41</td>\n",
       "      <td>151.57</td>\n",
       "      <td>150.16</td>\n",
       "    </tr>\n",
       "    <tr>\n",
       "      <th>2021-11-14</th>\n",
       "      <td>150</td>\n",
       "      <td>59222800</td>\n",
       "      <td>150.37</td>\n",
       "      <td>151.88</td>\n",
       "      <td>149.43</td>\n",
       "    </tr>\n",
       "    <tr>\n",
       "      <th>2021-11-21</th>\n",
       "      <td>161.02</td>\n",
       "      <td>117467900</td>\n",
       "      <td>161.68</td>\n",
       "      <td>165.7</td>\n",
       "      <td>161</td>\n",
       "    </tr>\n",
       "    <tr>\n",
       "      <th>2021-11-28</th>\n",
       "      <td>160.24</td>\n",
       "      <td>88748220</td>\n",
       "      <td>159.37</td>\n",
       "      <td>161.19</td>\n",
       "      <td>158.7901</td>\n",
       "    </tr>\n",
       "    <tr>\n",
       "      <th>2021-12-05</th>\n",
       "      <td>165.32</td>\n",
       "      <td>107497000</td>\n",
       "      <td>164.29</td>\n",
       "      <td>167.8799</td>\n",
       "      <td>164.28</td>\n",
       "    </tr>\n",
       "    <tr>\n",
       "      <th>2021-12-12</th>\n",
       "      <td>175.74</td>\n",
       "      <td>153237000</td>\n",
       "      <td>181.115</td>\n",
       "      <td>182.13</td>\n",
       "      <td>175.53</td>\n",
       "    </tr>\n",
       "    <tr>\n",
       "      <th>2021-12-19</th>\n",
       "      <td>169.75</td>\n",
       "      <td>107499100</td>\n",
       "      <td>168.28</td>\n",
       "      <td>170.58</td>\n",
       "      <td>167.46</td>\n",
       "    </tr>\n",
       "    <tr>\n",
       "      <th>2021-12-26</th>\n",
       "      <td>180.33</td>\n",
       "      <td>74919580</td>\n",
       "      <td>177.085</td>\n",
       "      <td>180.42</td>\n",
       "      <td>177.07</td>\n",
       "    </tr>\n",
       "    <tr>\n",
       "      <th>2022-01-02</th>\n",
       "      <td>182.01</td>\n",
       "      <td>104701200</td>\n",
       "      <td>177.83</td>\n",
       "      <td>182.88</td>\n",
       "      <td>177.71</td>\n",
       "    </tr>\n",
       "    <tr>\n",
       "      <th>2022-01-09</th>\n",
       "      <td>172.19</td>\n",
       "      <td>106765600</td>\n",
       "      <td>169.08</td>\n",
       "      <td>172.5</td>\n",
       "      <td>168.17</td>\n",
       "    </tr>\n",
       "    <tr>\n",
       "      <th>2022-01-16</th>\n",
       "      <td>169.8</td>\n",
       "      <td>91168730</td>\n",
       "      <td>171.51</td>\n",
       "      <td>172.54</td>\n",
       "      <td>169.405</td>\n",
       "    </tr>\n",
       "    <tr>\n",
       "      <th>2022-01-23</th>\n",
       "      <td>161.62</td>\n",
       "      <td>162706700</td>\n",
       "      <td>160.02</td>\n",
       "      <td>162.3</td>\n",
       "      <td>154.7</td>\n",
       "    </tr>\n",
       "    <tr>\n",
       "      <th>2022-01-30</th>\n",
       "      <td>174.78</td>\n",
       "      <td>115541600</td>\n",
       "      <td>170.16</td>\n",
       "      <td>175</td>\n",
       "      <td>169.51</td>\n",
       "    </tr>\n",
       "    <tr>\n",
       "      <th>2022-02-06</th>\n",
       "      <td>171.66</td>\n",
       "      <td>77251200</td>\n",
       "      <td>172.86</td>\n",
       "      <td>173.9458</td>\n",
       "      <td>170.95</td>\n",
       "    </tr>\n",
       "    <tr>\n",
       "      <th>2022-02-13</th>\n",
       "      <td>168.88</td>\n",
       "      <td>86185530</td>\n",
       "      <td>167.37</td>\n",
       "      <td>169.58</td>\n",
       "      <td>166.56</td>\n",
       "    </tr>\n",
       "    <tr>\n",
       "      <th>2022-02-20</th>\n",
       "      <td>164.32</td>\n",
       "      <td>91162760</td>\n",
       "      <td>164.98</td>\n",
       "      <td>166.69</td>\n",
       "      <td>162.15</td>\n",
       "    </tr>\n",
       "    <tr>\n",
       "      <th>2022-02-27</th>\n",
       "      <td>165.12</td>\n",
       "      <td>95056630</td>\n",
       "      <td>163.06</td>\n",
       "      <td>165.42</td>\n",
       "      <td>162.43</td>\n",
       "    </tr>\n",
       "    <tr>\n",
       "      <th>2022-03-06</th>\n",
       "      <td>159.3</td>\n",
       "      <td>96418850</td>\n",
       "      <td>163.36</td>\n",
       "      <td>165.02</td>\n",
       "      <td>159.04</td>\n",
       "    </tr>\n",
       "    <tr>\n",
       "      <th>2022-03-13</th>\n",
       "      <td>150.62</td>\n",
       "      <td>108732100</td>\n",
       "      <td>151.45</td>\n",
       "      <td>154.12</td>\n",
       "      <td>150.1</td>\n",
       "    </tr>\n",
       "    <tr>\n",
       "      <th>2022-03-20</th>\n",
       "      <td>165.38</td>\n",
       "      <td>95811350</td>\n",
       "      <td>163.51</td>\n",
       "      <td>166.35</td>\n",
       "      <td>163.015</td>\n",
       "    </tr>\n",
       "    <tr>\n",
       "      <th>2022-03-27</th>\n",
       "      <td>175.6</td>\n",
       "      <td>90371920</td>\n",
       "      <td>172.17</td>\n",
       "      <td>175.73</td>\n",
       "      <td>172</td>\n",
       "    </tr>\n",
       "    <tr>\n",
       "      <th>2022-04-03</th>\n",
       "      <td>178.44</td>\n",
       "      <td>76545980</td>\n",
       "      <td>174.57</td>\n",
       "      <td>178.49</td>\n",
       "      <td>174.44</td>\n",
       "    </tr>\n",
       "    <tr>\n",
       "      <th>2022-04-10</th>\n",
       "      <td>165.75</td>\n",
       "      <td>72246710</td>\n",
       "      <td>168.71</td>\n",
       "      <td>169.03</td>\n",
       "      <td>165.5</td>\n",
       "    </tr>\n",
       "    <tr>\n",
       "      <th>2022-04-17</th>\n",
       "      <td>165.07</td>\n",
       "      <td>69023940</td>\n",
       "      <td>163.92</td>\n",
       "      <td>166.5984</td>\n",
       "      <td>163.57</td>\n",
       "    </tr>\n",
       "    <tr>\n",
       "      <th>2022-04-24</th>\n",
       "      <td>162.88</td>\n",
       "      <td>96046380</td>\n",
       "      <td>161.12</td>\n",
       "      <td>163.17</td>\n",
       "      <td>158.46</td>\n",
       "    </tr>\n",
       "    <tr>\n",
       "      <th>2022-05-01</th>\n",
       "      <td>157.96</td>\n",
       "      <td>123055300</td>\n",
       "      <td>156.71</td>\n",
       "      <td>158.23</td>\n",
       "      <td>153.27</td>\n",
       "    </tr>\n",
       "    <tr>\n",
       "      <th>2022-05-08</th>\n",
       "      <td>152.06</td>\n",
       "      <td>131577900</td>\n",
       "      <td>154.925</td>\n",
       "      <td>155.83</td>\n",
       "      <td>151.49</td>\n",
       "    </tr>\n",
       "    <tr>\n",
       "      <th>2022-05-15</th>\n",
       "      <td>145.54</td>\n",
       "      <td>86643780</td>\n",
       "      <td>145.55</td>\n",
       "      <td>147.5199</td>\n",
       "      <td>144.18</td>\n",
       "    </tr>\n",
       "    <tr>\n",
       "      <th>2022-05-22</th>\n",
       "      <td>143.11</td>\n",
       "      <td>117726300</td>\n",
       "      <td>137.79</td>\n",
       "      <td>143.26</td>\n",
       "      <td>137.65</td>\n",
       "    </tr>\n",
       "  </tbody>\n",
       "</table>\n",
       "</div>"
      ],
      "text/plain": [
       "           Close/Last     Volume      Open       High        Low\n",
       "Date                                                            \n",
       "2021-05-30     124.28   67637120    125.08     125.35     123.94\n",
       "2021-06-06      125.9   71057550    126.17     126.32   124.8321\n",
       "2021-06-13     130.48   96906490    127.82     130.54     127.07\n",
       "2021-06-20      132.3   79663320     130.3     132.41     129.21\n",
       "2021-06-27     134.78   62111300    133.41    135.245     133.35\n",
       "2021-07-04     142.02  108181800    140.07     143.15     140.07\n",
       "2021-07-11      144.5   76299720    146.21     146.32        144\n",
       "2021-07-18     142.45  121434600    143.75     144.07     141.67\n",
       "2021-07-25     148.99   72434090    148.27     149.83      147.7\n",
       "2021-08-01     145.52   62879960    146.36     146.95     145.25\n",
       "2021-08-08     146.09   48908690     146.2      146.7     145.52\n",
       "2021-08-15     151.12  103558800   148.535     151.19     146.47\n",
       "2021-08-22     149.71   60131810    148.31     150.19     147.89\n",
       "2021-08-29     153.12   90956720       149     153.49     148.61\n",
       "2021-09-05     156.69   82278260    154.97     157.26     154.39\n",
       "2021-09-12     149.55  102404300    150.63     151.42     148.75\n",
       "2021-09-19     142.94  123478900     143.8     144.84     141.27\n",
       "2021-09-26     145.37   74150730    145.47     145.96     143.82\n",
       "2021-10-03     139.14   98322010    141.76     142.21     138.27\n",
       "2021-10-10     142.81   64452220    142.27     144.81     141.81\n",
       "2021-10-17     146.55   85589180   143.445     146.84     143.16\n",
       "2021-10-24     148.64   50720560    148.68     149.37   147.6211\n",
       "2021-10-31     148.96   74588260   148.985      149.7      147.8\n",
       "2021-11-07     150.44   55020870    151.41     151.57     150.16\n",
       "2021-11-14        150   59222800    150.37     151.88     149.43\n",
       "2021-11-21     161.02  117467900    161.68      165.7        161\n",
       "2021-11-28     160.24   88748220    159.37     161.19   158.7901\n",
       "2021-12-05     165.32  107497000    164.29   167.8799     164.28\n",
       "2021-12-12     175.74  153237000   181.115     182.13     175.53\n",
       "2021-12-19     169.75  107499100    168.28     170.58     167.46\n",
       "2021-12-26     180.33   74919580   177.085     180.42     177.07\n",
       "2022-01-02     182.01  104701200    177.83     182.88     177.71\n",
       "2022-01-09     172.19  106765600    169.08      172.5     168.17\n",
       "2022-01-16      169.8   91168730    171.51     172.54    169.405\n",
       "2022-01-23     161.62  162706700    160.02      162.3      154.7\n",
       "2022-01-30     174.78  115541600    170.16        175     169.51\n",
       "2022-02-06     171.66   77251200    172.86   173.9458     170.95\n",
       "2022-02-13     168.88   86185530    167.37     169.58     166.56\n",
       "2022-02-20     164.32   91162760    164.98     166.69     162.15\n",
       "2022-02-27     165.12   95056630    163.06     165.42     162.43\n",
       "2022-03-06      159.3   96418850    163.36     165.02     159.04\n",
       "2022-03-13     150.62  108732100    151.45     154.12      150.1\n",
       "2022-03-20     165.38   95811350    163.51     166.35    163.015\n",
       "2022-03-27      175.6   90371920    172.17     175.73        172\n",
       "2022-04-03     178.44   76545980    174.57     178.49     174.44\n",
       "2022-04-10     165.75   72246710    168.71     169.03      165.5\n",
       "2022-04-17     165.07   69023940    163.92   166.5984     163.57\n",
       "2022-04-24     162.88   96046380    161.12     163.17     158.46\n",
       "2022-05-01     157.96  123055300    156.71     158.23     153.27\n",
       "2022-05-08     152.06  131577900   154.925     155.83     151.49\n",
       "2022-05-15     145.54   86643780    145.55   147.5199     144.18\n",
       "2022-05-22     143.11  117726300    137.79     143.26     137.65"
      ]
     },
     "execution_count": 70,
     "metadata": {},
     "output_type": "execute_result"
    }
   ],
   "source": [
    "data.asfreq('W',method='pad')"
   ]
  },
  {
   "cell_type": "code",
   "execution_count": 71,
   "id": "2b1bc739",
   "metadata": {
    "ExecuteTime": {
     "end_time": "2022-05-25T07:05:13.505041Z",
     "start_time": "2022-05-25T07:05:13.495616Z"
    }
   },
   "outputs": [
    {
     "data": {
      "text/plain": [
       "array([6, 2, 8, 1, 1, 3, 7, 5, 9, 2, 1, 6])"
      ]
     },
     "execution_count": 71,
     "metadata": {},
     "output_type": "execute_result"
    }
   ],
   "source": [
    "np.random.randint(1,10,len(rang))#for generating random numbers"
   ]
  },
  {
   "cell_type": "code",
   "execution_count": 17,
   "id": "b38504d1",
   "metadata": {
    "ExecuteTime": {
     "end_time": "2022-05-25T06:40:10.795547Z",
     "start_time": "2022-05-25T06:40:10.779866Z"
    }
   },
   "outputs": [
    {
     "data": {
      "text/plain": [
       "2016-05-23    5\n",
       "2016-05-24    7\n",
       "2016-05-25    4\n",
       "2016-05-26    9\n",
       "2016-05-27    1\n",
       "2016-05-30    1\n",
       "2016-05-31    5\n",
       "2016-06-01    4\n",
       "2016-06-02    7\n",
       "2016-06-03    2\n",
       "2016-06-06    6\n",
       "2016-06-07    4\n",
       "Freq: B, dtype: int32"
      ]
     },
     "execution_count": 17,
     "metadata": {},
     "output_type": "execute_result"
    }
   ],
   "source": [
    "ts=pd.Series(np.random.randint(1,10,len(rang)),index=rang)\n",
    "ts"
   ]
  },
  {
   "cell_type": "code",
   "execution_count": 3,
   "id": "6e2d0047",
   "metadata": {
    "ExecuteTime": {
     "end_time": "2022-05-25T09:16:26.142138Z",
     "start_time": "2022-05-25T09:16:26.134493Z"
    }
   },
   "outputs": [
    {
     "data": {
      "text/plain": [
       "Period('2022', 'A-DEC')"
      ]
     },
     "execution_count": 3,
     "metadata": {},
     "output_type": "execute_result"
    }
   ],
   "source": [
    "#period and period index \n",
    "y=pd.Period('2022')  #year\n",
    "y"
   ]
  },
  {
   "cell_type": "code",
   "execution_count": 5,
   "id": "a724c0ee",
   "metadata": {
    "ExecuteTime": {
     "end_time": "2022-05-25T09:16:45.016111Z",
     "start_time": "2022-05-25T09:16:45.009544Z"
    }
   },
   "outputs": [
    {
     "data": {
      "text/plain": [
       "Timestamp('2022-01-01 00:00:00')"
      ]
     },
     "execution_count": 5,
     "metadata": {},
     "output_type": "execute_result"
    }
   ],
   "source": [
    "y.start_time"
   ]
  },
  {
   "cell_type": "code",
   "execution_count": 7,
   "id": "b228e56d",
   "metadata": {
    "ExecuteTime": {
     "end_time": "2022-05-25T09:16:58.619556Z",
     "start_time": "2022-05-25T09:16:58.610411Z"
    }
   },
   "outputs": [
    {
     "data": {
      "text/plain": [
       "Timestamp('2022-12-31 23:59:59.999999999')"
      ]
     },
     "execution_count": 7,
     "metadata": {},
     "output_type": "execute_result"
    }
   ],
   "source": [
    "y.end_time"
   ]
  },
  {
   "cell_type": "code",
   "execution_count": 10,
   "id": "6f9c7158",
   "metadata": {
    "ExecuteTime": {
     "end_time": "2022-05-25T09:18:04.319775Z",
     "start_time": "2022-05-25T09:18:04.310969Z"
    }
   },
   "outputs": [
    {
     "data": {
      "text/plain": [
       "Period('2022-01', 'M')"
      ]
     },
     "execution_count": 10,
     "metadata": {},
     "output_type": "execute_result"
    }
   ],
   "source": [
    "m=pd.Period('2022',freq='M')  #month\n",
    "m"
   ]
  },
  {
   "cell_type": "code",
   "execution_count": 12,
   "id": "267f3c76",
   "metadata": {
    "ExecuteTime": {
     "end_time": "2022-05-25T09:18:19.621560Z",
     "start_time": "2022-05-25T09:18:19.613550Z"
    }
   },
   "outputs": [
    {
     "data": {
      "text/plain": [
       "Timestamp('2022-01-01 00:00:00')"
      ]
     },
     "execution_count": 12,
     "metadata": {},
     "output_type": "execute_result"
    }
   ],
   "source": [
    "m.start_time"
   ]
  },
  {
   "cell_type": "code",
   "execution_count": 14,
   "id": "889155d8",
   "metadata": {
    "ExecuteTime": {
     "end_time": "2022-05-25T09:18:31.096317Z",
     "start_time": "2022-05-25T09:18:31.080630Z"
    }
   },
   "outputs": [
    {
     "data": {
      "text/plain": [
       "Timestamp('2022-01-31 23:59:59.999999999')"
      ]
     },
     "execution_count": 14,
     "metadata": {},
     "output_type": "execute_result"
    }
   ],
   "source": [
    "m.end_time"
   ]
  },
  {
   "cell_type": "code",
   "execution_count": 16,
   "id": "98fb94e9",
   "metadata": {
    "ExecuteTime": {
     "end_time": "2022-05-25T09:19:11.462404Z",
     "start_time": "2022-05-25T09:19:11.446585Z"
    }
   },
   "outputs": [
    {
     "data": {
      "text/plain": [
       "Period('2022-02', 'M')"
      ]
     },
     "execution_count": 16,
     "metadata": {},
     "output_type": "execute_result"
    }
   ],
   "source": [
    "m+1     #adding month"
   ]
  },
  {
   "cell_type": "code",
   "execution_count": 18,
   "id": "59a19f4b",
   "metadata": {
    "ExecuteTime": {
     "end_time": "2022-05-25T09:21:09.197319Z",
     "start_time": "2022-05-25T09:21:09.181306Z"
    }
   },
   "outputs": [
    {
     "data": {
      "text/plain": [
       "Period('2022-01-03 23:00', 'H')"
      ]
     },
     "execution_count": 18,
     "metadata": {},
     "output_type": "execute_result"
    }
   ],
   "source": [
    "h=pd.Period('2022-01-03 23:23:31',freq='H')\n",
    "h"
   ]
  },
  {
   "cell_type": "code",
   "execution_count": 20,
   "id": "726e93ed",
   "metadata": {
    "ExecuteTime": {
     "end_time": "2022-05-25T09:21:27.047906Z",
     "start_time": "2022-05-25T09:21:27.040263Z"
    }
   },
   "outputs": [
    {
     "data": {
      "text/plain": [
       "Timestamp('2022-01-03 23:00:00')"
      ]
     },
     "execution_count": 20,
     "metadata": {},
     "output_type": "execute_result"
    }
   ],
   "source": [
    "h.start_time"
   ]
  },
  {
   "cell_type": "code",
   "execution_count": 22,
   "id": "c9358a79",
   "metadata": {
    "ExecuteTime": {
     "end_time": "2022-05-25T09:21:41.563905Z",
     "start_time": "2022-05-25T09:21:41.555161Z"
    }
   },
   "outputs": [
    {
     "data": {
      "text/plain": [
       "Timestamp('2022-01-03 23:59:59.999999999')"
      ]
     },
     "execution_count": 22,
     "metadata": {},
     "output_type": "execute_result"
    }
   ],
   "source": [
    "h.end_time"
   ]
  },
  {
   "cell_type": "code",
   "execution_count": 24,
   "id": "dbc2035f",
   "metadata": {
    "ExecuteTime": {
     "end_time": "2022-05-25T09:21:48.658715Z",
     "start_time": "2022-05-25T09:21:48.651586Z"
    }
   },
   "outputs": [
    {
     "data": {
      "text/plain": [
       "Period('2022-01-03 17:00', 'H')"
      ]
     },
     "execution_count": 24,
     "metadata": {},
     "output_type": "execute_result"
    }
   ],
   "source": [
    "h-6  #or  h+pd.offsets.Hour(-6)"
   ]
  },
  {
   "cell_type": "code",
   "execution_count": 27,
   "id": "c24504b3",
   "metadata": {
    "ExecuteTime": {
     "end_time": "2022-05-25T09:26:36.418686Z",
     "start_time": "2022-05-25T09:26:36.409730Z"
    }
   },
   "outputs": [
    {
     "data": {
      "text/plain": [
       "Period('2022-01-03 17:00', 'H')"
      ]
     },
     "execution_count": 27,
     "metadata": {},
     "output_type": "execute_result"
    }
   ],
   "source": [
    "h+pd.offsets.Hour(-6)"
   ]
  },
  {
   "cell_type": "code",
   "execution_count": 30,
   "id": "045c2e1f",
   "metadata": {
    "ExecuteTime": {
     "end_time": "2022-05-25T09:28:05.356815Z",
     "start_time": "2022-05-25T09:28:05.348811Z"
    }
   },
   "outputs": [
    {
     "data": {
      "text/plain": [
       "Period('2014Q1', 'Q-DEC')"
      ]
     },
     "execution_count": 30,
     "metadata": {},
     "output_type": "execute_result"
    }
   ],
   "source": [
    "#quarters\n",
    "q=pd.Period('2014Q1')\n",
    "q"
   ]
  },
  {
   "cell_type": "code",
   "execution_count": 35,
   "id": "291bca49",
   "metadata": {
    "ExecuteTime": {
     "end_time": "2022-05-25T09:29:48.638592Z",
     "start_time": "2022-05-25T09:29:48.622590Z"
    }
   },
   "outputs": [
    {
     "data": {
      "text/plain": [
       "Timestamp('2014-01-01 00:00:00')"
      ]
     },
     "execution_count": 35,
     "metadata": {},
     "output_type": "execute_result"
    }
   ],
   "source": [
    "q.start_time"
   ]
  },
  {
   "cell_type": "code",
   "execution_count": 36,
   "id": "8b86ccd2",
   "metadata": {
    "ExecuteTime": {
     "end_time": "2022-05-25T09:30:03.452216Z",
     "start_time": "2022-05-25T09:30:03.444540Z"
    }
   },
   "outputs": [
    {
     "data": {
      "text/plain": [
       "Timestamp('2014-03-31 23:59:59.999999999')"
      ]
     },
     "execution_count": 36,
     "metadata": {},
     "output_type": "execute_result"
    }
   ],
   "source": [
    "q.end_time"
   ]
  },
  {
   "cell_type": "code",
   "execution_count": 51,
   "id": "5135a406",
   "metadata": {
    "ExecuteTime": {
     "end_time": "2022-05-25T09:35:52.966020Z",
     "start_time": "2022-05-25T09:35:52.950004Z"
    }
   },
   "outputs": [
    {
     "ename": "AttributeError",
     "evalue": "module 'pandas' has no attribute 'period'",
     "output_type": "error",
     "traceback": [
      "\u001b[1;31m---------------------------------------------------------------------------\u001b[0m",
      "\u001b[1;31mAttributeError\u001b[0m                            Traceback (most recent call last)",
      "\u001b[1;32mC:\\Users\\LOKESH~1\\AppData\\Local\\Temp/ipykernel_14584/4162252814.py\u001b[0m in \u001b[0;36m<module>\u001b[1;34m\u001b[0m\n\u001b[1;32m----> 1\u001b[1;33m \u001b[0mq1\u001b[0m\u001b[1;33m=\u001b[0m\u001b[0mpd\u001b[0m\u001b[1;33m.\u001b[0m\u001b[0mperiod\u001b[0m\u001b[1;33m(\u001b[0m\u001b[1;34m'2015Q1'\u001b[0m\u001b[1;33m,\u001b[0m\u001b[0mfreq\u001b[0m\u001b[1;33m=\u001b[0m\u001b[1;34m'Q-JAN'\u001b[0m\u001b[1;33m)\u001b[0m \u001b[1;31m#freq='Q-JAN'--->q1 ended on jan\u001b[0m\u001b[1;33m\u001b[0m\u001b[1;33m\u001b[0m\u001b[0m\n\u001b[0m\u001b[0;32m      2\u001b[0m \u001b[0mq1\u001b[0m\u001b[1;33m\u001b[0m\u001b[1;33m\u001b[0m\u001b[0m\n",
      "\u001b[1;32m~\\anaconda3\\lib\\site-packages\\pandas\\__init__.py\u001b[0m in \u001b[0;36m__getattr__\u001b[1;34m(name)\u001b[0m\n\u001b[0;32m    242\u001b[0m         \u001b[1;32mreturn\u001b[0m \u001b[0m_SparseArray\u001b[0m\u001b[1;33m\u001b[0m\u001b[1;33m\u001b[0m\u001b[0m\n\u001b[0;32m    243\u001b[0m \u001b[1;33m\u001b[0m\u001b[0m\n\u001b[1;32m--> 244\u001b[1;33m     \u001b[1;32mraise\u001b[0m \u001b[0mAttributeError\u001b[0m\u001b[1;33m(\u001b[0m\u001b[1;34mf\"module 'pandas' has no attribute '{name}'\"\u001b[0m\u001b[1;33m)\u001b[0m\u001b[1;33m\u001b[0m\u001b[1;33m\u001b[0m\u001b[0m\n\u001b[0m\u001b[0;32m    245\u001b[0m \u001b[1;33m\u001b[0m\u001b[0m\n\u001b[0;32m    246\u001b[0m \u001b[1;33m\u001b[0m\u001b[0m\n",
      "\u001b[1;31mAttributeError\u001b[0m: module 'pandas' has no attribute 'period'"
     ]
    }
   ],
   "source": [
    "q1=pd.Period('2015Q1',freq='Q-JAN') #freq='Q-JAN'--->q1 ended on jan\n",
    "q1"
   ]
  },
  {
   "cell_type": "code",
   "execution_count": 46,
   "id": "6b71dfea",
   "metadata": {
    "ExecuteTime": {
     "end_time": "2022-05-25T09:33:18.523248Z",
     "start_time": "2022-05-25T09:33:18.511394Z"
    }
   },
   "outputs": [
    {
     "data": {
      "text/plain": [
       "Timestamp('2014-02-01 00:00:00')"
      ]
     },
     "execution_count": 46,
     "metadata": {},
     "output_type": "execute_result"
    }
   ],
   "source": [
    "q1.start_time"
   ]
  },
  {
   "cell_type": "code",
   "execution_count": 47,
   "id": "13e9b05b",
   "metadata": {
    "ExecuteTime": {
     "end_time": "2022-05-25T09:33:20.731281Z",
     "start_time": "2022-05-25T09:33:20.722473Z"
    }
   },
   "outputs": [
    {
     "data": {
      "text/plain": [
       "Timestamp('2014-04-30 23:59:59.999999999')"
      ]
     },
     "execution_count": 47,
     "metadata": {},
     "output_type": "execute_result"
    }
   ],
   "source": [
    "q1.end_time"
   ]
  },
  {
   "cell_type": "code",
   "execution_count": 49,
   "id": "c6c3c7af",
   "metadata": {
    "ExecuteTime": {
     "end_time": "2022-05-25T09:34:22.643470Z",
     "start_time": "2022-05-25T09:34:22.635814Z"
    }
   },
   "outputs": [
    {
     "data": {
      "text/plain": [
       "<4 * QuarterEnds: startingMonth=1>"
      ]
     },
     "execution_count": 49,
     "metadata": {},
     "output_type": "execute_result"
    }
   ],
   "source": [
    "q1-q"
   ]
  },
  {
   "cell_type": "code",
   "execution_count": 54,
   "id": "6b3370af",
   "metadata": {
    "ExecuteTime": {
     "end_time": "2022-05-25T09:36:37.702511Z",
     "start_time": "2022-05-25T09:36:37.686619Z"
    }
   },
   "outputs": [
    {
     "data": {
      "text/plain": [
       "PeriodIndex(['2015Q4', '2016Q1', '2016Q2', '2016Q3', '2016Q4', '2017Q1',\n",
       "             '2017Q2', '2017Q3', '2017Q4', '2018Q1', '2018Q2', '2018Q3',\n",
       "             '2018Q4', '2019Q1', '2019Q2', '2019Q3', '2019Q4', '2020Q1',\n",
       "             '2020Q2', '2020Q3', '2020Q4', '2021Q1', '2021Q2', '2021Q3',\n",
       "             '2021Q4', '2022Q1', '2022Q2', '2022Q3', '2022Q4'],\n",
       "            dtype='period[Q-JAN]')"
      ]
     },
     "execution_count": 54,
     "metadata": {},
     "output_type": "execute_result"
    }
   ],
   "source": [
    "ind=pd.period_range('2015','2022',freq='Q-JAN')\n",
    "ind"
   ]
  }
 ],
 "metadata": {
  "kernelspec": {
   "display_name": "Python 3 (ipykernel)",
   "language": "python",
   "name": "python3"
  },
  "language_info": {
   "codemirror_mode": {
    "name": "ipython",
    "version": 3
   },
   "file_extension": ".py",
   "mimetype": "text/x-python",
   "name": "python",
   "nbconvert_exporter": "python",
   "pygments_lexer": "ipython3",
   "version": "3.9.7"
  }
 },
 "nbformat": 4,
 "nbformat_minor": 5
}
