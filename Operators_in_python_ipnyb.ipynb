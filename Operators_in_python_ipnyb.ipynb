{
 "cells": [
  {
   "cell_type": "code",
   "execution_count": null,
   "metadata": {
    "colab": {
     "base_uri": "https://localhost:8080/"
    },
    "id": "TjF2QC4rSk8H",
    "outputId": "c701e838-70d4-4793-a551-33ab70df6caa"
   },
   "outputs": [
    {
     "name": "stdout",
     "output_type": "stream",
     "text": [
      "addition: 12\n",
      "subtraction: 8\n",
      "divition: 5.0\n",
      "multiplication: 20\n",
      "float divition: 5\n",
      "exponential or a power b: 100\n"
     ]
    }
   ],
   "source": [
    "#1Arithmetic operator\n",
    "a=10\n",
    "b=2\n",
    "print(\"addition:\",a+b)\n",
    "print(\"subtraction:\",a-b)\n",
    "print(\"divition:\",a/b)\n",
    "print(\"multiplication:\",a*b)\n",
    "print(\"float divition:\",a//b) # otput will be integer iff inputs are integers otherwise float if atleast any one of the inputs are float . \n",
    "print(\"exponential or a power b:\",a**b)"
   ]
  },
  {
   "cell_type": "code",
   "execution_count": null,
   "metadata": {
    "colab": {
     "base_uri": "https://localhost:8080/"
    },
    "id": "mULx4w8MUjQx",
    "outputId": "916eaac1-1889-4323-b7d5-94c3226eb859"
   },
   "outputs": [
    {
     "name": "stdout",
     "output_type": "stream",
     "text": [
      "lokeshap\n",
      "lokeshalokeshalokesha\n",
      "(-3.51252167218489e+37-2.668132181662945e+38j)\n",
      "(300+900j)\n"
     ]
    }
   ],
   "source": [
    "a='lokesha'\n",
    "b='p'\n",
    "print(a+b)\n",
    "print(a*3)  #note 3*a not allowed\n",
    "print((20+20j)**(30+15j))\n",
    "print((20+20j)*(30+15j))"
   ]
  },
  {
   "cell_type": "code",
   "execution_count": null,
   "metadata": {
    "colab": {
     "base_uri": "https://localhost:8080/"
    },
    "id": "xa3tOaXhXFsk",
    "outputId": "7270a51a-b8b7-45a0-d84d-93800b0a9d39"
   },
   "outputs": [
    {
     "name": "stdout",
     "output_type": "stream",
     "text": [
      "a>b: False\n",
      "a>=b: False\n",
      "a<b: True\n",
      "a<=b: True\n"
     ]
    }
   ],
   "source": [
    "#2 Relational operator #output will be boolean type\n",
    "a=2\n",
    "b=4\n",
    "print(\"a>b:\",a>b)\n",
    "print(\"a>=b:\",a>=b)\n",
    "print(\"a<b:\",a<b)\n",
    "print(\"a<=b:\",a<=b)\n"
   ]
  },
  {
   "cell_type": "code",
   "execution_count": null,
   "metadata": {
    "colab": {
     "base_uri": "https://localhost:8080/"
    },
    "id": "04KxH8BhY3GO",
    "outputId": "444880de-b764-4ca4-f129-c40d06e1723b"
   },
   "outputs": [
    {
     "data": {
      "text/plain": [
       "True"
      ]
     },
     "execution_count": 16,
     "metadata": {},
     "output_type": "execute_result"
    }
   ],
   "source": [
    "a=10\n",
    "b=20\n",
    "a<b"
   ]
  },
  {
   "cell_type": "code",
   "execution_count": null,
   "metadata": {
    "colab": {
     "base_uri": "https://localhost:8080/"
    },
    "id": "xULV3WphZ398",
    "outputId": "dab911f4-9c0b-4151-9f1b-e5479fe4c0ad"
   },
   "outputs": [
    {
     "data": {
      "text/plain": [
       "True"
      ]
     },
     "execution_count": 20,
     "metadata": {},
     "output_type": "execute_result"
    }
   ],
   "source": [
    "a=True   #here true takes the value 0 and 1 for false\n",
    "b=False\n",
    "a>b"
   ]
  },
  {
   "cell_type": "code",
   "execution_count": null,
   "metadata": {
    "colab": {
     "base_uri": "https://localhost:8080/"
    },
    "id": "khND8JjAafZ1",
    "outputId": "7c1ff1ed-454f-4519-895f-4bfda3580a3d"
   },
   "outputs": [
    {
     "name": "stdout",
     "output_type": "stream",
     "text": [
      "x is not greater than y\n"
     ]
    }
   ],
   "source": [
    "x=15\n",
    "y=20\n",
    "if (x>y):\n",
    " print(\"x is greater than y\") #this line must not be  idented otherwise the sentence not under the condition statement  (spacing is important)\n",
    "else:\n",
    " print(\"x is not greater than y\")"
   ]
  },
  {
   "cell_type": "code",
   "execution_count": null,
   "metadata": {
    "colab": {
     "base_uri": "https://localhost:8080/"
    },
    "id": "dwRxTq_NdftN",
    "outputId": "36a69ca7-d745-4cfe-d4a6-2449636af0a8"
   },
   "outputs": [
    {
     "data": {
      "text/plain": [
       "False"
      ]
     },
     "execution_count": 37,
     "metadata": {},
     "output_type": "execute_result"
    }
   ],
   "source": [
    "10<20>10<10 #chain relation"
   ]
  },
  {
   "cell_type": "code",
   "execution_count": null,
   "metadata": {
    "colab": {
     "base_uri": "https://localhost:8080/"
    },
    "id": "TyCdW9oYeMFh",
    "outputId": "26f8ca11-833c-42a1-bd8c-da3a2c71bdd2"
   },
   "outputs": [
    {
     "name": "stdout",
     "output_type": "stream",
     "text": [
      "a is equal to b: False\n",
      "a is not equal to b: True\n"
     ]
    }
   ],
   "source": [
    "#3 Eqality operator\n",
    "a=1\n",
    "b=2\n",
    "print(\"a is equal to b:\",a==b)\n",
    "print(\"a is not equal to b:\",a!=b)\n"
   ]
  },
  {
   "cell_type": "code",
   "execution_count": null,
   "metadata": {
    "colab": {
     "base_uri": "https://localhost:8080/"
    },
    "id": "wQLt95eXfEHV",
    "outputId": "0bbd6857-eb03-42b6-fafb-9843425450bb"
   },
   "outputs": [
    {
     "name": "stdout",
     "output_type": "stream",
     "text": [
      "a not equal to b\n"
     ]
    }
   ],
   "source": [
    "a=15\n",
    "b=20\n",
    "if a==b:print(\"a=b\")\n",
    "else:print(\"a not equal to b\")"
   ]
  },
  {
   "cell_type": "code",
   "execution_count": null,
   "metadata": {
    "colab": {
     "base_uri": "https://localhost:8080/"
    },
    "id": "Djbh-NKQfcct",
    "outputId": "13ba5153-fb6f-4c4f-a9eb-28431b9351a5"
   },
   "outputs": [
    {
     "name": "stdout",
     "output_type": "stream",
     "text": [
      "True\n",
      "False\n",
      "False\n",
      "False\n",
      "True\n",
      "True\n",
      "True\n",
      "False\n",
      "False\n",
      "True\n"
     ]
    }
   ],
   "source": [
    "#4 Logical operators  and,or,and not\n",
    "# and logic--> if 'x' evaluates to false ,result will be 'x' otherwise 'y'\n",
    "# or logic--> if 'x' evaluates to true ,result will be 'x' otherwise 'y'\n",
    "# not logic--> if 'x' evaluates to true ,result will be false otherwise true\n",
    "# zero and emty string represents false ,non zero represents true\n",
    "\n",
    "#on boolean type\n",
    "print(True and True)\n",
    "print(True and False)\n",
    "print(False and True)\n",
    "print(False and False)\n",
    "print(True or True)\n",
    "print(True or False)\n",
    "print(False or True)\n",
    "print(False or False)\n",
    "print(not True)\n",
    "print(not False)"
   ]
  },
  {
   "cell_type": "code",
   "execution_count": null,
   "metadata": {
    "colab": {
     "base_uri": "https://localhost:8080/"
    },
    "id": "wrpKa6-Miys2",
    "outputId": "1c9c581a-a2a9-4be6-d275-5971f418a3b5"
   },
   "outputs": [
    {
     "name": "stdout",
     "output_type": "stream",
     "text": [
      "20\n",
      "0\n",
      "\n",
      "10\n",
      "20\n",
      "50\n",
      "False\n",
      "True\n",
      "True\n"
     ]
    }
   ],
   "source": [
    "#non b0olean types\n",
    "print(10 and 20)\n",
    "print(0 and 20)\n",
    "print('' and 50)\n",
    "print(10 or 20)\n",
    "print(0 or 20)\n",
    "print('' or 50)\n",
    "print(not 10)\n",
    "print(not 0)\n",
    "print(not '')"
   ]
  },
  {
   "cell_type": "code",
   "execution_count": null,
   "metadata": {
    "colab": {
     "base_uri": "https://localhost:8080/"
    },
    "id": "UfNILEdemhUq",
    "outputId": "0dead50f-59a9-4443-a2a4-e4a5336e91ee"
   },
   "outputs": [
    {
     "name": "stdout",
     "output_type": "stream",
     "text": [
      "4\n",
      "5\n",
      "1\n",
      "-5\n",
      "-6\n"
     ]
    }
   ],
   "source": [
    "#5 Bitwise operator \n",
    "#'&' bitwise operator ,if both the bits are same then 1 otherwise 0\n",
    "#'|' bitwise operator ,if atleat one bit is 1 then 1 otherwise 0\n",
    "#'^' bitwise operator ,if both the bits are different then 1 otherwise 0\n",
    "#'~' bitwise operator ,1 is replaced by 0 and 0 is replaced by 1\n",
    "print(4&5)\n",
    "print(4|5)\n",
    "print(4^5)\n",
    "print(~4)\n",
    "print(~5)\n"
   ]
  },
  {
   "cell_type": "code",
   "execution_count": null,
   "metadata": {
    "colab": {
     "base_uri": "https://localhost:8080/"
    },
    "id": "cDyXxBfxsjDw",
    "outputId": "fbd06dca-3c10-4b42-8241-bd8a5ba429fc"
   },
   "outputs": [
    {
     "name": "stdout",
     "output_type": "stream",
     "text": [
      "40\n",
      "2\n"
     ]
    }
   ],
   "source": [
    "#7 Shift operator \n",
    "#<< left shit operator\n",
    "a=10\n",
    "b=2\n",
    "print(a<<b) #right hand side vacant cell filled with zeros\n",
    "print(a>>b) # left hand side vacant cell filled with zero if bit value is positive otherwise filled with 1"
   ]
  },
  {
   "cell_type": "code",
   "execution_count": null,
   "metadata": {
    "colab": {
     "base_uri": "https://localhost:8080/"
    },
    "id": "_clAlOWDtjII",
    "outputId": "c8ba12c1-135d-45ae-f37d-b7ba0bf6755a"
   },
   "outputs": [
    {
     "name": "stdout",
     "output_type": "stream",
     "text": [
      "12\n",
      "225\n"
     ]
    }
   ],
   "source": [
    "#8 Assignment operators\n",
    "y=15\n",
    "x=10\n",
    "x+=2  # that is x=x+2\n",
    "print(x)\n",
    "y**=2\n",
    "print(y)"
   ]
  },
  {
   "cell_type": "code",
   "execution_count": null,
   "metadata": {
    "colab": {
     "base_uri": "https://localhost:8080/"
    },
    "id": "QXAtmpIAt97m",
    "outputId": "05878b6d-c1d0-4267-e967-9bfd272b8bce"
   },
   "outputs": [
    {
     "name": "stdout",
     "output_type": "stream",
     "text": [
      "minimum value is 20\n",
      "a is minimum\n"
     ]
    }
   ],
   "source": [
    "#9 Ternary operators \n",
    "a=20\n",
    "b=50\n",
    "c=60\n",
    "min=a if a<b else b\n",
    "print(\"minimum value is\",min)\n",
    "print(\"a is minimum\" if a<b else \"a is maximum\")"
   ]
  },
  {
   "cell_type": "code",
   "execution_count": null,
   "metadata": {
    "colab": {
     "base_uri": "https://localhost:8080/"
    },
    "id": "Chk9SJrCw3WZ",
    "outputId": "1b53df69-ddcc-48da-d44f-a584a64f20ce"
   },
   "outputs": [
    {
     "name": "stdout",
     "output_type": "stream",
     "text": [
      "enter the value:20\n",
      "enter the value:10\n",
      "minimum value is 10\n"
     ]
    }
   ],
   "source": [
    "a=int(input(\"enter the value:\"))\n",
    "b=int(input(\"enter the value:\"))\n",
    "min=a if a<b else b\n",
    "print(\"minimum value is\",min)"
   ]
  },
  {
   "cell_type": "code",
   "execution_count": null,
   "metadata": {
    "colab": {
     "base_uri": "https://localhost:8080/"
    },
    "id": "GYmeGcqAxSOu",
    "outputId": "f5a3b534-1df6-4572-d110-34d2c4451594"
   },
   "outputs": [
    {
     "name": "stdout",
     "output_type": "stream",
     "text": [
      "11256352\n",
      "11256352\n",
      "11256512\n",
      "True\n",
      "False\n",
      "False\n"
     ]
    }
   ],
   "source": [
    "#10 Special operators\n",
    "#1Identity operators -->used for comparing purposes like content(== and !=),adress(is and is not) etc\n",
    "a=10\n",
    "b=10\n",
    "c=15\n",
    "print(id(a)) #adress command\n",
    "print(id(b))\n",
    "print(id(c))\n",
    "print(a is b)\n",
    "print(b is c)\n",
    "print(a is not b)\n"
   ]
  },
  {
   "cell_type": "code",
   "execution_count": null,
   "metadata": {
    "colab": {
     "base_uri": "https://localhost:8080/"
    },
    "id": "yabrOp-qzT3Y",
    "outputId": "b4455ca6-79c6-4a76-aa8f-2412eb0a526e"
   },
   "outputs": [
    {
     "name": "stdout",
     "output_type": "stream",
     "text": [
      "True\n",
      "False\n",
      "True\n"
     ]
    }
   ],
   "source": [
    "a=10\n",
    "b=10\n",
    "c=15\n",
    "print(a==b)\n",
    "print(a!=b)\n",
    "print(a!=c)"
   ]
  },
  {
   "cell_type": "code",
   "execution_count": null,
   "metadata": {
    "colab": {
     "base_uri": "https://localhost:8080/"
    },
    "id": "9cewAvl-zmx0",
    "outputId": "def6f820-549b-4777-bc21-30b998086bb9"
   },
   "outputs": [
    {
     "name": "stdout",
     "output_type": "stream",
     "text": [
      "True\n",
      "False\n",
      "True\n",
      "False\n",
      "True\n"
     ]
    }
   ],
   "source": [
    "#2 membership operator --. to check wheather the object is present or not\n",
    "list=[10,20,30]\n",
    "s=\"Hoe are you\"\n",
    "print(10 in list)\n",
    "print(10 not in list)\n",
    "print('H' in s)\n",
    "print('L' in s) #output will be false since python is case sensitive\n",
    "print(' ' in s)"
   ]
  }
 ],
 "metadata": {
  "colab": {
   "collapsed_sections": [],
   "name": "Operators in python.ipnyb",
   "provenance": []
  },
  "kernelspec": {
   "display_name": "Python 3",
   "name": "python3"
  },
  "language_info": {
   "name": "python"
  }
 },
 "nbformat": 4,
 "nbformat_minor": 0
}
