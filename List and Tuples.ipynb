{
 "cells": [
  {
   "cell_type": "markdown",
   "id": "bccd0e0a",
   "metadata": {
    "ExecuteTime": {
     "end_time": "2022-08-23T15:56:27.275314Z",
     "start_time": "2022-08-23T15:56:27.246299Z"
    }
   },
   "source": [
    "## LISTS"
   ]
  },
  {
   "cell_type": "code",
   "execution_count": 1,
   "id": "e852b027",
   "metadata": {
    "ExecuteTime": {
     "end_time": "2022-08-29T07:22:33.550925Z",
     "start_time": "2022-08-29T07:22:33.521919Z"
    }
   },
   "outputs": [
    {
     "name": "stdout",
     "output_type": "stream",
     "text": [
      "computer\n",
      "monitor\n",
      "keyboard\n",
      "mouse\n",
      "mouse mat\n",
      "\n",
      "keyboard\n",
      "['computer', 'monitor', 'keyboard']\n",
      "mouse mat\n"
     ]
    }
   ],
   "source": [
    "#list \n",
    "computer_parts = [\"computer\",\n",
    "                  \"monitor\",\n",
    "                  \"keyboard\",\n",
    "                  \"mouse\",\n",
    "                  \"mouse mat\"\n",
    "                  ]\n",
    "\n",
    "for part in computer_parts:\n",
    "    print(part)\n",
    "\n",
    "print()\n",
    "print(computer_parts[2])\n",
    "\n",
    "print(computer_parts[0:3])\n",
    "print(computer_parts[-1])"
   ]
  },
  {
   "cell_type": "code",
   "execution_count": 2,
   "id": "5ed29897",
   "metadata": {
    "ExecuteTime": {
     "end_time": "2022-08-23T15:56:27.291321Z",
     "start_time": "2022-08-23T15:56:27.278308Z"
    }
   },
   "outputs": [
    {
     "name": "stdout",
     "output_type": "stream",
     "text": [
      "1886474821552\n",
      "1886474821552\n",
      "1886470768944\n",
      "1886474821552\n"
     ]
    }
   ],
   "source": [
    "# finding id on immutable object (here id will change if we alter the data)\n",
    "result = \"Correct\"\n",
    "another_result = result\n",
    "print(id(result))\n",
    "print(id(another_result))\n",
    "\n",
    "result += \"ish\"\n",
    "print(id(result))\n",
    "print(id(another_result))"
   ]
  },
  {
   "cell_type": "code",
   "execution_count": 3,
   "id": "ca335550",
   "metadata": {
    "ExecuteTime": {
     "end_time": "2022-08-23T15:56:27.307480Z",
     "start_time": "2022-08-23T15:56:27.295322Z"
    }
   },
   "outputs": [
    {
     "name": "stdout",
     "output_type": "stream",
     "text": [
      "1886475048064\n",
      "1886475048064\n",
      "['milk', 'pasta', 'eggs', 'spam', 'bread', 'rice', 'cookies']\n",
      "1886475048064\n"
     ]
    }
   ],
   "source": [
    "#finding id on mutable object(here id won't change even if we alter the data)\n",
    "shopping_list = [\"milk\",\n",
    "                 \"pasta\",\n",
    "                 \"eggs\",\n",
    "                 \"spam\",\n",
    "                 \"bread\",\n",
    "                 \"rice\"\n",
    "                 ]\n",
    "another_list = shopping_list\n",
    "print(id(shopping_list))\n",
    "print(id(another_list))\n",
    "\n",
    "shopping_list += [\"cookies\"]\n",
    "print(shopping_list)\n",
    "print(id(shopping_list))"
   ]
  },
  {
   "cell_type": "code",
   "execution_count": 4,
   "id": "c72c6baa",
   "metadata": {
    "ExecuteTime": {
     "end_time": "2022-08-23T15:56:27.322986Z",
     "start_time": "2022-08-23T15:56:27.310382Z"
    }
   },
   "outputs": [
    {
     "name": "stdout",
     "output_type": "stream",
     "text": [
      "['milk', 'pasta', 'eggs', 'spam', 'bread', 'rice', 'cookies']\n",
      "Adding cream\n",
      "['milk', 'pasta', 'eggs', 'spam', 'bread', 'rice', 'cookies', 'cream']\n",
      "['milk', 'pasta', 'eggs', 'spam', 'bread', 'rice', 'cookies', 'cream']\n"
     ]
    }
   ],
   "source": [
    "#binding(adding) multiple values to a sequence\n",
    "shopping_list = [\"milk\",\n",
    "                 \"pasta\",\n",
    "                 \"eggs\",\n",
    "                 \"spam\",\n",
    "                 \"bread\",\n",
    "                 \"rice\"\n",
    "                 ]\n",
    "another_list = shopping_list\n",
    "shopping_list += [\"cookies\"]\n",
    "a = b = c = d = e = f = another_list\n",
    "print(a)\n",
    "\n",
    "print(\"Adding cream\")\n",
    "b.append(\"cream\")\n",
    "print(c)\n",
    "print(d)\n"
   ]
  },
  {
   "cell_type": "code",
   "execution_count": 5,
   "id": "94fc23bb",
   "metadata": {
    "ExecuteTime": {
     "end_time": "2022-08-23T15:56:27.338418Z",
     "start_time": "2022-08-23T15:56:27.325409Z"
    }
   },
   "outputs": [
    {
     "name": "stdout",
     "output_type": "stream",
     "text": [
      "2\n",
      "8\n",
      "1\n",
      "9\n",
      "\n",
      "4\n",
      "5\n"
     ]
    }
   ],
   "source": [
    "# finding min,max and length in number list \n",
    "even = [2, 4, 6, 8]\n",
    "odd = [1, 3, 5, 7, 9]\n",
    "\n",
    "print(min(even))\n",
    "print(max(even))\n",
    "print(min(odd))\n",
    "print(max(odd))\n",
    "\n",
    "print()\n",
    "print(len(even))\n",
    "print(len(odd))\n",
    "\n"
   ]
  },
  {
   "cell_type": "code",
   "execution_count": null,
   "id": "a83857cd",
   "metadata": {
    "ExecuteTime": {
     "start_time": "2022-08-23T15:56:27.248Z"
    }
   },
   "outputs": [
    {
     "name": "stdout",
     "output_type": "stream",
     "text": [
      "Please add options from the list below:\n",
      "1: computer\n",
      "2: monitor\n"
     ]
    }
   ],
   "source": [
    "# Appending function in list\n",
    "current_choice = \"-\"\n",
    "computer_parts = [] # create an empty list and adding object to this list\n",
    "\n",
    "while current_choice != '0':\n",
    "    if current_choice in \"12\":\n",
    "        print(\"Adding {}\".format(current_choice))\n",
    "        if current_choice == '1':\n",
    "            computer_parts.append(\"computer\")\n",
    "        elif current_choice == '2':\n",
    "            computer_parts.append(\"monitor\")\n",
    "    else:\n",
    "        print(\"Please add options from the list below:\")\n",
    "        print(\"1: computer\")\n",
    "        print(\"2: monitor\")\n",
    "\n",
    "    current_choice = input()\n",
    "\n",
    "print(computer_parts)\n"
   ]
  },
  {
   "cell_type": "code",
   "execution_count": null,
   "id": "2682216a",
   "metadata": {
    "ExecuteTime": {
     "start_time": "2022-08-23T15:56:27.249Z"
    }
   },
   "outputs": [],
   "source": [
    "# iteration over a list\n",
    "available_parts = [\"computer\",\n",
    "                   \"monitor\",\n",
    "                   \"keyboard\",\n",
    "                   \"mouse\",\n",
    "                   \"mouse mat\",\n",
    "                   \"hdmi cable\",\n",
    "                   \"dvd drive\"\n",
    "                   ]\n",
    "current_choice = \"-\"\n",
    "computer_parts = [] # create an empty list\n",
    "\n",
    "while current_choice != '0':\n",
    "    if current_choice in \"123456\":\n",
    "        print(\"Adding {}\".format(current_choice))\n",
    "        if current_choice == '1':\n",
    "            computer_parts.append(\"computer\")\n",
    "        elif current_choice == '2':\n",
    "            computer_parts.append(\"monitor\")\n",
    "        elif current_choice == '3':\n",
    "            computer_parts.append(\"keyboard\")\n",
    "        elif current_choice == '4':\n",
    "            computer_parts.append(\"mouse\")\n",
    "        elif current_choice == '5':\n",
    "            computer_parts.append(\"mouse mat\")\n",
    "        elif current_choice == '6':\n",
    "            computer_parts.append(\"hdmi cable\")\n",
    "    else:\n",
    "        print(\"Please add options from the list below:\")\n",
    "        for part in available_parts: # iteration\n",
    "            print(\"{0}: {1}\".format(available_parts.index(part) + 1, part))\n",
    "\n",
    "    current_choice = input()\n",
    "\n",
    "print(computer_parts)\n",
    "\n"
   ]
  },
  {
   "cell_type": "code",
   "execution_count": null,
   "id": "85caa2ed",
   "metadata": {
    "ExecuteTime": {
     "start_time": "2022-08-23T15:56:27.250Z"
    }
   },
   "outputs": [],
   "source": [
    "# enumerate function for assigning indwx\n",
    "for index, character in enumerate(\"abcdefgh\"):\n",
    "    print(index, character)\n"
   ]
  },
  {
   "cell_type": "code",
   "execution_count": null,
   "id": "b0cb534f",
   "metadata": {
    "ExecuteTime": {
     "start_time": "2022-08-23T16:04:36.231Z"
    }
   },
   "outputs": [],
   "source": [
    "#removing objects from list\n",
    "available_parts = [\"computer\",\n",
    "                   \"monitor\",\n",
    "                   \"keyboard\",\n",
    "                   \"mouse\",\n",
    "                   \"hdmi cable\",\n",
    "                   \"dvd drive\"\n",
    "                   ]\n",
    "#valid_choices = [str(i) for i in range(1, len(available_parts) +1)]\n",
    "valid_choices = []\n",
    "for i in range(1, len(available_parts) + 1):\n",
    "    valid_choices.append(str(i))\n",
    "print(valid_choices)\n",
    "current_choice = \"-\"\n",
    "computer_parts = [] # create an empty list\n",
    "\n",
    "while current_choice != '0':\n",
    "    if current_choice in valid_choices:\n",
    "        index = int(current_choice) - 1\n",
    "        chosen_part = available_parts[index]\n",
    "        if chosen_part in computer_parts:\n",
    "            print(\"Removing {}\".format(current_choice))\n",
    "            computer_parts.remove(chosen_part) # removing function\n",
    "        else:\n",
    "            print(\"Adding {}\".format(current_choice))\n",
    "            computer_parts.append(chosen_part)\n",
    "        print(\"Your list now contains: {}\".format(computer_parts))\n",
    "    else:\n",
    "        print(\"Please add options from the list below:\")\n",
    "        for number, part in enumerate(available_parts):\n",
    "            print(\"{0}: {1}\".format(number + 1, part))\n",
    "\n",
    "    current_choice = input()\n",
    "\n",
    "print(computer_parts)\n"
   ]
  },
  {
   "cell_type": "code",
   "execution_count": null,
   "id": "99ec8efc",
   "metadata": {
    "ExecuteTime": {
     "start_time": "2022-08-23T16:07:29.631Z"
    }
   },
   "outputs": [],
   "source": [
    "#sorting in list\n",
    "pangram = \"I am learning python from past 5 months\"\n",
    "\n",
    "letters = sorted(pangram)\n",
    "print(letters)\n",
    "\n",
    "numbers = [2.3, 4.5, 8.7, 3.1, 9.2, 1.6]\n",
    "sorted = sorted(numbers)\n",
    "print(sorted)\n",
    "print(numbers)\n",
    "\n",
    "numbers.sort()\n",
    "print(numbers)\n",
    "\n",
    "missing_letter = sorted(\"I am learning python from past 5 months\")\n",
    "print(missing_letter)\n"
   ]
  },
  {
   "cell_type": "code",
   "execution_count": null,
   "id": "33cbcb7f",
   "metadata": {
    "ExecuteTime": {
     "start_time": "2022-08-23T16:10:53.582Z"
    }
   },
   "outputs": [],
   "source": [
    "# overcoming of case sensitive using casefold\n",
    "\n",
    "missing_letter = sorted(\"The quick brown fox jumped over the lazy dog\",\n",
    "                        key=str.casefold) \n",
    "print(missing_letter)\n",
    "\n",
    "names = [\"Graham\",\n",
    "         \"John\",\n",
    "         \"terry\",\n",
    "         \"eric\",\n",
    "         \"Terry\",\n",
    "         \"michael\"\n",
    "        ]\n",
    "names.sort(key=str.casefold)\n",
    "print(names)\n"
   ]
  },
  {
   "cell_type": "code",
   "execution_count": null,
   "id": "c2bc1f0c",
   "metadata": {
    "ExecuteTime": {
     "start_time": "2022-08-23T16:12:16.901Z"
    }
   },
   "outputs": [],
   "source": [
    "#creating list for creating empty var\n",
    "empty_list = []\n",
    "even = [2, 4, 6, 8]\n",
    "odd = [1, 3, 5, 7, 9]\n",
    "\n",
    "numbers = even + odd\n",
    "print(numbers) #list 1\n",
    "\n",
    "sorted_numbers = sorted(numbers) #built in function\n",
    "print(sorted_numbers)\n",
    "print(numbers) \n",
    "\n",
    "digits = list(\"432985617\")\n",
    "print(digits)\n",
    "\n",
    "# more_numbers = list(numbers)\n",
    "# more_numbers = numbers[:]\n",
    "more_numbers = numbers.copy()\n",
    "print(more_numbers)\n",
    "print(numbers is more_numbers)\n",
    "print(numbers == more_numbers)\n"
   ]
  },
  {
   "cell_type": "code",
   "execution_count": null,
   "id": "d8f2f876",
   "metadata": {
    "ExecuteTime": {
     "start_time": "2022-08-23T16:16:21.499Z"
    }
   },
   "outputs": [],
   "source": [
    "# slicing in list\n",
    "computer_parts = [\"computer\",\n",
    "                  \"monitor\",\n",
    "                  \"keyboard\",\n",
    "                  \"mouse\",\n",
    "                  \"mouse mat\"\n",
    "                  ]\n",
    "print(computer_parts)\n",
    "\n",
    "# computer_parts[3] = \"trackball\"\n",
    "print(computer_parts[3:])\n",
    "\n",
    "computer_parts[3:] = [\"trackball\"]\n",
    "print(computer_parts)\n"
   ]
  },
  {
   "cell_type": "code",
   "execution_count": null,
   "id": "a4b32282",
   "metadata": {
    "ExecuteTime": {
     "start_time": "2022-08-23T16:20:28.446Z"
    }
   },
   "outputs": [],
   "source": [
    "#deleting\n",
    "data = [4, 5, 104, 105, 110, 120, 130, 130, 150,\n",
    "        160, 170, 183, 185, 187, 188, 191, 350, 360]\n",
    "\n",
    "# del data[0:2]\n",
    "# print(data)\n",
    "# del data[14:]\n",
    "# print(data)\n",
    "\n",
    "min_valid = 100\n",
    "max_valid = 200\n",
    "\n",
    "for index, value in enumerate(data):\n",
    "    if (value < min_valid) or (value > max_valid):\n",
    "        del data[index]\n",
    "\n",
    "print(data)\n",
    "\n"
   ]
  },
  {
   "cell_type": "code",
   "execution_count": null,
   "id": "9866fad5",
   "metadata": {
    "ExecuteTime": {
     "start_time": "2022-08-23T16:22:19.584Z"
    }
   },
   "outputs": [],
   "source": [
    "#safely deletion of object\n",
    "data = [4, 5, 104, 105, 110, 120, 130, 130, 150,\n",
    "        160, 170, 183, 185, 187, 188, 191, 350, 360]\n",
    "\n",
    "min_valid = 100\n",
    "max_valid = 200\n",
    "\n",
    "# process the low values in the list\n",
    "stop = 0\n",
    "for index, value in enumerate(data):\n",
    "    if value >= min_valid:\n",
    "        stop = index\n",
    "        break\n",
    "\n",
    "print(stop) # for debugging\n",
    "del data[:stop]\n",
    "print(data)\n",
    "\n",
    "\n",
    "#backward deletion\n",
    "data = [104, 101, 4, 105, 308, 103, 5,\n",
    "        107, 100, 306, 106, 102, 108]\n",
    "min_valid = 100\n",
    "max_valid = 200\n",
    "\n",
    "for index in range(len(data) - 1, - 1, - 1):\n",
    "    if data[index] < min_valid or data[index] > max_valid:\n",
    "        print(index, data)\n",
    "        del data[index]\n",
    "\n",
    "print(data)\n",
    "\n"
   ]
  },
  {
   "cell_type": "code",
   "execution_count": null,
   "id": "bb33ea0e",
   "metadata": {
    "ExecuteTime": {
     "start_time": "2022-08-23T16:26:04.612Z"
    }
   },
   "outputs": [],
   "source": [
    "#reverse function\n",
    "data = [104, 101, 4, 105, 308, 103, 5,\n",
    "        107, 100, 306, 106, 102, 108]\n",
    "min_valid = 100\n",
    "max_valid = 200\n",
    "top_index = len(data) - 1\n",
    "for index, value in enumerate(reversed(data)):\n",
    "    if value < min_valid or value > max_valid:\n",
    "        print(top_index - index, value)\n",
    "        del data[top_index - index]\n",
    "\n",
    "print(data)\n"
   ]
  },
  {
   "cell_type": "code",
   "execution_count": null,
   "id": "ac8279b5",
   "metadata": {
    "ExecuteTime": {
     "start_time": "2022-08-23T16:29:09.188Z"
    }
   },
   "outputs": [],
   "source": [
    "#algarithms performed\n",
    "import timeit\n",
    "\n",
    "max_value = 100000000\n",
    "min_valid = 10\n",
    "max_valid = 99999997\n",
    "\n",
    "data_list1 = list(range(max_value))\n",
    "data_list2 = list(range(max_value))\n",
    "# data_list3 = list(range(max_value))\n",
    "\n",
    "\n",
    "def sanitise_1(data):\n",
    "    # process the low values in the list\n",
    "    stop = 0\n",
    "    for index, value in enumerate(data):\n",
    "        if value >= min_valid:\n",
    "            stop = index\n",
    "            break\n",
    "\n",
    "    del data[:stop]\n",
    "\n",
    "    start = 0\n",
    "    for index in range(len(data) - 1, -1, -1):\n",
    "        if data[index] <= max_valid:\n",
    "            # We have the index of last item to keep.\n",
    "            # Set 'start' to the position of the first\n",
    "            # item to delete, which is 1 after 'index'.\n",
    "            start = index + 1\n",
    "            break\n",
    "\n",
    "    del data[start:]\n",
    "\n",
    "\n",
    "def sanitise_2(data):\n",
    "    top_index = len(data) - 1\n",
    "    for index, value in enumerate(reversed(data)):\n",
    "        if value < min_valid or value > max_valid:\n",
    "            del data[top_index - index]\n",
    "\n",
    "\n",
    "def sanitise_3(data):\n",
    "    for index in range(len(data) - 1, -1, -1):\n",
    "        if data[index] < min_valid or data[index] > max_valid:\n",
    "            del data[index]\n",
    "\n",
    "\n",
    "if __name__ == \"__main__\":\n",
    "    print(\"Timing\")\n",
    "    x = timeit.timeit(\"sanitise_1(data_list1)\",\n",
    "                      setup=\"from __main__ import sanitise_1,\"\n",
    "                            \"data_list1\",\n",
    "                      number=1)\n",
    "    print(\"{:15.15f}\".format(x))\n",
    "    y = timeit.timeit(\"sanitise_2(data_list2)\",\n",
    "                      setup=\"from __main__ import sanitise_2,\"\n",
    "                            \"data_list2\",\n",
    "                      number=1)\n",
    "    print(\"{:15.15f}\".format(y))\n",
    "    # z = timeit.timeit(\"sanitise_3(data_list3)\",\n",
    "    #                   setup=\"from __main__ import sanitise_3,\"\n",
    "    #                         \"data_list3\",\n",
    "    #                   number=1)\n",
    "    # print(\"{:15.15f}\".format(z))\n",
    "\n",
    "    # sanitise_1(data_list1)\n",
    "    # print(data_list1)\n",
    "    # sanitise_2(data_list2)\n",
    "    # print(data_list2)\n",
    "    # sanitise_3(data_list3)\n",
    "    # print(data_list3)\n"
   ]
  },
  {
   "cell_type": "code",
   "execution_count": null,
   "id": "757d81ea",
   "metadata": {
    "ExecuteTime": {
     "start_time": "2022-08-23T16:31:29.356Z"
    }
   },
   "outputs": [],
   "source": [
    "#pep style coding\n",
    "menu = [\n",
    "    [\"egg\", \"bacon\"],\n",
    "    [\"egg\", \"sausage\", \"bacon\"],\n",
    "    [\"egg\", \"spam\"],\n",
    "    [\"egg\", \"bacon\", \"spam\"],\n",
    "    [\"egg\", \"bacon\", \"sausage\", \"spam\"],\n",
    "    [\"spam\", \"bacon\", \"sausage\", \"spam\"],\n",
    "    [\"spam\", \"sausage\", \"spam\", \"bacon\", \"spam\", \"tomato\", \"spam\"],\n",
    "    [\"spam\", \"egg\", \"spam\", \"spam\", \"bacon\", \"spam\"],\n",
    "]\n"
   ]
  },
  {
   "cell_type": "code",
   "execution_count": null,
   "id": "4d8dd4bf",
   "metadata": {
    "ExecuteTime": {
     "start_time": "2022-08-23T16:35:05.163Z"
    }
   },
   "outputs": [],
   "source": [
    "# nested function\n",
    "menu = [\n",
    "    [\"egg\", \"bacon\"],\n",
    "    [\"egg\", \"sausage\", \"bacon\"],\n",
    "    [\"egg\", \"spam\"],\n",
    "    [\"egg\", \"bacon\", \"spam\"],\n",
    "    [\"egg\", \"bacon\", \"sausage\", \"spam\"],\n",
    "    [\"spam\", \"bacon\", \"sausage\", \"spam\"],\n",
    "    [\"spam\", \"sausage\", \"spam\", \"bacon\", \"spam\", \"tomato\", \"spam\"],\n",
    "    [\"spam\", \"egg\", \"spam\", \"spam\", \"bacon\", \"spam\"],\n",
    "]\n",
    "\n",
    "for meal in menu:\n",
    "    if \"spam\" not in meal:\n",
    "        print(meal)\n",
    "\n",
    "        for item in meal:\n",
    "            print(item)\n",
    "    else:\n",
    "        print(\"{0} has a spam score of {1}\"\n",
    "              .format(meal, meal.count(\"spam\")))\n"
   ]
  },
  {
   "cell_type": "code",
   "execution_count": null,
   "id": "b7a5210a",
   "metadata": {
    "ExecuteTime": {
     "start_time": "2022-08-23T16:35:58.335Z"
    }
   },
   "outputs": [],
   "source": [
    "# seperate function\n",
    "name = \"Tim\"\n",
    "age = 10\n",
    "\n",
    "print(name, age, \"Python\", 2020)\n",
    "print(name, age, \"Python\", 2020, sep=\", \")\n"
   ]
  },
  {
   "cell_type": "code",
   "execution_count": null,
   "id": "34873354",
   "metadata": {
    "ExecuteTime": {
     "start_time": "2022-08-23T16:37:05.620Z"
    }
   },
   "outputs": [],
   "source": [
    "#joining\n",
    "flowers = [\n",
    "    \"Daffodil\",\n",
    "    \"Evening Primrose\",\n",
    "    \"Hydrangea\",\n",
    "    \"Iris\",\n",
    "    \"Lavender\",\n",
    "    \"Sunflower\",\n",
    "    \"Tiger Lily\",\n",
    "    42,\n",
    "]\n",
    "\n",
    "# for flower in flowers:\n",
    "#     print(flower)\n",
    "\n",
    "separator = \", \"\n",
    "output = separator.join(flowers)\n",
    "print(output)\n",
    "\n",
    "print(\",\".join(flowers))\n"
   ]
  },
  {
   "cell_type": "code",
   "execution_count": null,
   "id": "768155c0",
   "metadata": {
    "ExecuteTime": {
     "start_time": "2022-08-23T16:38:31.629Z"
    }
   },
   "outputs": [],
   "source": [
    "#splitting method\n",
    "panagram = \"\"\"The quick brown\n",
    "fox jumps\\tover\n",
    "the lazy dog\"\"\"\n",
    "\n",
    "words = panagram.split()\n",
    "print(words)\n",
    "\n",
    "numbers = \"9,223,372,036,854,775,807\"\n",
    "print(numbers.split(\",\"))\n",
    "\n",
    "# values = \"\".join(char if char not in separators else \" \" for char in numbers).split()\n",
    "generated_list = ['9', ' ',\n",
    "                  '2', '2', '3', ' ',\n",
    "                  '3', '7', '2', ' ',\n",
    "                  '0', '3', '6', ' ',\n",
    "                  '8', '5', '4', ' ',\n",
    "                  '7', '7', '5', ' ',\n",
    "                  '8', '0', '7']\n",
    "values = \"\".join(generated_list)\n",
    "print(values)\n",
    "\n",
    "values_list = values.split()\n",
    "print(values_list)\n",
    "\n",
    "# Use a for loop to produce a list of ints, rather than strings.\n",
    "# You can either modify the contents of the 'values_list' list in place,\n",
    "# or create a new list of ints.\n",
    "|"
   ]
  },
  {
   "cell_type": "markdown",
   "id": "494e026c",
   "metadata": {},
   "source": [
    "## TUPLES\n"
   ]
  },
  {
   "cell_type": "code",
   "execution_count": null,
   "id": "ea9810d3",
   "metadata": {
    "ExecuteTime": {
     "start_time": "2022-08-23T16:41:40.545Z"
    }
   },
   "outputs": [],
   "source": [
    "t = (\"a\", \"b\", \"c\")\n",
    "print(t)\n"
   ]
  },
  {
   "cell_type": "code",
   "execution_count": null,
   "id": "292c3a7b",
   "metadata": {
    "ExecuteTime": {
     "start_time": "2022-08-23T16:42:24.016Z"
    }
   },
   "outputs": [],
   "source": [
    "#tuples are immutable\n",
    "welcome = \"Welcome to my Nightmare\", \"Alice Cooper\", 1975\n",
    "bad = \"Bad Company\", \"Bad Company\", 1974\n",
    "budgie = \"Nightflight\", \"Budgie\", 1981\n",
    "imelda = \"More Mayhem\", \"Emilda May\", 2011\n",
    "metallica = \"Ride the Lightning\", \"Metallica\", 1984\n",
    "\n",
    "print(metallica)\n",
    "print(metallica[0])\n",
    "print(metallica[1])\n",
    "print(metallica[2])\n",
    "\n",
    "metallica2 = list(metallica)\n",
    "print(metallica2)\n",
    "\n",
    "metallica2[0] = \"Master of Puppets\"\n",
    "print(metallica2)\n"
   ]
  },
  {
   "cell_type": "code",
   "execution_count": null,
   "id": "fa96f489",
   "metadata": {
    "ExecuteTime": {
     "start_time": "2022-08-23T16:47:25.465Z"
    }
   },
   "outputs": [],
   "source": [
    "#unpackinf tuples\n",
    "a = b = c = d = e = f = 42\n",
    "print(c)\n",
    "\n",
    "x, y, z = 1, 2, 76\n",
    "print(x)\n",
    "print(y)\n",
    "print(z)\n",
    "\n",
    "print(\"Unpacking a tuple\")\n",
    "\n",
    "data = 1, 2, 76  # data represents a tuple\n",
    "x, y, z = data\n",
    "print(x)\n",
    "print(y)\n",
    "print(z)\n",
    "\n",
    "print(\"Unpacking a list\")\n",
    "\n",
    "data_list = [12, 13, 14]\n",
    "data_list.append(15)\n",
    "\n",
    "p, q, r = data_list\n",
    "print(p)\n",
    "print(q)\n",
    "print(r)\n"
   ]
  },
  {
   "cell_type": "code",
   "execution_count": null,
   "id": "8510570d",
   "metadata": {
    "ExecuteTime": {
     "start_time": "2022-08-23T16:49:46.888Z"
    }
   },
   "outputs": [],
   "source": [
    "#nested data\n",
    "albums = [\n",
    "    (\"Welcome to my Nightmare\", \"Alice Cooper\", 1975,\n",
    "     [\n",
    "         (1, \"Welcome to my Nightmare\"),\n",
    "         (2, \"Devil's Food\"),\n",
    "         (3, \"The Black Widow\"),\n",
    "         (4, \"Some Folks\"),\n",
    "         (5, \"Only Women Bleed\"),\n",
    "     ]\n",
    "     ),\n",
    "    (\"Bad Company\", \"Bad Company\", 1974,\n",
    "     [\n",
    "         (1, \"Can't Get Enough\"),\n",
    "         (2, \"Rock Steady\"),\n",
    "         (3, \"Ready for Love\"),\n",
    "         (4, \"Don't Let Me Down\"),\n",
    "         (5, \"Bad Company\"),\n",
    "         (6, \"The Way I Choose\"),\n",
    "         (7, \"Movin' On\"),\n",
    "         (8, \"Seagull\"),\n",
    "     ]\n",
    "     ),\n",
    "    (\"Nightflight\", \"Budgie\", 1981,\n",
    "     [\n",
    "         (1, \"I Turned to Stone\"),\n",
    "         (2, \"Keeping a Rendezvous\"),\n",
    "         (3, \"Reaper of the Glory\"),\n",
    "         (4, \"She Used Me Up\"),\n",
    "     ]\n",
    "     ),\n",
    "    (\"More Mayhem\", \"Imelda May\", 2011,\n",
    "     [\n",
    "         (1, \"Pulling the Rug\"),\n",
    "         (2, \"Psycho\"),\n",
    "         (3, \"Mayhem\"),\n",
    "         (4, \"Kentish Town Waltz\"),\n",
    "     ]\n",
    "     ),\n",
    "]\n",
    "\n",
    "for name, artist, year, songs in albums:\n",
    "    print(\"Album: {}, Artist: {}, Year: {}, Songs: {}\"\n",
    "          .format(name, artist, year, songs))\n",
    "\n",
    "print()\n",
    "\n",
    "album = albums[2]\n",
    "print(album)\n",
    "\n",
    "songs = album[3]\n",
    "print(songs)\n",
    "\n",
    "song = songs[1]\n",
    "print(song)\n",
    "print(song[1])\n"
   ]
  },
  {
   "cell_type": "code",
   "execution_count": null,
   "id": "85dbade5",
   "metadata": {},
   "outputs": [],
   "source": [
    "albums = [\n",
    "    (\"Welcome to my Nightmare\", \"Alice Cooper\", 1975,\n",
    "     [\n",
    "         (1, \"Welcome to my Nightmare\"),\n",
    "         (2, \"Devil's Food\"),\n",
    "         (3, \"The Black Widow\"),\n",
    "         (4, \"Some Folks\"),\n",
    "         (5, \"Only Women Bleed\"),\n",
    "     ]\n",
    "     ),\n",
    "    (\"Bad Company\", \"Bad Company\", 1974,\n",
    "     [\n",
    "         (1, \"Can't Get Enough\"),\n",
    "         (2, \"Rock Steady\"),\n",
    "         (3, \"Ready for Love\"),\n",
    "         (4, \"Don't Let Me Down\"),\n",
    "         (5, \"Bad Company\"),\n",
    "         (6, \"The Way I Choose\"),\n",
    "         (7, \"Movin' On\"),\n",
    "         (8, \"Seagull\"),\n",
    "     ]\n",
    "     ),\n",
    "    (\"Nightflight\", \"Budgie\", 1981,\n",
    "     [\n",
    "         (1, \"I Turned to Stone\"),\n",
    "         (2, \"Keeping a Rendezvous\"),\n",
    "         (3, \"Reaper of the Glory\"),\n",
    "         (4, \"She Used Me Up\"),\n",
    "     ]\n",
    "     ),\n",
    "    (\"More Mayhem\", \"Imelda May\", 2011,\n",
    "     [\n",
    "         (1, \"Pulling the Rug\"),\n",
    "         (2, \"Psycho\"),\n",
    "         (3, \"Mayhem\"),\n",
    "         (4, \"Kentish Town Waltz\"),\n",
    "     ]\n",
    "     ),\n",
    "]\n",
    "\n",
    "SONGS_LIST = 3\n",
    "SONG_TITLE = 1\n",
    "\n",
    "while True:\n",
    "    print(\"Please choose your album (invalid choice exits):\")\n",
    "    for index, (title, artist, year, songs) in enumerate(albums):\n",
    "        print(\"{}: {}\".format(index + 1, title))\n",
    "\n",
    "    choice = int(input())\n",
    "    if 1 <= choice <= len(albums):\n",
    "        songs_list = albums[choice - 1][SONGS_LIST]\n",
    "    else:\n",
    "        break\n",
    "\n",
    "    print(\"Please choose your song:\")\n",
    "    for index, (track_number, song) in enumerate(songs_list):\n",
    "        print(\"{}: {}\".format(index + 1, song))\n",
    "\n",
    "    song_choice = int(input())\n",
    "    if 1 <= song_choice <= len(songs_list):\n",
    "        title = songs_list[song_choice - 1][SONG_TITLE]\n",
    "    else:\n",
    "        break\n",
    "\n",
    "    print(\"Playing {}\".format(title))\n",
    "    print(\"=\" * 40)"
   ]
  },
  {
   "cell_type": "code",
   "execution_count": null,
   "id": "687c5108",
   "metadata": {
    "ExecuteTime": {
     "start_time": "2022-08-23T16:52:54.389Z"
    }
   },
   "outputs": [],
   "source": [
    "#juke box simple\n",
    "\n",
    "juke boxfrom nested_data import albums\n",
    "\n",
    "print(albums)\n"
   ]
  },
  {
   "cell_type": "code",
   "execution_count": null,
   "id": "92c6c79e",
   "metadata": {
    "ExecuteTime": {
     "start_time": "2022-08-23T16:54:40.776Z"
    }
   },
   "outputs": [],
   "source": [
    "#nested jke box\n",
    "from nested_data import albums\n",
    "\n",
    "while True:\n",
    "    print(\"Please choose your album (invalid choice exits):\")\n",
    "    for index, (title, artist, year, songs) in enumerate(albums):\n",
    "        print(\"{}: {}, {}, {}, {}\"\n",
    "              .format(index + 1, title, artist, year, songs))\n",
    "\n",
    "    for index, value in enumerate(albums):\n",
    "        title, artist, year, songs = value\n",
    "        print(index, title, artist, year, songs)\n",
    "\n",
    "    break\n"
   ]
  },
  {
   "cell_type": "code",
   "execution_count": null,
   "id": "01fe69f4",
   "metadata": {},
   "outputs": [],
   "source": [
    "from nested_data import albums\n",
    "\n",
    "SONGS_LIST_INDEX = 3\n",
    "SONG_TITLE_INDEX = 1\n",
    "\n",
    "while True:\n",
    "    print(\"Please choose your album (invalid choice exits):\")\n",
    "    for index, (title, artist, year, songs) in enumerate(albums):\n",
    "        print(\"{}: {}\".format(index + 1, title))\n",
    "\n",
    "    choice = int(input())\n",
    "    if 1 <= choice <= len(albums):\n",
    "        songs_list = albums[choice -1][SONGS_LIST_INDEX]\n",
    "    else:\n",
    "        break\n",
    "\n",
    "    print(\"Please choose your song:\")\n",
    "    for index, (track_number, song) in enumerate(songs_list):\n",
    "        print(\"{}: {}\".format(index + 1, song))\n",
    "\n",
    "    song_choice = int(input())\n",
    "    if 1 <= song_choice <= len(songs_list):\n",
    "        title = songs_list[song_choice - 1][SONG_TITLE_INDEX]\n",
    "    else:\n",
    "        break\n",
    "\n",
    "    print(\"Playing {}\".format(title))\n",
    "    print(\"=\" * 40)\n"
   ]
  }
 ],
 "metadata": {
  "kernelspec": {
   "display_name": "Python 3 (ipykernel)",
   "language": "python",
   "name": "python3"
  },
  "language_info": {
   "codemirror_mode": {
    "name": "ipython",
    "version": 3
   },
   "file_extension": ".py",
   "mimetype": "text/x-python",
   "name": "python",
   "nbconvert_exporter": "python",
   "pygments_lexer": "ipython3",
   "version": "3.9.7"
  }
 },
 "nbformat": 4,
 "nbformat_minor": 5
}
