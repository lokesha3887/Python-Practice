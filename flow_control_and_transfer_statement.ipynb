{
  "nbformat": 4,
  "nbformat_minor": 0,
  "metadata": {
    "colab": {
      "name": "flow control and transfer statement",
      "provenance": []
    },
    "kernelspec": {
      "name": "python3",
      "display_name": "Python 3"
    },
    "language_info": {
      "name": "python"
    }
  },
  "cells": [
    {
      "cell_type": "code",
      "execution_count": null,
      "metadata": {
        "id": "C-JyKW04CkyA"
      },
      "outputs": [],
      "source": [
        "#there are 3 types of flow control\n",
        "#1 Conditional statement or selection statement\n",
        "#based on some conditions some actions will takes place \n"
      ]
    },
    {
      "cell_type": "code",
      "source": [
        "#examples\n",
        "#write a program if name is durga then say hi durga ,good morning if is not ,say hi bro good morning.\n",
        "name=input(\"Enter a name:\")\n",
        "if name==\"durga\":\n",
        "  print(\"Hi durga\",end=\" \")\n",
        "else:\n",
        "  print(\"Hi bro\",end=\" \")\n",
        "print(\"good morning\",end=\" \")  \n",
        "\n"
      ],
      "metadata": {
        "colab": {
          "base_uri": "https://localhost:8080/"
        },
        "id": "v-NIDz-PDOOF",
        "outputId": "bc3a3c0f-66d2-49a6-cb8c-8e1893ec4f9e"
      },
      "execution_count": null,
      "outputs": [
        {
          "output_type": "stream",
          "name": "stdout",
          "text": [
            "Enter a name:loka\n",
            "Hi bro good morning "
          ]
        }
      ]
    },
    {
      "cell_type": "code",
      "source": [
        "#for the same program entering name as durga\n",
        "name=input(\"Enter a name:\")\n",
        "if name==\"durga\":\n",
        "  print(\"Hi durga\",end=\" \")\n",
        "else:\n",
        "  print(\"Hi bro\",end=\" \")\n",
        "print(\"good morning\",end=\" \") "
      ],
      "metadata": {
        "colab": {
          "base_uri": "https://localhost:8080/"
        },
        "id": "XjhZBJX-FUOJ",
        "outputId": "33cfe6bb-3e7d-4c41-f6ec-11682cdb0e7c"
      },
      "execution_count": null,
      "outputs": [
        {
          "output_type": "stream",
          "name": "stdout",
          "text": [
            "Enter a name:durga\n",
            "Hi durga good morning "
          ]
        }
      ]
    },
    {
      "cell_type": "code",
      "source": [
        "#write a program to distinguish a marks as fail,pass,first class and distinction\n",
        "marks=int(input(\"Enter a marks:\"))\n",
        "if marks>=90:\n",
        "  print(\"distinction\")\n",
        "elif marks>=60 and marks<90:\n",
        "  print(\"First class\")\n",
        "elif marks<60 and marks>=40:\n",
        "  print(\"pass\")\n",
        "else:\n",
        "  print(\"fail\")"
      ],
      "metadata": {
        "colab": {
          "base_uri": "https://localhost:8080/"
        },
        "id": "HANCiI6iFpb_",
        "outputId": "a254ed21-4f48-4d7a-de1b-3d588d71102f"
      },
      "execution_count": null,
      "outputs": [
        {
          "output_type": "stream",
          "name": "stdout",
          "text": [
            "Enter a marks:92\n",
            "distinction\n"
          ]
        }
      ]
    },
    {
      "cell_type": "code",
      "source": [
        "#write code to chech weather the given number 'n' is lies between 'n1' and 'n2'\n",
        "n1=int(input(\"enter n1:\"))\n",
        "n2=int(input(\"enter n2:\"))\n",
        "n=int(input(\"enter n:\"))\n",
        "if n1<=n<=n2:\n",
        "  print(\"the number {} is lies between {} and {}\".format(n,n1,n2))\n",
        "else:\n",
        "     print(\"the number {} is not lies between {} and {}\".format(n,n1,n2))"
      ],
      "metadata": {
        "colab": {
          "base_uri": "https://localhost:8080/"
        },
        "id": "i2pzSOwmIDQi",
        "outputId": "d0cd9e94-8624-49df-8a10-83f2138d2053"
      },
      "execution_count": null,
      "outputs": [
        {
          "output_type": "stream",
          "name": "stdout",
          "text": [
            "enter n1:2\n",
            "enter n2:10\n",
            "enter n:5\n",
            "the number 5 is lies between 2 and 10\n"
          ]
        }
      ]
    },
    {
      "cell_type": "code",
      "source": [
        ""
      ],
      "metadata": {
        "colab": {
          "base_uri": "https://localhost:8080/"
        },
        "id": "ORMZ8_iRPkGX",
        "outputId": "f68ace0b-2fa4-4231-fe7b-8b2de4708915"
      },
      "execution_count": null,
      "outputs": [
        {
          "name": "stdout",
          "output_type": "stream",
          "text": [
            "Enter a charactor:l\n",
            "Enter another charactor6\n"
          ]
        }
      ]
    },
    {
      "cell_type": "code",
      "source": [
        "#2 Iterative statment -->for each element in a sequence do some action\n",
        "#! for loop (when number of iterations is pre defined or known)\n",
        "#write a program to get  each charactors in \"data science\"\n",
        "dat=\"data science\"\n",
        "for charactor in dat:\n",
        "  print(charactor)\n"
      ],
      "metadata": {
        "colab": {
          "base_uri": "https://localhost:8080/"
        },
        "id": "8ms6TZ63LKNh",
        "outputId": "edf7b1e2-ac15-4001-d36a-b9f1f4780e63"
      },
      "execution_count": null,
      "outputs": [
        {
          "output_type": "stream",
          "name": "stdout",
          "text": [
            "d\n",
            "a\n",
            "t\n",
            "a\n",
            " \n",
            "s\n",
            "c\n",
            "i\n",
            "e\n",
            "n\n",
            "c\n",
            "e\n"
          ]
        }
      ]
    },
    {
      "cell_type": "code",
      "source": [
        "#for each element in mathematics count the element by increment \n",
        "element=\"mathematics\"\n",
        "i=1\n",
        "for x in element:\n",
        "  print(i)\n",
        "  i=i+1"
      ],
      "metadata": {
        "colab": {
          "base_uri": "https://localhost:8080/"
        },
        "id": "lfbI3OrQQsqD",
        "outputId": "972e7e97-3107-4e66-e186-bd647082d5f5"
      },
      "execution_count": null,
      "outputs": [
        {
          "output_type": "stream",
          "name": "stdout",
          "text": [
            "1\n",
            "2\n",
            "3\n",
            "4\n",
            "5\n",
            "6\n",
            "7\n",
            "8\n",
            "9\n",
            "10\n",
            "11\n"
          ]
        }
      ]
    },
    {
      "cell_type": "code",
      "source": [
        "#write a program which shows that the charactor present at index 'i' is 'c'  (i=index and c=charactor)\n",
        "sub=\"statistics\"\n",
        "i=1\n",
        "for c in sub:\n",
        "  print(\"the charactor present at index {} is {}\".format(i,c))\n",
        "  i+=1"
      ],
      "metadata": {
        "colab": {
          "base_uri": "https://localhost:8080/"
        },
        "id": "SAlv7irJVcrz",
        "outputId": "5e104d14-f877-4933-cc94-b37e7236467f"
      },
      "execution_count": null,
      "outputs": [
        {
          "output_type": "stream",
          "name": "stdout",
          "text": [
            "the charactor present at index 1 is s\n",
            "the charactor present at index 2 is t\n",
            "the charactor present at index 3 is a\n",
            "the charactor present at index 4 is t\n",
            "the charactor present at index 5 is i\n",
            "the charactor present at index 6 is s\n",
            "the charactor present at index 7 is t\n",
            "the charactor present at index 8 is i\n",
            "the charactor present at index 9 is c\n",
            "the charactor present at index 10 is s\n"
          ]
        }
      ]
    },
    {
      "cell_type": "code",
      "source": [
        "#print hello 10 times using for loop\n",
        "for x in range(10):\n",
        "  print(\"hello\")"
      ],
      "metadata": {
        "colab": {
          "base_uri": "https://localhost:8080/"
        },
        "id": "oVYOldi9XVij",
        "outputId": "17ee4cb7-ba27-46b8-9cd1-62d838215001"
      },
      "execution_count": null,
      "outputs": [
        {
          "output_type": "stream",
          "name": "stdout",
          "text": [
            "hello\n",
            "hello\n",
            "hello\n",
            "hello\n",
            "hello\n",
            "hello\n",
            "hello\n",
            "hello\n",
            "hello\n",
            "hello\n"
          ]
        }
      ]
    },
    {
      "cell_type": "code",
      "source": [
        "#print even number from n1 to n2 using keyboard\n",
        "n1=int(input(\"enter number\"))\n",
        "n2=int(input(\"enter number\"))\n",
        "for x in range(n1,n2+1):\n",
        " if x%2==0:\n",
        "   print(x)"
      ],
      "metadata": {
        "colab": {
          "base_uri": "https://localhost:8080/"
        },
        "id": "qnupgIEqXzWN",
        "outputId": "ca15c1a3-ff1d-46ca-9acc-3045e063eb2a"
      },
      "execution_count": null,
      "outputs": [
        {
          "output_type": "stream",
          "name": "stdout",
          "text": [
            "enter number2\n",
            "enter number50\n",
            "2\n",
            "4\n",
            "6\n",
            "8\n",
            "10\n",
            "12\n",
            "14\n",
            "16\n",
            "18\n",
            "20\n",
            "22\n",
            "24\n",
            "26\n",
            "28\n",
            "30\n",
            "32\n",
            "34\n",
            "36\n",
            "38\n",
            "40\n",
            "42\n",
            "44\n",
            "46\n",
            "48\n",
            "50\n"
          ]
        }
      ]
    },
    {
      "cell_type": "code",
      "source": [
        "\n",
        "#while loop (when number of iteration is unknown)\n",
        "x=1\n",
        "while x<=10:\n",
        " print(x)\n",
        " x=x+1\n",
        "    "
      ],
      "metadata": {
        "colab": {
          "base_uri": "https://localhost:8080/"
        },
        "id": "rr5nKZPXZRME",
        "outputId": "f286ad58-84b7-4a1a-9fa7-e053b921c9c1"
      },
      "execution_count": null,
      "outputs": [
        {
          "output_type": "stream",
          "name": "stdout",
          "text": [
            "1\n",
            "2\n",
            "3\n",
            "4\n",
            "5\n",
            "6\n",
            "7\n",
            "8\n",
            "9\n",
            "10\n"
          ]
        }
      ]
    },
    {
      "cell_type": "code",
      "source": [
        "#find the sum of first n natural numbers use by keyboard\n",
        "n=int(input(\"Enter number:\"))\n",
        "sum=0\n",
        "i=1\n",
        "while i<=n:\n",
        "  sum+=i\n",
        "  i+=1\n",
        "print(\"the first {} natural number is {}\".format(n,sum))"
      ],
      "metadata": {
        "colab": {
          "base_uri": "https://localhost:8080/"
        },
        "id": "BLWMFAWSgZzz",
        "outputId": "82d0ad58-3df2-4e41-887e-2560bfd9ed16"
      },
      "execution_count": null,
      "outputs": [
        {
          "output_type": "stream",
          "name": "stdout",
          "text": [
            "Enter number:2\n",
            "the first 2 natural number is 3\n"
          ]
        }
      ]
    },
    {
      "cell_type": "code",
      "source": [
        "n=int(input(\"Enter number:\"))\n",
        "sum=0\n",
        "i=1\n",
        "while i<=n:\n",
        "  sum+=i\n",
        "  i+=1\n",
        "  print(\"the first {} natural number is {}\".format(i-1,sum))"
      ],
      "metadata": {
        "colab": {
          "base_uri": "https://localhost:8080/"
        },
        "id": "OYUt4LpxkFiW",
        "outputId": "c60d700f-6066-48c4-f6dc-86b84fd85650"
      },
      "execution_count": null,
      "outputs": [
        {
          "output_type": "stream",
          "name": "stdout",
          "text": [
            "Enter number:5\n",
            "the first 1 natural number is 1\n",
            "the first 2 natural number is 3\n",
            "the first 3 natural number is 6\n",
            "the first 4 natural number is 10\n",
            "the first 5 natural number is 15\n"
          ]
        }
      ]
    },
    {
      "cell_type": "code",
      "source": [
        " #write code ,if input letter belongs to statistics then print letter is in statistics otherwise ask to re enter until the input letter is in statistics\n",
        " x= \"statistics\"\n",
        " l=input(\"enter a letter:\")\n",
        "while l not in x:\n",
        "  l=input(\"enter other value:\")\n",
        "print(\"letter belongs to x\")    \n",
        "\n",
        " "
      ],
      "metadata": {
        "id": "g8PjlBV7kuHi",
        "colab": {
          "base_uri": "https://localhost:8080/"
        },
        "outputId": "ca39c652-bddd-4298-db3e-975f42b5a7cc"
      },
      "execution_count": null,
      "outputs": [
        {
          "output_type": "stream",
          "name": "stdout",
          "text": [
            "enter a letter:p\n",
            "enter other value:d\n",
            "enter other value:b\n",
            "enter other value:a\n",
            "letter belongs to x\n"
          ]
        }
      ]
    },
    {
      "cell_type": "code",
      "source": [
        "#Nested loop -->loop inside the other loop\n",
        "n=int(input(\"Enter row number:\"))\n",
        "for i in range(1,n+1):\n",
        "  for j in range(1,i+1):\n",
        "    print(\"*\",end=\"\")\n",
        "  print()\n",
        "  "
      ],
      "metadata": {
        "colab": {
          "base_uri": "https://localhost:8080/"
        },
        "id": "CPc8spmnHSfv",
        "outputId": "0b1ab347-ae0c-4db4-e095-2769534ce1bc"
      },
      "execution_count": null,
      "outputs": [
        {
          "output_type": "stream",
          "name": "stdout",
          "text": [
            "Enter row number:5\n",
            "*\n",
            "**\n",
            "***\n",
            "****\n",
            "*****\n"
          ]
        }
      ]
    },
    {
      "cell_type": "code",
      "source": [
        "#or\n",
        "n=int(input(\"enter a number:\"))\n",
        "for i in range(1,n+1):\n",
        "  print(\"*\"*i)"
      ],
      "metadata": {
        "colab": {
          "base_uri": "https://localhost:8080/"
        },
        "id": "OxHoMrVTSPIx",
        "outputId": "9957de42-372f-4320-d511-125ea5c991ae"
      },
      "execution_count": null,
      "outputs": [
        {
          "output_type": "stream",
          "name": "stdout",
          "text": [
            "enter a number:5\n",
            "*\n",
            "**\n",
            "***\n",
            "****\n",
            "*****\n"
          ]
        }
      ]
    },
    {
      "cell_type": "code",
      "source": [
        "n=int(input(\"Enter row number:\"))\n",
        "for i in range(1,n+1):\n",
        "  for j in range(1,i+1):\n",
        "    print(\"*\"*j) \n",
        "  print()\n",
        "    "
      ],
      "metadata": {
        "colab": {
          "base_uri": "https://localhost:8080/"
        },
        "id": "Y9y34IddI6xE",
        "outputId": "c490fd40-1fa7-46e5-f24e-c72510a203b7"
      },
      "execution_count": null,
      "outputs": [
        {
          "output_type": "stream",
          "name": "stdout",
          "text": [
            "Enter row number:5\n",
            "*\n",
            "\n",
            "*\n",
            "**\n",
            "\n",
            "*\n",
            "**\n",
            "***\n",
            "\n",
            "*\n",
            "**\n",
            "***\n",
            "****\n",
            "\n",
            "*\n",
            "**\n",
            "***\n",
            "****\n",
            "*****\n",
            "\n"
          ]
        }
      ]
    },
    {
      "cell_type": "code",
      "source": [
        "n=int(input(\"enter a number:\"))\n",
        "for i in range(n):\n",
        "  print(\"*\"*n)"
      ],
      "metadata": {
        "colab": {
          "base_uri": "https://localhost:8080/"
        },
        "id": "pH1LOPYjRfYU",
        "outputId": "5a2f8017-60c3-4f1c-e776-5866847b4e36"
      },
      "execution_count": null,
      "outputs": [
        {
          "output_type": "stream",
          "name": "stdout",
          "text": [
            "enter a number:3\n",
            "***\n",
            "***\n",
            "***\n"
          ]
        }
      ]
    },
    {
      "cell_type": "code",
      "source": [
        "#or\n",
        "n=int(input(\"enter a number:\"))\n",
        "for i in range(n):\n",
        "  for j in range(n):\n",
        "    print(\"*\",end=\"\")\n",
        "  print()  \n"
      ],
      "metadata": {
        "colab": {
          "base_uri": "https://localhost:8080/"
        },
        "id": "MWtCAlDgS2q4",
        "outputId": "45bb85c2-1b40-4cd9-ff33-91d84b5af272"
      },
      "execution_count": null,
      "outputs": [
        {
          "output_type": "stream",
          "name": "stdout",
          "text": [
            "enter a number:3\n",
            "***\n",
            "***\n",
            "***\n"
          ]
        }
      ]
    },
    {
      "cell_type": "code",
      "source": [
        "#Transer statement --> does something for loops\n",
        "#1 break statement\n",
        "i=1\n",
        "while i>0: #infinite loop \n",
        "  i+=1\n",
        "  print(\"*\")\n",
        "  if i==10: #breaks the infinite loop\n",
        "    break\n",
        " \n"
      ],
      "metadata": {
        "colab": {
          "base_uri": "https://localhost:8080/"
        },
        "id": "q4T2FhCsnHgx",
        "outputId": "60745b3e-f1f5-4f0d-c5fe-6812ce9c0a5b"
      },
      "execution_count": null,
      "outputs": [
        {
          "output_type": "stream",
          "name": "stdout",
          "text": [
            "*\n",
            "*\n",
            "*\n",
            "*\n",
            "*\n",
            "*\n",
            "*\n",
            "*\n",
            "*\n"
          ]
        }
      ]
    },
    {
      "cell_type": "code",
      "source": [
        "cart=[10,20,30,100,60,90]\n",
        "for item in cart:\n",
        "  if item>=100:\n",
        "    print(\"the insurance must be required:\",item)\n",
        "    break\n",
        "  print(\"the proccessing item is\",item) "
      ],
      "metadata": {
        "colab": {
          "base_uri": "https://localhost:8080/"
        },
        "id": "TYRDdM2foWj3",
        "outputId": "6ff17076-e605-477a-eb20-51bf73432486"
      },
      "execution_count": null,
      "outputs": [
        {
          "output_type": "stream",
          "name": "stdout",
          "text": [
            "the proccessing item is 10\n",
            "the proccessing item is 20\n",
            "the proccessing item is 30\n",
            "the insurance must be required: 100\n"
          ]
        }
      ]
    },
    {
      "cell_type": "code",
      "source": [
        "#2 continue statement -->to skip the current iteration and go for the next\n",
        "for i in range(10):\n",
        "  if i%2==0:\n",
        "    continue\n",
        "  print(i)  "
      ],
      "metadata": {
        "colab": {
          "base_uri": "https://localhost:8080/"
        },
        "id": "93jYQHaQtMLy",
        "outputId": "5f0a8660-d4eb-4619-c2a8-61f1dd22e371"
      },
      "execution_count": null,
      "outputs": [
        {
          "output_type": "stream",
          "name": "stdout",
          "text": [
            "1\n",
            "3\n",
            "5\n",
            "7\n",
            "9\n"
          ]
        }
      ]
    },
    {
      "cell_type": "code",
      "source": [
        "cart=[10,20,30,100,60,90,120,35,350]\n",
        "for item in cart:\n",
        "  if item>=100:\n",
        "    print(\"the insurance must be required:\",100)\n",
        "    continue\n",
        "  print(\"the proccessing item is\",item) "
      ],
      "metadata": {
        "colab": {
          "base_uri": "https://localhost:8080/"
        },
        "id": "y-HEUIxavaXq",
        "outputId": "9175bed1-0c7e-4df8-9257-bb79425d5e3b"
      },
      "execution_count": null,
      "outputs": [
        {
          "output_type": "stream",
          "name": "stdout",
          "text": [
            "the proccessing item is 10\n",
            "the proccessing item is 20\n",
            "the proccessing item is 30\n",
            "the insurance must be required: 100\n",
            "the proccessing item is 60\n",
            "the proccessing item is 90\n",
            "the insurance must be required: 100\n",
            "the proccessing item is 35\n",
            "the insurance must be required: 100\n"
          ]
        }
      ]
    },
    {
      "cell_type": "code",
      "source": [
        "cart=[10,20,30,50]\n",
        "for item in cart:\n",
        "  if item>=100:\n",
        "    print(\"the insurance must be required:\",100)\n",
        "    break\n",
        "  else:#loop free from break\n",
        "    print(\"all items are under 100\") \n"
      ],
      "metadata": {
        "colab": {
          "base_uri": "https://localhost:8080/"
        },
        "id": "SQyak1Fxv652",
        "outputId": "0fd34ae3-a0f6-4913-af47-68dd10dd5abf"
      },
      "execution_count": null,
      "outputs": [
        {
          "output_type": "stream",
          "name": "stdout",
          "text": [
            "all items are under 100\n",
            "all items are under 100\n",
            "all items are under 100\n",
            "all items are under 100\n"
          ]
        }
      ]
    },
    {
      "cell_type": "code",
      "source": [
        "#3 pass statement--> is a keyword in phython used to pass the condition without stating a statement\n",
        "for i in range(10):\n",
        "  if i%2==0:\n",
        "    print(i)\n",
        "  else:\n",
        "    pass\n",
        "\n",
        "\n",
        "\n"
      ],
      "metadata": {
        "id": "e8Iht3cwyP55",
        "colab": {
          "base_uri": "https://localhost:8080/"
        },
        "outputId": "187d3f51-1024-4d98-9d17-3a571ce90f02"
      },
      "execution_count": null,
      "outputs": [
        {
          "output_type": "stream",
          "name": "stdout",
          "text": [
            "0\n",
            "2\n",
            "4\n",
            "6\n",
            "8\n"
          ]
        }
      ]
    },
    {
      "cell_type": "code",
      "source": [
        "# del function used to delete the existing data\n",
        "x=10\n",
        "y=5\n",
        "z=20\n",
        "print(x+y+z)\n",
        "del x\n",
        "print(x+y+z) # not valid since we delete the varible x"
      ],
      "metadata": {
        "colab": {
          "base_uri": "https://localhost:8080/",
          "height": 217
        },
        "id": "1hGeKcnyRwHT",
        "outputId": "5ad5d768-f9da-4340-dd69-0d0b3db8865d"
      },
      "execution_count": null,
      "outputs": [
        {
          "output_type": "stream",
          "name": "stdout",
          "text": [
            "35\n"
          ]
        },
        {
          "output_type": "error",
          "ename": "NameError",
          "evalue": "ignored",
          "traceback": [
            "\u001b[0;31m---------------------------------------------------------------------------\u001b[0m",
            "\u001b[0;31mNameError\u001b[0m                                 Traceback (most recent call last)",
            "\u001b[0;32m<ipython-input-5-343748302dc1>\u001b[0m in \u001b[0;36m<module>\u001b[0;34m()\u001b[0m\n\u001b[1;32m      5\u001b[0m \u001b[0mprint\u001b[0m\u001b[0;34m(\u001b[0m\u001b[0mx\u001b[0m\u001b[0;34m+\u001b[0m\u001b[0my\u001b[0m\u001b[0;34m+\u001b[0m\u001b[0mz\u001b[0m\u001b[0;34m)\u001b[0m\u001b[0;34m\u001b[0m\u001b[0;34m\u001b[0m\u001b[0m\n\u001b[1;32m      6\u001b[0m \u001b[0;32mdel\u001b[0m \u001b[0mx\u001b[0m\u001b[0;34m\u001b[0m\u001b[0;34m\u001b[0m\u001b[0m\n\u001b[0;32m----> 7\u001b[0;31m \u001b[0mprint\u001b[0m\u001b[0;34m(\u001b[0m\u001b[0mx\u001b[0m\u001b[0;34m+\u001b[0m\u001b[0my\u001b[0m\u001b[0;34m+\u001b[0m\u001b[0mz\u001b[0m\u001b[0;34m)\u001b[0m\u001b[0;34m\u001b[0m\u001b[0;34m\u001b[0m\u001b[0m\n\u001b[0m",
            "\u001b[0;31mNameError\u001b[0m: name 'x' is not defined"
          ]
        }
      ]
    },
    {
      "cell_type": "code",
      "source": [
        "s=\"durga\"\n",
        "print(s[0:5])\n",
        "print(s[0:2])\n",
        "print(s[:])"
      ],
      "metadata": {
        "colab": {
          "base_uri": "https://localhost:8080/"
        },
        "id": "bTbiYTuyVgJJ",
        "outputId": "27df6c25-8dde-4a18-b6b3-8d673ba0c44d"
      },
      "execution_count": null,
      "outputs": [
        {
          "output_type": "stream",
          "name": "stdout",
          "text": [
            "durga\n",
            "du\n",
            "durga\n"
          ]
        }
      ]
    },
    {
      "cell_type": "code",
      "source": [
        ""
      ],
      "metadata": {
        "id": "sT-vCz-hZhRS"
      },
      "execution_count": null,
      "outputs": []
    },
    {
      "cell_type": "code",
      "source": [
        "#del cannot delete the function call\n",
        "s=\"durga\"\n",
        "print(id(s))\n",
        "del id(s)\n",
        "\n"
      ],
      "metadata": {
        "colab": {
          "base_uri": "https://localhost:8080/",
          "height": 130
        },
        "id": "o-Te8KayZiEl",
        "outputId": "d2f2f266-70b4-4774-a470-9177079ca922"
      },
      "execution_count": null,
      "outputs": [
        {
          "output_type": "error",
          "ename": "SyntaxError",
          "evalue": "ignored",
          "traceback": [
            "\u001b[0;36m  File \u001b[0;32m\"<ipython-input-24-aefa5863c361>\"\u001b[0;36m, line \u001b[0;32m4\u001b[0m\n\u001b[0;31m    del id(s)\u001b[0m\n\u001b[0m       ^\u001b[0m\n\u001b[0;31mSyntaxError\u001b[0m\u001b[0;31m:\u001b[0m can't delete function call\n"
          ]
        }
      ]
    },
    {
      "cell_type": "code",
      "source": [
        "#we can delete function by call it as a variable\n",
        "s=\"durga\"\n",
        "a=id(s)\n",
        "a\n",
        "del a"
      ],
      "metadata": {
        "id": "yYHBNd5OZ-ib"
      },
      "execution_count": null,
      "outputs": []
    }
  ]
}